{
 "cells": [
  {
   "cell_type": "code",
   "execution_count": 1,
   "metadata": {
    "slideshow": {
     "slide_type": "slide"
    }
   },
   "outputs": [],
   "source": [
    "import warnings\n",
    "warnings.simplefilter('ignore')\n",
    "\n",
    "# %matplotlib inline\n",
    "import matplotlib.pyplot as plt\n",
    "import numpy as np\n",
    "import pandas as pd"
   ]
  },
  {
   "cell_type": "markdown",
   "metadata": {
    "slideshow": {
     "slide_type": "subslide"
    }
   },
   "source": [
    "# Dataset:  2017nat_housing_survey1.csv\n",
    "\n",
    "Source: American Housing Survey by US Census Bureau\n",
    "\n",
    "https://www.census.gov/programs-surveys/ahs/data/2017/ahs-2017-public-use-file--puf-/2017-ahs-metropolitan-puf-microdata.html\n"
   ]
  },
  {
   "cell_type": "code",
   "execution_count": 2,
   "metadata": {
    "slideshow": {
     "slide_type": "subslide"
    }
   },
   "outputs": [
    {
     "data": {
      "text/html": [
       "<div>\n",
       "<style scoped>\n",
       "    .dataframe tbody tr th:only-of-type {\n",
       "        vertical-align: middle;\n",
       "    }\n",
       "\n",
       "    .dataframe tbody tr th {\n",
       "        vertical-align: top;\n",
       "    }\n",
       "\n",
       "    .dataframe thead th {\n",
       "        text-align: right;\n",
       "    }\n",
       "</style>\n",
       "<table border=\"1\" class=\"dataframe\">\n",
       "  <thead>\n",
       "    <tr style=\"text-align: right;\">\n",
       "      <th></th>\n",
       "      <th>CONTROL</th>\n",
       "      <th>YRBUILT</th>\n",
       "      <th>UNITSIZE</th>\n",
       "      <th>NHQSCHOOL</th>\n",
       "      <th>TOTROOMS</th>\n",
       "      <th>NHQSCRIME</th>\n",
       "      <th>LOTSIZE</th>\n",
       "      <th>RATINGHS</th>\n",
       "      <th>RATINGNH</th>\n",
       "      <th>PORCH</th>\n",
       "      <th>BATHROOMS</th>\n",
       "      <th>BEDROOMS</th>\n",
       "      <th>BLD</th>\n",
       "      <th>MARKETVAL</th>\n",
       "      <th>OMB13CBSA</th>\n",
       "    </tr>\n",
       "  </thead>\n",
       "  <tbody>\n",
       "    <tr>\n",
       "      <th>0</th>\n",
       "      <td>11000001</td>\n",
       "      <td>2000</td>\n",
       "      <td>6.0</td>\n",
       "      <td>1.0</td>\n",
       "      <td>8</td>\n",
       "      <td>2.0</td>\n",
       "      <td>2.0</td>\n",
       "      <td>10.0</td>\n",
       "      <td>10.0</td>\n",
       "      <td>1</td>\n",
       "      <td>4</td>\n",
       "      <td>3</td>\n",
       "      <td>2</td>\n",
       "      <td>307811.0</td>\n",
       "      <td>37980</td>\n",
       "    </tr>\n",
       "    <tr>\n",
       "      <th>1</th>\n",
       "      <td>11000002</td>\n",
       "      <td>1970</td>\n",
       "      <td>8.0</td>\n",
       "      <td>1.0</td>\n",
       "      <td>7</td>\n",
       "      <td>2.0</td>\n",
       "      <td>7.0</td>\n",
       "      <td>10.0</td>\n",
       "      <td>10.0</td>\n",
       "      <td>1</td>\n",
       "      <td>4</td>\n",
       "      <td>3</td>\n",
       "      <td>3</td>\n",
       "      <td>1005540.0</td>\n",
       "      <td>99998</td>\n",
       "    </tr>\n",
       "    <tr>\n",
       "      <th>2</th>\n",
       "      <td>11000005</td>\n",
       "      <td>1970</td>\n",
       "      <td>6.0</td>\n",
       "      <td>1.0</td>\n",
       "      <td>8</td>\n",
       "      <td>2.0</td>\n",
       "      <td>5.0</td>\n",
       "      <td>8.0</td>\n",
       "      <td>8.0</td>\n",
       "      <td>1</td>\n",
       "      <td>5</td>\n",
       "      <td>4</td>\n",
       "      <td>2</td>\n",
       "      <td>229992.0</td>\n",
       "      <td>99998</td>\n",
       "    </tr>\n",
       "    <tr>\n",
       "      <th>3</th>\n",
       "      <td>11000006</td>\n",
       "      <td>1980</td>\n",
       "      <td>4.0</td>\n",
       "      <td>1.0</td>\n",
       "      <td>5</td>\n",
       "      <td>2.0</td>\n",
       "      <td>3.0</td>\n",
       "      <td>10.0</td>\n",
       "      <td>10.0</td>\n",
       "      <td>1</td>\n",
       "      <td>3</td>\n",
       "      <td>3</td>\n",
       "      <td>2</td>\n",
       "      <td>132220.0</td>\n",
       "      <td>99998</td>\n",
       "    </tr>\n",
       "    <tr>\n",
       "      <th>4</th>\n",
       "      <td>11000007</td>\n",
       "      <td>1960</td>\n",
       "      <td>7.0</td>\n",
       "      <td>2.0</td>\n",
       "      <td>8</td>\n",
       "      <td>2.0</td>\n",
       "      <td>2.0</td>\n",
       "      <td>7.0</td>\n",
       "      <td>7.0</td>\n",
       "      <td>1</td>\n",
       "      <td>4</td>\n",
       "      <td>4</td>\n",
       "      <td>2</td>\n",
       "      <td>271584.0</td>\n",
       "      <td>37980</td>\n",
       "    </tr>\n",
       "    <tr>\n",
       "      <th>5</th>\n",
       "      <td>11000008</td>\n",
       "      <td>1919</td>\n",
       "      <td>3.0</td>\n",
       "      <td>NaN</td>\n",
       "      <td>5</td>\n",
       "      <td>NaN</td>\n",
       "      <td>NaN</td>\n",
       "      <td>7.0</td>\n",
       "      <td>7.0</td>\n",
       "      <td>2</td>\n",
       "      <td>1</td>\n",
       "      <td>1</td>\n",
       "      <td>9</td>\n",
       "      <td>NaN</td>\n",
       "      <td>99998</td>\n",
       "    </tr>\n",
       "    <tr>\n",
       "      <th>6</th>\n",
       "      <td>11000009</td>\n",
       "      <td>1970</td>\n",
       "      <td>5.0</td>\n",
       "      <td>NaN</td>\n",
       "      <td>6</td>\n",
       "      <td>NaN</td>\n",
       "      <td>2.0</td>\n",
       "      <td>NaN</td>\n",
       "      <td>NaN</td>\n",
       "      <td>1</td>\n",
       "      <td>3</td>\n",
       "      <td>3</td>\n",
       "      <td>2</td>\n",
       "      <td>877854.0</td>\n",
       "      <td>99998</td>\n",
       "    </tr>\n",
       "    <tr>\n",
       "      <th>7</th>\n",
       "      <td>11000010</td>\n",
       "      <td>1970</td>\n",
       "      <td>3.0</td>\n",
       "      <td>1.0</td>\n",
       "      <td>7</td>\n",
       "      <td>1.0</td>\n",
       "      <td>3.0</td>\n",
       "      <td>8.0</td>\n",
       "      <td>8.0</td>\n",
       "      <td>1</td>\n",
       "      <td>2</td>\n",
       "      <td>3</td>\n",
       "      <td>2</td>\n",
       "      <td>NaN</td>\n",
       "      <td>99998</td>\n",
       "    </tr>\n",
       "    <tr>\n",
       "      <th>8</th>\n",
       "      <td>11000012</td>\n",
       "      <td>1960</td>\n",
       "      <td>2.0</td>\n",
       "      <td>1.0</td>\n",
       "      <td>3</td>\n",
       "      <td>1.0</td>\n",
       "      <td>NaN</td>\n",
       "      <td>3.0</td>\n",
       "      <td>2.0</td>\n",
       "      <td>1</td>\n",
       "      <td>1</td>\n",
       "      <td>1</td>\n",
       "      <td>7</td>\n",
       "      <td>NaN</td>\n",
       "      <td>99998</td>\n",
       "    </tr>\n",
       "    <tr>\n",
       "      <th>9</th>\n",
       "      <td>11000013</td>\n",
       "      <td>1980</td>\n",
       "      <td>8.0</td>\n",
       "      <td>1.0</td>\n",
       "      <td>8</td>\n",
       "      <td>2.0</td>\n",
       "      <td>3.0</td>\n",
       "      <td>8.0</td>\n",
       "      <td>8.0</td>\n",
       "      <td>1</td>\n",
       "      <td>4</td>\n",
       "      <td>3</td>\n",
       "      <td>2</td>\n",
       "      <td>573123.0</td>\n",
       "      <td>37980</td>\n",
       "    </tr>\n",
       "  </tbody>\n",
       "</table>\n",
       "</div>"
      ],
      "text/plain": [
       "    CONTROL  YRBUILT  UNITSIZE  NHQSCHOOL  TOTROOMS  NHQSCRIME  LOTSIZE  \\\n",
       "0  11000001     2000       6.0        1.0         8        2.0      2.0   \n",
       "1  11000002     1970       8.0        1.0         7        2.0      7.0   \n",
       "2  11000005     1970       6.0        1.0         8        2.0      5.0   \n",
       "3  11000006     1980       4.0        1.0         5        2.0      3.0   \n",
       "4  11000007     1960       7.0        2.0         8        2.0      2.0   \n",
       "5  11000008     1919       3.0        NaN         5        NaN      NaN   \n",
       "6  11000009     1970       5.0        NaN         6        NaN      2.0   \n",
       "7  11000010     1970       3.0        1.0         7        1.0      3.0   \n",
       "8  11000012     1960       2.0        1.0         3        1.0      NaN   \n",
       "9  11000013     1980       8.0        1.0         8        2.0      3.0   \n",
       "\n",
       "   RATINGHS  RATINGNH  PORCH  BATHROOMS  BEDROOMS  BLD  MARKETVAL  OMB13CBSA  \n",
       "0      10.0      10.0      1          4         3    2   307811.0      37980  \n",
       "1      10.0      10.0      1          4         3    3  1005540.0      99998  \n",
       "2       8.0       8.0      1          5         4    2   229992.0      99998  \n",
       "3      10.0      10.0      1          3         3    2   132220.0      99998  \n",
       "4       7.0       7.0      1          4         4    2   271584.0      37980  \n",
       "5       7.0       7.0      2          1         1    9        NaN      99998  \n",
       "6       NaN       NaN      1          3         3    2   877854.0      99998  \n",
       "7       8.0       8.0      1          2         3    2        NaN      99998  \n",
       "8       3.0       2.0      1          1         1    7        NaN      99998  \n",
       "9       8.0       8.0      1          4         3    2   573123.0      37980  "
      ]
     },
     "execution_count": 2,
     "metadata": {},
     "output_type": "execute_result"
    }
   ],
   "source": [
    "# File to Load \n",
    "file_to_load = \"../dataset/2017nat_housing_survey1.csv\"\n",
    "\n",
    "# Read Purchasing File and store into Pandas data frame\n",
    "housing_data = pd.read_csv(file_to_load)\n",
    "housing_data.head(10)"
   ]
  },
  {
   "cell_type": "markdown",
   "metadata": {
    "slideshow": {
     "slide_type": "slide"
    }
   },
   "source": [
    "# Cleaning and Preprocessing Data for Machine Learning"
   ]
  },
  {
   "cell_type": "code",
   "execution_count": 3,
   "metadata": {},
   "outputs": [
    {
     "data": {
      "text/plain": [
       "CONTROL          0\n",
       "YRBUILT          0\n",
       "UNITSIZE      7857\n",
       "NHQSCHOOL    14956\n",
       "TOTROOMS         0\n",
       "NHQSCRIME    11086\n",
       "LOTSIZE      21459\n",
       "RATINGHS     10809\n",
       "RATINGNH     10889\n",
       "PORCH            0\n",
       "BATHROOMS        0\n",
       "BEDROOMS         0\n",
       "BLD              0\n",
       "MARKETVAL    26801\n",
       "OMB13CBSA        0\n",
       "dtype: int64"
      ]
     },
     "execution_count": 3,
     "metadata": {},
     "output_type": "execute_result"
    }
   ],
   "source": [
    "# Check for NULL values\n",
    "housing_data.isnull().sum()"
   ]
  },
  {
   "cell_type": "code",
   "execution_count": 4,
   "metadata": {},
   "outputs": [],
   "source": [
    "# Ignore rows where there is no market values\n",
    "housing_data = housing_data.dropna()"
   ]
  },
  {
   "cell_type": "code",
   "execution_count": 23,
   "metadata": {},
   "outputs": [
    {
     "data": {
      "text/plain": [
       "CONTROL      0\n",
       "YRBUILT      0\n",
       "UNITSIZE     0\n",
       "NHQSCHOOL    0\n",
       "TOTROOMS     0\n",
       "NHQSCRIME    0\n",
       "LOTSIZE      0\n",
       "RATINGHS     0\n",
       "RATINGNH     0\n",
       "PORCH        0\n",
       "BATHROOMS    0\n",
       "BEDROOMS     0\n",
       "BLD          0\n",
       "MARKETVAL    0\n",
       "OMB13CBSA    0\n",
       "dtype: int64"
      ]
     },
     "execution_count": 23,
     "metadata": {},
     "output_type": "execute_result"
    }
   ],
   "source": [
    "# Check again after we drop NULL\n",
    "housing_data.isnull().sum()"
   ]
  },
  {
   "cell_type": "code",
   "execution_count": 5,
   "metadata": {},
   "outputs": [
    {
     "data": {
      "text/html": [
       "<div>\n",
       "<style scoped>\n",
       "    .dataframe tbody tr th:only-of-type {\n",
       "        vertical-align: middle;\n",
       "    }\n",
       "\n",
       "    .dataframe tbody tr th {\n",
       "        vertical-align: top;\n",
       "    }\n",
       "\n",
       "    .dataframe thead th {\n",
       "        text-align: right;\n",
       "    }\n",
       "</style>\n",
       "<table border=\"1\" class=\"dataframe\">\n",
       "  <thead>\n",
       "    <tr style=\"text-align: right;\">\n",
       "      <th></th>\n",
       "      <th>CONTROL</th>\n",
       "      <th>YRBUILT</th>\n",
       "      <th>UNITSIZE</th>\n",
       "      <th>NHQSCHOOL</th>\n",
       "      <th>TOTROOMS</th>\n",
       "      <th>NHQSCRIME</th>\n",
       "      <th>LOTSIZE</th>\n",
       "      <th>RATINGHS</th>\n",
       "      <th>RATINGNH</th>\n",
       "      <th>PORCH</th>\n",
       "      <th>BATHROOMS</th>\n",
       "      <th>BEDROOMS</th>\n",
       "      <th>BLD</th>\n",
       "      <th>MARKETVAL</th>\n",
       "      <th>OMB13CBSA</th>\n",
       "    </tr>\n",
       "  </thead>\n",
       "  <tbody>\n",
       "    <tr>\n",
       "      <th>0</th>\n",
       "      <td>11000001</td>\n",
       "      <td>2000</td>\n",
       "      <td>6.0</td>\n",
       "      <td>1.0</td>\n",
       "      <td>8</td>\n",
       "      <td>2.0</td>\n",
       "      <td>2.0</td>\n",
       "      <td>10.0</td>\n",
       "      <td>10.0</td>\n",
       "      <td>1</td>\n",
       "      <td>4</td>\n",
       "      <td>3</td>\n",
       "      <td>2</td>\n",
       "      <td>307811.0</td>\n",
       "      <td>37980</td>\n",
       "    </tr>\n",
       "    <tr>\n",
       "      <th>2</th>\n",
       "      <td>11000005</td>\n",
       "      <td>1970</td>\n",
       "      <td>6.0</td>\n",
       "      <td>1.0</td>\n",
       "      <td>8</td>\n",
       "      <td>2.0</td>\n",
       "      <td>5.0</td>\n",
       "      <td>8.0</td>\n",
       "      <td>8.0</td>\n",
       "      <td>1</td>\n",
       "      <td>5</td>\n",
       "      <td>4</td>\n",
       "      <td>2</td>\n",
       "      <td>229992.0</td>\n",
       "      <td>99998</td>\n",
       "    </tr>\n",
       "    <tr>\n",
       "      <th>3</th>\n",
       "      <td>11000006</td>\n",
       "      <td>1980</td>\n",
       "      <td>4.0</td>\n",
       "      <td>1.0</td>\n",
       "      <td>5</td>\n",
       "      <td>2.0</td>\n",
       "      <td>3.0</td>\n",
       "      <td>10.0</td>\n",
       "      <td>10.0</td>\n",
       "      <td>1</td>\n",
       "      <td>3</td>\n",
       "      <td>3</td>\n",
       "      <td>2</td>\n",
       "      <td>132220.0</td>\n",
       "      <td>99998</td>\n",
       "    </tr>\n",
       "    <tr>\n",
       "      <th>4</th>\n",
       "      <td>11000007</td>\n",
       "      <td>1960</td>\n",
       "      <td>7.0</td>\n",
       "      <td>2.0</td>\n",
       "      <td>8</td>\n",
       "      <td>2.0</td>\n",
       "      <td>2.0</td>\n",
       "      <td>7.0</td>\n",
       "      <td>7.0</td>\n",
       "      <td>1</td>\n",
       "      <td>4</td>\n",
       "      <td>4</td>\n",
       "      <td>2</td>\n",
       "      <td>271584.0</td>\n",
       "      <td>37980</td>\n",
       "    </tr>\n",
       "    <tr>\n",
       "      <th>9</th>\n",
       "      <td>11000013</td>\n",
       "      <td>1980</td>\n",
       "      <td>8.0</td>\n",
       "      <td>1.0</td>\n",
       "      <td>8</td>\n",
       "      <td>2.0</td>\n",
       "      <td>3.0</td>\n",
       "      <td>8.0</td>\n",
       "      <td>8.0</td>\n",
       "      <td>1</td>\n",
       "      <td>4</td>\n",
       "      <td>3</td>\n",
       "      <td>2</td>\n",
       "      <td>573123.0</td>\n",
       "      <td>37980</td>\n",
       "    </tr>\n",
       "  </tbody>\n",
       "</table>\n",
       "</div>"
      ],
      "text/plain": [
       "    CONTROL  YRBUILT  UNITSIZE  NHQSCHOOL  TOTROOMS  NHQSCRIME  LOTSIZE  \\\n",
       "0  11000001     2000       6.0        1.0         8        2.0      2.0   \n",
       "2  11000005     1970       6.0        1.0         8        2.0      5.0   \n",
       "3  11000006     1980       4.0        1.0         5        2.0      3.0   \n",
       "4  11000007     1960       7.0        2.0         8        2.0      2.0   \n",
       "9  11000013     1980       8.0        1.0         8        2.0      3.0   \n",
       "\n",
       "   RATINGHS  RATINGNH  PORCH  BATHROOMS  BEDROOMS  BLD  MARKETVAL  OMB13CBSA  \n",
       "0      10.0      10.0      1          4         3    2   307811.0      37980  \n",
       "2       8.0       8.0      1          5         4    2   229992.0      99998  \n",
       "3      10.0      10.0      1          3         3    2   132220.0      99998  \n",
       "4       7.0       7.0      1          4         4    2   271584.0      37980  \n",
       "9       8.0       8.0      1          4         3    2   573123.0      37980  "
      ]
     },
     "execution_count": 5,
     "metadata": {},
     "output_type": "execute_result"
    }
   ],
   "source": [
    "housing_df = housing_data.copy()\n",
    "\n",
    "# We will study single family houses only\n",
    "housing_df = housing_df.loc[housing_df['BLD'] == 2]\n",
    "housing_df.head()"
   ]
  },
  {
   "cell_type": "code",
   "execution_count": 6,
   "metadata": {},
   "outputs": [
    {
     "data": {
      "text/html": [
       "<div>\n",
       "<style scoped>\n",
       "    .dataframe tbody tr th:only-of-type {\n",
       "        vertical-align: middle;\n",
       "    }\n",
       "\n",
       "    .dataframe tbody tr th {\n",
       "        vertical-align: top;\n",
       "    }\n",
       "\n",
       "    .dataframe thead th {\n",
       "        text-align: right;\n",
       "    }\n",
       "</style>\n",
       "<table border=\"1\" class=\"dataframe\">\n",
       "  <thead>\n",
       "    <tr style=\"text-align: right;\">\n",
       "      <th></th>\n",
       "      <th>OMB13CBSA</th>\n",
       "    </tr>\n",
       "    <tr>\n",
       "      <th>OMB13CBSA</th>\n",
       "      <th></th>\n",
       "    </tr>\n",
       "  </thead>\n",
       "  <tbody>\n",
       "    <tr>\n",
       "      <th>35620</th>\n",
       "      <td>527</td>\n",
       "    </tr>\n",
       "    <tr>\n",
       "      <th>33100</th>\n",
       "      <td>644</td>\n",
       "    </tr>\n",
       "    <tr>\n",
       "      <th>37980</th>\n",
       "      <td>718</td>\n",
       "    </tr>\n",
       "    <tr>\n",
       "      <th>31080</th>\n",
       "      <td>759</td>\n",
       "    </tr>\n",
       "    <tr>\n",
       "      <th>41860</th>\n",
       "      <td>762</td>\n",
       "    </tr>\n",
       "    <tr>\n",
       "      <th>14460</th>\n",
       "      <td>769</td>\n",
       "    </tr>\n",
       "    <tr>\n",
       "      <th>16980</th>\n",
       "      <td>849</td>\n",
       "    </tr>\n",
       "    <tr>\n",
       "      <th>47900</th>\n",
       "      <td>877</td>\n",
       "    </tr>\n",
       "    <tr>\n",
       "      <th>12060</th>\n",
       "      <td>950</td>\n",
       "    </tr>\n",
       "    <tr>\n",
       "      <th>42660</th>\n",
       "      <td>972</td>\n",
       "    </tr>\n",
       "    <tr>\n",
       "      <th>38060</th>\n",
       "      <td>973</td>\n",
       "    </tr>\n",
       "    <tr>\n",
       "      <th>40140</th>\n",
       "      <td>1015</td>\n",
       "    </tr>\n",
       "    <tr>\n",
       "      <th>26420</th>\n",
       "      <td>1080</td>\n",
       "    </tr>\n",
       "    <tr>\n",
       "      <th>19820</th>\n",
       "      <td>1089</td>\n",
       "    </tr>\n",
       "    <tr>\n",
       "      <th>19100</th>\n",
       "      <td>1197</td>\n",
       "    </tr>\n",
       "    <tr>\n",
       "      <th>99999</th>\n",
       "      <td>2635</td>\n",
       "    </tr>\n",
       "    <tr>\n",
       "      <th>99998</th>\n",
       "      <td>8381</td>\n",
       "    </tr>\n",
       "  </tbody>\n",
       "</table>\n",
       "</div>"
      ],
      "text/plain": [
       "           OMB13CBSA\n",
       "OMB13CBSA           \n",
       "35620            527\n",
       "33100            644\n",
       "37980            718\n",
       "31080            759\n",
       "41860            762\n",
       "14460            769\n",
       "16980            849\n",
       "47900            877\n",
       "12060            950\n",
       "42660            972\n",
       "38060            973\n",
       "40140           1015\n",
       "26420           1080\n",
       "19820           1089\n",
       "19100           1197\n",
       "99999           2635\n",
       "99998           8381"
      ]
     },
     "execution_count": 6,
     "metadata": {},
     "output_type": "execute_result"
    }
   ],
   "source": [
    "# Let's see which city has the most rows and use that as our data\n",
    "city_count_df = housing_df.groupby(['OMB13CBSA']).agg({'OMB13CBSA':'count'})\n",
    "city_count_df.sort_values('OMB13CBSA')\n",
    "\n",
    "# Use 19100 - DFW Texas"
   ]
  },
  {
   "cell_type": "code",
   "execution_count": 7,
   "metadata": {},
   "outputs": [
    {
     "data": {
      "text/html": [
       "<div>\n",
       "<style scoped>\n",
       "    .dataframe tbody tr th:only-of-type {\n",
       "        vertical-align: middle;\n",
       "    }\n",
       "\n",
       "    .dataframe tbody tr th {\n",
       "        vertical-align: top;\n",
       "    }\n",
       "\n",
       "    .dataframe thead th {\n",
       "        text-align: right;\n",
       "    }\n",
       "</style>\n",
       "<table border=\"1\" class=\"dataframe\">\n",
       "  <thead>\n",
       "    <tr style=\"text-align: right;\">\n",
       "      <th></th>\n",
       "      <th>CONTROL</th>\n",
       "      <th>YRBUILT</th>\n",
       "      <th>UNITSIZE</th>\n",
       "      <th>NHQSCHOOL</th>\n",
       "      <th>TOTROOMS</th>\n",
       "      <th>NHQSCRIME</th>\n",
       "      <th>LOTSIZE</th>\n",
       "      <th>RATINGHS</th>\n",
       "      <th>RATINGNH</th>\n",
       "      <th>PORCH</th>\n",
       "      <th>BATHROOMS</th>\n",
       "      <th>BEDROOMS</th>\n",
       "      <th>BLD</th>\n",
       "      <th>MARKETVAL</th>\n",
       "      <th>OMB13CBSA</th>\n",
       "    </tr>\n",
       "  </thead>\n",
       "  <tbody>\n",
       "    <tr>\n",
       "      <th>11068</th>\n",
       "      <td>11014590</td>\n",
       "      <td>1940</td>\n",
       "      <td>4.0</td>\n",
       "      <td>1.0</td>\n",
       "      <td>5</td>\n",
       "      <td>2.0</td>\n",
       "      <td>3.0</td>\n",
       "      <td>7.0</td>\n",
       "      <td>7.0</td>\n",
       "      <td>2</td>\n",
       "      <td>1</td>\n",
       "      <td>2</td>\n",
       "      <td>2</td>\n",
       "      <td>190639.0</td>\n",
       "      <td>19100</td>\n",
       "    </tr>\n",
       "    <tr>\n",
       "      <th>11072</th>\n",
       "      <td>11014595</td>\n",
       "      <td>1970</td>\n",
       "      <td>4.0</td>\n",
       "      <td>1.0</td>\n",
       "      <td>5</td>\n",
       "      <td>2.0</td>\n",
       "      <td>6.0</td>\n",
       "      <td>8.0</td>\n",
       "      <td>8.0</td>\n",
       "      <td>1</td>\n",
       "      <td>3</td>\n",
       "      <td>3</td>\n",
       "      <td>2</td>\n",
       "      <td>374382.0</td>\n",
       "      <td>19100</td>\n",
       "    </tr>\n",
       "    <tr>\n",
       "      <th>11073</th>\n",
       "      <td>11014596</td>\n",
       "      <td>1980</td>\n",
       "      <td>5.0</td>\n",
       "      <td>1.0</td>\n",
       "      <td>6</td>\n",
       "      <td>2.0</td>\n",
       "      <td>2.0</td>\n",
       "      <td>8.0</td>\n",
       "      <td>10.0</td>\n",
       "      <td>1</td>\n",
       "      <td>3</td>\n",
       "      <td>3</td>\n",
       "      <td>2</td>\n",
       "      <td>178064.0</td>\n",
       "      <td>19100</td>\n",
       "    </tr>\n",
       "    <tr>\n",
       "      <th>11081</th>\n",
       "      <td>11014606</td>\n",
       "      <td>1970</td>\n",
       "      <td>9.0</td>\n",
       "      <td>1.0</td>\n",
       "      <td>9</td>\n",
       "      <td>2.0</td>\n",
       "      <td>5.0</td>\n",
       "      <td>9.0</td>\n",
       "      <td>9.0</td>\n",
       "      <td>1</td>\n",
       "      <td>5</td>\n",
       "      <td>4</td>\n",
       "      <td>2</td>\n",
       "      <td>378147.0</td>\n",
       "      <td>19100</td>\n",
       "    </tr>\n",
       "    <tr>\n",
       "      <th>11082</th>\n",
       "      <td>11014607</td>\n",
       "      <td>1950</td>\n",
       "      <td>5.0</td>\n",
       "      <td>1.0</td>\n",
       "      <td>6</td>\n",
       "      <td>2.0</td>\n",
       "      <td>2.0</td>\n",
       "      <td>8.0</td>\n",
       "      <td>5.0</td>\n",
       "      <td>1</td>\n",
       "      <td>3</td>\n",
       "      <td>3</td>\n",
       "      <td>2</td>\n",
       "      <td>58516.0</td>\n",
       "      <td>19100</td>\n",
       "    </tr>\n",
       "  </tbody>\n",
       "</table>\n",
       "</div>"
      ],
      "text/plain": [
       "        CONTROL  YRBUILT  UNITSIZE  NHQSCHOOL  TOTROOMS  NHQSCRIME  LOTSIZE  \\\n",
       "11068  11014590     1940       4.0        1.0         5        2.0      3.0   \n",
       "11072  11014595     1970       4.0        1.0         5        2.0      6.0   \n",
       "11073  11014596     1980       5.0        1.0         6        2.0      2.0   \n",
       "11081  11014606     1970       9.0        1.0         9        2.0      5.0   \n",
       "11082  11014607     1950       5.0        1.0         6        2.0      2.0   \n",
       "\n",
       "       RATINGHS  RATINGNH  PORCH  BATHROOMS  BEDROOMS  BLD  MARKETVAL  \\\n",
       "11068       7.0       7.0      2          1         2    2   190639.0   \n",
       "11072       8.0       8.0      1          3         3    2   374382.0   \n",
       "11073       8.0      10.0      1          3         3    2   178064.0   \n",
       "11081       9.0       9.0      1          5         4    2   378147.0   \n",
       "11082       8.0       5.0      1          3         3    2    58516.0   \n",
       "\n",
       "       OMB13CBSA  \n",
       "11068      19100  \n",
       "11072      19100  \n",
       "11073      19100  \n",
       "11081      19100  \n",
       "11082      19100  "
      ]
     },
     "execution_count": 7,
     "metadata": {},
     "output_type": "execute_result"
    }
   ],
   "source": [
    "# Further narrow down to one city DFW Texas \n",
    "housing_train_df = housing_df.loc[housing_df['OMB13CBSA'] == 19100]\n",
    "housing_train_df.head()"
   ]
  },
  {
   "cell_type": "code",
   "execution_count": 8,
   "metadata": {},
   "outputs": [
    {
     "data": {
      "text/plain": [
       "1197"
      ]
     },
     "execution_count": 8,
     "metadata": {},
     "output_type": "execute_result"
    }
   ],
   "source": [
    "# Find out how many records are in the train data\n",
    "len(housing_train_df.index)"
   ]
  },
  {
   "cell_type": "code",
   "execution_count": 17,
   "metadata": {
    "slideshow": {
     "slide_type": "subslide"
    }
   },
   "outputs": [
    {
     "name": "stdout",
     "output_type": "stream",
     "text": [
      "(1197, 3) (1197,)\n"
     ]
    }
   ],
   "source": [
    "# Build X and y\n",
    "X = housing_train_df[[\"TOTROOMS\", \"BATHROOMS\", \"UNITSIZE\"]].values\n",
    "y = housing_train_df[\"MARKETVAL\"].values\n",
    "print(X.shape, y.shape)"
   ]
  },
  {
   "cell_type": "markdown",
   "metadata": {
    "slideshow": {
     "slide_type": "slide"
    }
   },
   "source": [
    "# Data Visualization"
   ]
  },
  {
   "cell_type": "code",
   "execution_count": 18,
   "metadata": {},
   "outputs": [
    {
     "data": {
      "image/png": "[encoded data removed]",
      "text/plain": [
       "<Figure size 360x360 with 1 Axes>"
      ]
     },
     "metadata": {
      "needs_background": "light"
     },
     "output_type": "display_data"
    }
   ],
   "source": [
    "# Let's see what the data looks like\n",
    "\n",
    "from mpl_toolkits.mplot3d import Axes3D\n",
    "fig = plt.figure(1, figsize=(5, 5))\n",
    "axes = Axes3D(fig, elev=20, azim=45)\n",
    "axes.scatter(X[:,0], X[:,1], X[:,2], c=y, cmap=plt.cm.get_cmap(\"Spectral\"))\n",
    "plt.savefig(\"../output/MultiLinear_City_Data.png\", bbox_inches='tight')\n",
    "plt.show()"
   ]
  },
  {
   "cell_type": "markdown",
   "metadata": {
    "slideshow": {
     "slide_type": "slide"
    }
   },
   "source": [
    "## Build model"
   ]
  },
  {
   "cell_type": "code",
   "execution_count": 19,
   "metadata": {
    "slideshow": {
     "slide_type": "fragment"
    }
   },
   "outputs": [
    {
     "name": "stdout",
     "output_type": "stream",
     "text": [
      "(897, 3) (897, 1)\n"
     ]
    }
   ],
   "source": [
    "from sklearn.model_selection import train_test_split\n",
    "\n",
    "X = housing_train_df[[\"TOTROOMS\", \"BATHROOMS\", \"UNITSIZE\"]]\n",
    "y = y.reshape(-1, 1)\n",
    "\n",
    "X_train, X_test, y_train, y_test = train_test_split(X, y, random_state=42)\n",
    "print(X_train.shape, y_train.shape)"
   ]
  },
  {
   "cell_type": "code",
   "execution_count": 20,
   "metadata": {
    "slideshow": {
     "slide_type": "fragment"
    }
   },
   "outputs": [
    {
     "name": "stdout",
     "output_type": "stream",
     "text": [
      "R2:  0.32953965940757335\n",
      "Weight coefficients:  [[ 8527.20682133 33493.55397588 52001.44066719]]\n",
      "y-axis intercept:  [-223577.01879918]\n"
     ]
    }
   ],
   "source": [
    "# Results \n",
    "from sklearn.linear_model import LinearRegression\n",
    "model = LinearRegression()\n",
    "model.fit(X_train, y_train)\n",
    "\n",
    "score = model.score(X_train, y_train)\n",
    "\n",
    "print('R2: ', score)\n",
    "print('Weight coefficients: ', model.coef_)\n",
    "print('y-axis intercept: ', model.intercept_) \n",
    "\n"
   ]
  },
  {
   "cell_type": "markdown",
   "metadata": {
    "slideshow": {
     "slide_type": "slide"
    }
   },
   "source": [
    "## Predict"
   ]
  },
  {
   "cell_type": "code",
   "execution_count": 23,
   "metadata": {},
   "outputs": [
    {
     "data": {
      "image/png": "[encoded data removed]",
      "text/plain": [
       "<Figure size 432x288 with 1 Axes>"
      ]
     },
     "metadata": {
      "needs_background": "light"
     },
     "output_type": "display_data"
    }
   ],
   "source": [
    "# Build Residual Plot\n",
    "prediction = model.predict(X_test)\n",
    "plt.scatter(model.predict(X), model.predict(X) - y, c=\"blue\", label=\"Training Data\")\n",
    "plt.scatter(prediction, prediction - y_test, c=\"orange\", label=\"Testing Data\")\n",
    "plt.legend()\n",
    "plt.hlines(y=0, xmin=prediction.min(), xmax=prediction.max())\n",
    "plt.title(\"Residual Plot\")\n",
    "\n",
    "plt.savefig(\"../output/MultiLinear_City_Residual.png\", bbox_inches='tight')\n",
    "plt.show()"
   ]
  },
  {
   "cell_type": "code",
   "execution_count": 22,
   "metadata": {
    "slideshow": {
     "slide_type": "fragment"
    }
   },
   "outputs": [
    {
     "name": "stdout",
     "output_type": "stream",
     "text": [
      "MSE: 22700567226.9615, R2: 0.406968320706953\n"
     ]
    }
   ],
   "source": [
    "from sklearn.metrics import mean_squared_error\n",
    "\n",
    "# Mean Squared Error\n",
    "MSE = mean_squared_error(y_test, prediction)\n",
    "r2 = model.score(X_test, y_test)\n",
    "\n",
    "print(f\"MSE: {MSE}, R2: {r2}\")"
   ]
  }
 ],
 "metadata": {
  "anaconda-cloud": {},
  "celltoolbar": "Slideshow",
  "kernelspec": {
   "display_name": "Python 3",
   "language": "python",
   "name": "python3"
  },
  "language_info": {
   "codemirror_mode": {
    "name": "ipython",
    "version": 3
   },
   "file_extension": ".py",
   "mimetype": "text/x-python",
   "name": "python",
   "nbconvert_exporter": "python",
   "pygments_lexer": "ipython3",
   "version": "3.6.6"
  },
  "varInspector": {
   "cols": {
    "lenName": 16,
    "lenType": 16,
    "lenVar": 40
   },
   "kernels_config": {
    "python": {
     "delete_cmd_postfix": "",
     "delete_cmd_prefix": "del ",
     "library": "var_list.py",
     "varRefreshCmd": "print(var_dic_list())"
    },
    "r": {
     "delete_cmd_postfix": ") ",
     "delete_cmd_prefix": "rm(",
     "library": "var_list.r",
     "varRefreshCmd": "cat(var_dic_list()) "
    }
   },
   "types_to_exclude": [
    "module",
    "function",
    "builtin_function_or_method",
    "instance",
    "_Feature"
   ],
   "window_display": false
  }
 },
 "nbformat": 4,
 "nbformat_minor": 2
}
