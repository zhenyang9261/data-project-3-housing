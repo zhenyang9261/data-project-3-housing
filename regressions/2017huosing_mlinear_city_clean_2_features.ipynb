{
 "cells": [
  {
   "cell_type": "code",
   "execution_count": 1,
   "metadata": {
    "slideshow": {
     "slide_type": "slide"
    }
   },
   "outputs": [],
   "source": [
    "import warnings\n",
    "warnings.simplefilter('ignore')\n",
    "\n",
    "# %matplotlib inline\n",
    "import matplotlib.pyplot as plt\n",
    "import numpy as np\n",
    "import pandas as pd"
   ]
  },
  {
   "cell_type": "markdown",
   "metadata": {
    "slideshow": {
     "slide_type": "subslide"
    }
   },
   "source": [
    "# Dataset:  2017nat_housing_survey1.csv\n",
    "\n",
    "Source: American Housing Survey by US Census Bureau\n",
    "\n",
    "https://www.census.gov/programs-surveys/ahs/data/2017/ahs-2017-public-use-file--puf-/2017-ahs-metropolitan-puf-microdata.html\n"
   ]
  },
  {
   "cell_type": "code",
   "execution_count": 2,
   "metadata": {
    "slideshow": {
     "slide_type": "subslide"
    }
   },
   "outputs": [
    {
     "data": {
      "text/html": [
       "<div>\n",
       "<style scoped>\n",
       "    .dataframe tbody tr th:only-of-type {\n",
       "        vertical-align: middle;\n",
       "    }\n",
       "\n",
       "    .dataframe tbody tr th {\n",
       "        vertical-align: top;\n",
       "    }\n",
       "\n",
       "    .dataframe thead th {\n",
       "        text-align: right;\n",
       "    }\n",
       "</style>\n",
       "<table border=\"1\" class=\"dataframe\">\n",
       "  <thead>\n",
       "    <tr style=\"text-align: right;\">\n",
       "      <th></th>\n",
       "      <th>CONTROL</th>\n",
       "      <th>OMB13CBSA</th>\n",
       "      <th>MARKETVAL</th>\n",
       "      <th>TOTROOMS</th>\n",
       "      <th>YRBUILT</th>\n",
       "      <th>UNITSIZE</th>\n",
       "      <th>BEDROOMS</th>\n",
       "      <th>BATHROOMS</th>\n",
       "      <th>BLD</th>\n",
       "      <th>NHQSCHOOL</th>\n",
       "      <th>NHQSCRIME</th>\n",
       "      <th>RATINGNH</th>\n",
       "      <th>outliers</th>\n",
       "    </tr>\n",
       "  </thead>\n",
       "  <tbody>\n",
       "    <tr>\n",
       "      <th>0</th>\n",
       "      <td>11000001</td>\n",
       "      <td>37980</td>\n",
       "      <td>307811.0</td>\n",
       "      <td>8</td>\n",
       "      <td>2000</td>\n",
       "      <td>6.0</td>\n",
       "      <td>3</td>\n",
       "      <td>4</td>\n",
       "      <td>2</td>\n",
       "      <td>1.0</td>\n",
       "      <td>2.0</td>\n",
       "      <td>10.0</td>\n",
       "      <td>1</td>\n",
       "    </tr>\n",
       "    <tr>\n",
       "      <th>1</th>\n",
       "      <td>11000005</td>\n",
       "      <td>99998</td>\n",
       "      <td>229992.0</td>\n",
       "      <td>8</td>\n",
       "      <td>1970</td>\n",
       "      <td>6.0</td>\n",
       "      <td>4</td>\n",
       "      <td>5</td>\n",
       "      <td>2</td>\n",
       "      <td>1.0</td>\n",
       "      <td>2.0</td>\n",
       "      <td>8.0</td>\n",
       "      <td>1</td>\n",
       "    </tr>\n",
       "    <tr>\n",
       "      <th>2</th>\n",
       "      <td>11000006</td>\n",
       "      <td>99998</td>\n",
       "      <td>132220.0</td>\n",
       "      <td>5</td>\n",
       "      <td>1980</td>\n",
       "      <td>4.0</td>\n",
       "      <td>3</td>\n",
       "      <td>3</td>\n",
       "      <td>2</td>\n",
       "      <td>1.0</td>\n",
       "      <td>2.0</td>\n",
       "      <td>10.0</td>\n",
       "      <td>1</td>\n",
       "    </tr>\n",
       "    <tr>\n",
       "      <th>3</th>\n",
       "      <td>11000007</td>\n",
       "      <td>37980</td>\n",
       "      <td>271584.0</td>\n",
       "      <td>8</td>\n",
       "      <td>1960</td>\n",
       "      <td>7.0</td>\n",
       "      <td>4</td>\n",
       "      <td>4</td>\n",
       "      <td>2</td>\n",
       "      <td>2.0</td>\n",
       "      <td>2.0</td>\n",
       "      <td>7.0</td>\n",
       "      <td>1</td>\n",
       "    </tr>\n",
       "    <tr>\n",
       "      <th>4</th>\n",
       "      <td>11000013</td>\n",
       "      <td>37980</td>\n",
       "      <td>573123.0</td>\n",
       "      <td>8</td>\n",
       "      <td>1980</td>\n",
       "      <td>8.0</td>\n",
       "      <td>3</td>\n",
       "      <td>4</td>\n",
       "      <td>2</td>\n",
       "      <td>1.0</td>\n",
       "      <td>2.0</td>\n",
       "      <td>8.0</td>\n",
       "      <td>1</td>\n",
       "    </tr>\n",
       "    <tr>\n",
       "      <th>5</th>\n",
       "      <td>11000015</td>\n",
       "      <td>37980</td>\n",
       "      <td>153023.0</td>\n",
       "      <td>6</td>\n",
       "      <td>1950</td>\n",
       "      <td>4.0</td>\n",
       "      <td>3</td>\n",
       "      <td>2</td>\n",
       "      <td>3</td>\n",
       "      <td>1.0</td>\n",
       "      <td>2.0</td>\n",
       "      <td>7.0</td>\n",
       "      <td>1</td>\n",
       "    </tr>\n",
       "    <tr>\n",
       "      <th>6</th>\n",
       "      <td>11000016</td>\n",
       "      <td>37980</td>\n",
       "      <td>248031.0</td>\n",
       "      <td>6</td>\n",
       "      <td>1980</td>\n",
       "      <td>4.0</td>\n",
       "      <td>3</td>\n",
       "      <td>2</td>\n",
       "      <td>2</td>\n",
       "      <td>1.0</td>\n",
       "      <td>2.0</td>\n",
       "      <td>9.0</td>\n",
       "      <td>1</td>\n",
       "    </tr>\n",
       "    <tr>\n",
       "      <th>7</th>\n",
       "      <td>11000017</td>\n",
       "      <td>37980</td>\n",
       "      <td>287408.0</td>\n",
       "      <td>7</td>\n",
       "      <td>1950</td>\n",
       "      <td>6.0</td>\n",
       "      <td>3</td>\n",
       "      <td>4</td>\n",
       "      <td>2</td>\n",
       "      <td>1.0</td>\n",
       "      <td>2.0</td>\n",
       "      <td>10.0</td>\n",
       "      <td>1</td>\n",
       "    </tr>\n",
       "    <tr>\n",
       "      <th>8</th>\n",
       "      <td>11000023</td>\n",
       "      <td>37980</td>\n",
       "      <td>208364.0</td>\n",
       "      <td>7</td>\n",
       "      <td>1950</td>\n",
       "      <td>4.0</td>\n",
       "      <td>3</td>\n",
       "      <td>2</td>\n",
       "      <td>2</td>\n",
       "      <td>1.0</td>\n",
       "      <td>2.0</td>\n",
       "      <td>8.0</td>\n",
       "      <td>1</td>\n",
       "    </tr>\n",
       "    <tr>\n",
       "      <th>9</th>\n",
       "      <td>11000031</td>\n",
       "      <td>99998</td>\n",
       "      <td>39589.0</td>\n",
       "      <td>5</td>\n",
       "      <td>1940</td>\n",
       "      <td>3.0</td>\n",
       "      <td>2</td>\n",
       "      <td>3</td>\n",
       "      <td>2</td>\n",
       "      <td>2.0</td>\n",
       "      <td>2.0</td>\n",
       "      <td>6.0</td>\n",
       "      <td>1</td>\n",
       "    </tr>\n",
       "  </tbody>\n",
       "</table>\n",
       "</div>"
      ],
      "text/plain": [
       "    CONTROL  OMB13CBSA  MARKETVAL  TOTROOMS  YRBUILT  UNITSIZE  BEDROOMS  \\\n",
       "0  11000001      37980   307811.0         8     2000       6.0         3   \n",
       "1  11000005      99998   229992.0         8     1970       6.0         4   \n",
       "2  11000006      99998   132220.0         5     1980       4.0         3   \n",
       "3  11000007      37980   271584.0         8     1960       7.0         4   \n",
       "4  11000013      37980   573123.0         8     1980       8.0         3   \n",
       "5  11000015      37980   153023.0         6     1950       4.0         3   \n",
       "6  11000016      37980   248031.0         6     1980       4.0         3   \n",
       "7  11000017      37980   287408.0         7     1950       6.0         3   \n",
       "8  11000023      37980   208364.0         7     1950       4.0         3   \n",
       "9  11000031      99998    39589.0         5     1940       3.0         2   \n",
       "\n",
       "   BATHROOMS  BLD  NHQSCHOOL  NHQSCRIME  RATINGNH  outliers  \n",
       "0          4    2        1.0        2.0      10.0         1  \n",
       "1          5    2        1.0        2.0       8.0         1  \n",
       "2          3    2        1.0        2.0      10.0         1  \n",
       "3          4    2        2.0        2.0       7.0         1  \n",
       "4          4    2        1.0        2.0       8.0         1  \n",
       "5          2    3        1.0        2.0       7.0         1  \n",
       "6          2    2        1.0        2.0       9.0         1  \n",
       "7          4    2        1.0        2.0      10.0         1  \n",
       "8          2    2        1.0        2.0       8.0         1  \n",
       "9          3    2        2.0        2.0       6.0         1  "
      ]
     },
     "execution_count": 2,
     "metadata": {},
     "output_type": "execute_result"
    }
   ],
   "source": [
    "# File to Load \n",
    "file_to_load = \"../dataset/data_cleanOutliers.csv\"\n",
    "\n",
    "# Read Purchasing File and store into Pandas data frame\n",
    "housing_data = pd.read_csv(file_to_load)\n",
    "housing_data.head(10)"
   ]
  },
  {
   "cell_type": "markdown",
   "metadata": {
    "slideshow": {
     "slide_type": "slide"
    }
   },
   "source": [
    "# Cleaning and Preprocessing Data for Machine Learning"
   ]
  },
  {
   "cell_type": "code",
   "execution_count": 3,
   "metadata": {},
   "outputs": [
    {
     "data": {
      "text/plain": [
       "CONTROL      0\n",
       "OMB13CBSA    0\n",
       "MARKETVAL    0\n",
       "TOTROOMS     0\n",
       "YRBUILT      0\n",
       "UNITSIZE     0\n",
       "BEDROOMS     0\n",
       "BATHROOMS    0\n",
       "BLD          0\n",
       "outliers     0\n",
       "dtype: int64"
      ]
     },
     "execution_count": 3,
     "metadata": {},
     "output_type": "execute_result"
    }
   ],
   "source": [
    "# Check for NULL values\n",
    "housing_data.isnull().sum()"
   ]
  },
  {
   "cell_type": "code",
   "execution_count": 3,
   "metadata": {},
   "outputs": [
    {
     "data": {
      "text/html": [
       "<div>\n",
       "<style scoped>\n",
       "    .dataframe tbody tr th:only-of-type {\n",
       "        vertical-align: middle;\n",
       "    }\n",
       "\n",
       "    .dataframe tbody tr th {\n",
       "        vertical-align: top;\n",
       "    }\n",
       "\n",
       "    .dataframe thead th {\n",
       "        text-align: right;\n",
       "    }\n",
       "</style>\n",
       "<table border=\"1\" class=\"dataframe\">\n",
       "  <thead>\n",
       "    <tr style=\"text-align: right;\">\n",
       "      <th></th>\n",
       "      <th>CONTROL</th>\n",
       "      <th>OMB13CBSA</th>\n",
       "      <th>MARKETVAL</th>\n",
       "      <th>TOTROOMS</th>\n",
       "      <th>YRBUILT</th>\n",
       "      <th>UNITSIZE</th>\n",
       "      <th>BEDROOMS</th>\n",
       "      <th>BATHROOMS</th>\n",
       "      <th>BLD</th>\n",
       "      <th>NHQSCHOOL</th>\n",
       "      <th>NHQSCRIME</th>\n",
       "      <th>RATINGNH</th>\n",
       "      <th>outliers</th>\n",
       "    </tr>\n",
       "  </thead>\n",
       "  <tbody>\n",
       "    <tr>\n",
       "      <th>0</th>\n",
       "      <td>11000001</td>\n",
       "      <td>37980</td>\n",
       "      <td>307811.0</td>\n",
       "      <td>8</td>\n",
       "      <td>2000</td>\n",
       "      <td>6.0</td>\n",
       "      <td>3</td>\n",
       "      <td>4</td>\n",
       "      <td>2</td>\n",
       "      <td>1.0</td>\n",
       "      <td>2.0</td>\n",
       "      <td>10.0</td>\n",
       "      <td>1</td>\n",
       "    </tr>\n",
       "    <tr>\n",
       "      <th>1</th>\n",
       "      <td>11000005</td>\n",
       "      <td>99998</td>\n",
       "      <td>229992.0</td>\n",
       "      <td>8</td>\n",
       "      <td>1970</td>\n",
       "      <td>6.0</td>\n",
       "      <td>4</td>\n",
       "      <td>5</td>\n",
       "      <td>2</td>\n",
       "      <td>1.0</td>\n",
       "      <td>2.0</td>\n",
       "      <td>8.0</td>\n",
       "      <td>1</td>\n",
       "    </tr>\n",
       "    <tr>\n",
       "      <th>2</th>\n",
       "      <td>11000006</td>\n",
       "      <td>99998</td>\n",
       "      <td>132220.0</td>\n",
       "      <td>5</td>\n",
       "      <td>1980</td>\n",
       "      <td>4.0</td>\n",
       "      <td>3</td>\n",
       "      <td>3</td>\n",
       "      <td>2</td>\n",
       "      <td>1.0</td>\n",
       "      <td>2.0</td>\n",
       "      <td>10.0</td>\n",
       "      <td>1</td>\n",
       "    </tr>\n",
       "    <tr>\n",
       "      <th>3</th>\n",
       "      <td>11000007</td>\n",
       "      <td>37980</td>\n",
       "      <td>271584.0</td>\n",
       "      <td>8</td>\n",
       "      <td>1960</td>\n",
       "      <td>7.0</td>\n",
       "      <td>4</td>\n",
       "      <td>4</td>\n",
       "      <td>2</td>\n",
       "      <td>2.0</td>\n",
       "      <td>2.0</td>\n",
       "      <td>7.0</td>\n",
       "      <td>1</td>\n",
       "    </tr>\n",
       "    <tr>\n",
       "      <th>4</th>\n",
       "      <td>11000013</td>\n",
       "      <td>37980</td>\n",
       "      <td>573123.0</td>\n",
       "      <td>8</td>\n",
       "      <td>1980</td>\n",
       "      <td>8.0</td>\n",
       "      <td>3</td>\n",
       "      <td>4</td>\n",
       "      <td>2</td>\n",
       "      <td>1.0</td>\n",
       "      <td>2.0</td>\n",
       "      <td>8.0</td>\n",
       "      <td>1</td>\n",
       "    </tr>\n",
       "  </tbody>\n",
       "</table>\n",
       "</div>"
      ],
      "text/plain": [
       "    CONTROL  OMB13CBSA  MARKETVAL  TOTROOMS  YRBUILT  UNITSIZE  BEDROOMS  \\\n",
       "0  11000001      37980   307811.0         8     2000       6.0         3   \n",
       "1  11000005      99998   229992.0         8     1970       6.0         4   \n",
       "2  11000006      99998   132220.0         5     1980       4.0         3   \n",
       "3  11000007      37980   271584.0         8     1960       7.0         4   \n",
       "4  11000013      37980   573123.0         8     1980       8.0         3   \n",
       "\n",
       "   BATHROOMS  BLD  NHQSCHOOL  NHQSCRIME  RATINGNH  outliers  \n",
       "0          4    2        1.0        2.0      10.0         1  \n",
       "1          5    2        1.0        2.0       8.0         1  \n",
       "2          3    2        1.0        2.0      10.0         1  \n",
       "3          4    2        2.0        2.0       7.0         1  \n",
       "4          4    2        1.0        2.0       8.0         1  "
      ]
     },
     "execution_count": 3,
     "metadata": {},
     "output_type": "execute_result"
    }
   ],
   "source": [
    "housing_df = housing_data.copy()\n",
    "\n",
    "# We will study single family houses only\n",
    "housing_df = housing_df.loc[housing_df['BLD'] == 2]\n",
    "housing_df.head()"
   ]
  },
  {
   "cell_type": "code",
   "execution_count": 4,
   "metadata": {},
   "outputs": [
    {
     "data": {
      "text/html": [
       "<div>\n",
       "<style scoped>\n",
       "    .dataframe tbody tr th:only-of-type {\n",
       "        vertical-align: middle;\n",
       "    }\n",
       "\n",
       "    .dataframe tbody tr th {\n",
       "        vertical-align: top;\n",
       "    }\n",
       "\n",
       "    .dataframe thead th {\n",
       "        text-align: right;\n",
       "    }\n",
       "</style>\n",
       "<table border=\"1\" class=\"dataframe\">\n",
       "  <thead>\n",
       "    <tr style=\"text-align: right;\">\n",
       "      <th></th>\n",
       "      <th>OMB13CBSA</th>\n",
       "    </tr>\n",
       "    <tr>\n",
       "      <th>OMB13CBSA</th>\n",
       "      <th></th>\n",
       "    </tr>\n",
       "  </thead>\n",
       "  <tbody>\n",
       "    <tr>\n",
       "      <th>41860</th>\n",
       "      <td>210</td>\n",
       "    </tr>\n",
       "    <tr>\n",
       "      <th>35620</th>\n",
       "      <td>429</td>\n",
       "    </tr>\n",
       "    <tr>\n",
       "      <th>31080</th>\n",
       "      <td>449</td>\n",
       "    </tr>\n",
       "    <tr>\n",
       "      <th>33100</th>\n",
       "      <td>586</td>\n",
       "    </tr>\n",
       "    <tr>\n",
       "      <th>14460</th>\n",
       "      <td>595</td>\n",
       "    </tr>\n",
       "    <tr>\n",
       "      <th>47900</th>\n",
       "      <td>653</td>\n",
       "    </tr>\n",
       "    <tr>\n",
       "      <th>37980</th>\n",
       "      <td>687</td>\n",
       "    </tr>\n",
       "    <tr>\n",
       "      <th>42660</th>\n",
       "      <td>706</td>\n",
       "    </tr>\n",
       "    <tr>\n",
       "      <th>16980</th>\n",
       "      <td>797</td>\n",
       "    </tr>\n",
       "    <tr>\n",
       "      <th>12060</th>\n",
       "      <td>902</td>\n",
       "    </tr>\n",
       "    <tr>\n",
       "      <th>38060</th>\n",
       "      <td>928</td>\n",
       "    </tr>\n",
       "    <tr>\n",
       "      <th>40140</th>\n",
       "      <td>943</td>\n",
       "    </tr>\n",
       "    <tr>\n",
       "      <th>26420</th>\n",
       "      <td>1026</td>\n",
       "    </tr>\n",
       "    <tr>\n",
       "      <th>19820</th>\n",
       "      <td>1067</td>\n",
       "    </tr>\n",
       "    <tr>\n",
       "      <th>19100</th>\n",
       "      <td>1146</td>\n",
       "    </tr>\n",
       "    <tr>\n",
       "      <th>99999</th>\n",
       "      <td>2581</td>\n",
       "    </tr>\n",
       "    <tr>\n",
       "      <th>99998</th>\n",
       "      <td>7937</td>\n",
       "    </tr>\n",
       "  </tbody>\n",
       "</table>\n",
       "</div>"
      ],
      "text/plain": [
       "           OMB13CBSA\n",
       "OMB13CBSA           \n",
       "41860            210\n",
       "35620            429\n",
       "31080            449\n",
       "33100            586\n",
       "14460            595\n",
       "47900            653\n",
       "37980            687\n",
       "42660            706\n",
       "16980            797\n",
       "12060            902\n",
       "38060            928\n",
       "40140            943\n",
       "26420           1026\n",
       "19820           1067\n",
       "19100           1146\n",
       "99999           2581\n",
       "99998           7937"
      ]
     },
     "execution_count": 4,
     "metadata": {},
     "output_type": "execute_result"
    }
   ],
   "source": [
    "# Let's see which city has the most rows and use that as our data\n",
    "city_count_df = housing_df.groupby(['OMB13CBSA']).agg({'OMB13CBSA':'count'})\n",
    "city_count_df.sort_values('OMB13CBSA')\n",
    "\n",
    "# Use 19100 - DFW Texas"
   ]
  },
  {
   "cell_type": "code",
   "execution_count": 4,
   "metadata": {},
   "outputs": [
    {
     "data": {
      "text/html": [
       "<div>\n",
       "<style scoped>\n",
       "    .dataframe tbody tr th:only-of-type {\n",
       "        vertical-align: middle;\n",
       "    }\n",
       "\n",
       "    .dataframe tbody tr th {\n",
       "        vertical-align: top;\n",
       "    }\n",
       "\n",
       "    .dataframe thead th {\n",
       "        text-align: right;\n",
       "    }\n",
       "</style>\n",
       "<table border=\"1\" class=\"dataframe\">\n",
       "  <thead>\n",
       "    <tr style=\"text-align: right;\">\n",
       "      <th></th>\n",
       "      <th>CONTROL</th>\n",
       "      <th>OMB13CBSA</th>\n",
       "      <th>MARKETVAL</th>\n",
       "      <th>TOTROOMS</th>\n",
       "      <th>YRBUILT</th>\n",
       "      <th>UNITSIZE</th>\n",
       "      <th>BEDROOMS</th>\n",
       "      <th>BATHROOMS</th>\n",
       "      <th>BLD</th>\n",
       "      <th>NHQSCHOOL</th>\n",
       "      <th>NHQSCRIME</th>\n",
       "      <th>RATINGNH</th>\n",
       "      <th>outliers</th>\n",
       "    </tr>\n",
       "  </thead>\n",
       "  <tbody>\n",
       "    <tr>\n",
       "      <th>3623</th>\n",
       "      <td>11014590</td>\n",
       "      <td>19100</td>\n",
       "      <td>190639.0</td>\n",
       "      <td>5</td>\n",
       "      <td>1940</td>\n",
       "      <td>4.0</td>\n",
       "      <td>2</td>\n",
       "      <td>1</td>\n",
       "      <td>2</td>\n",
       "      <td>1.0</td>\n",
       "      <td>2.0</td>\n",
       "      <td>7.0</td>\n",
       "      <td>1</td>\n",
       "    </tr>\n",
       "    <tr>\n",
       "      <th>3624</th>\n",
       "      <td>11014595</td>\n",
       "      <td>19100</td>\n",
       "      <td>374382.0</td>\n",
       "      <td>5</td>\n",
       "      <td>1970</td>\n",
       "      <td>4.0</td>\n",
       "      <td>3</td>\n",
       "      <td>3</td>\n",
       "      <td>2</td>\n",
       "      <td>1.0</td>\n",
       "      <td>2.0</td>\n",
       "      <td>8.0</td>\n",
       "      <td>1</td>\n",
       "    </tr>\n",
       "    <tr>\n",
       "      <th>3625</th>\n",
       "      <td>11014596</td>\n",
       "      <td>19100</td>\n",
       "      <td>178064.0</td>\n",
       "      <td>6</td>\n",
       "      <td>1980</td>\n",
       "      <td>5.0</td>\n",
       "      <td>3</td>\n",
       "      <td>3</td>\n",
       "      <td>2</td>\n",
       "      <td>1.0</td>\n",
       "      <td>2.0</td>\n",
       "      <td>10.0</td>\n",
       "      <td>1</td>\n",
       "    </tr>\n",
       "    <tr>\n",
       "      <th>3626</th>\n",
       "      <td>11014606</td>\n",
       "      <td>19100</td>\n",
       "      <td>378147.0</td>\n",
       "      <td>9</td>\n",
       "      <td>1970</td>\n",
       "      <td>9.0</td>\n",
       "      <td>4</td>\n",
       "      <td>5</td>\n",
       "      <td>2</td>\n",
       "      <td>1.0</td>\n",
       "      <td>2.0</td>\n",
       "      <td>9.0</td>\n",
       "      <td>1</td>\n",
       "    </tr>\n",
       "    <tr>\n",
       "      <th>3627</th>\n",
       "      <td>11014607</td>\n",
       "      <td>19100</td>\n",
       "      <td>58516.0</td>\n",
       "      <td>6</td>\n",
       "      <td>1950</td>\n",
       "      <td>5.0</td>\n",
       "      <td>3</td>\n",
       "      <td>3</td>\n",
       "      <td>2</td>\n",
       "      <td>1.0</td>\n",
       "      <td>2.0</td>\n",
       "      <td>5.0</td>\n",
       "      <td>1</td>\n",
       "    </tr>\n",
       "  </tbody>\n",
       "</table>\n",
       "</div>"
      ],
      "text/plain": [
       "       CONTROL  OMB13CBSA  MARKETVAL  TOTROOMS  YRBUILT  UNITSIZE  BEDROOMS  \\\n",
       "3623  11014590      19100   190639.0         5     1940       4.0         2   \n",
       "3624  11014595      19100   374382.0         5     1970       4.0         3   \n",
       "3625  11014596      19100   178064.0         6     1980       5.0         3   \n",
       "3626  11014606      19100   378147.0         9     1970       9.0         4   \n",
       "3627  11014607      19100    58516.0         6     1950       5.0         3   \n",
       "\n",
       "      BATHROOMS  BLD  NHQSCHOOL  NHQSCRIME  RATINGNH  outliers  \n",
       "3623          1    2        1.0        2.0       7.0         1  \n",
       "3624          3    2        1.0        2.0       8.0         1  \n",
       "3625          3    2        1.0        2.0      10.0         1  \n",
       "3626          5    2        1.0        2.0       9.0         1  \n",
       "3627          3    2        1.0        2.0       5.0         1  "
      ]
     },
     "execution_count": 4,
     "metadata": {},
     "output_type": "execute_result"
    }
   ],
   "source": [
    "# Further narrow down to one city DFW Texas \n",
    "housing_train_df = housing_df.loc[housing_df['OMB13CBSA'] == 19100]\n",
    "housing_train_df.head()"
   ]
  },
  {
   "cell_type": "code",
   "execution_count": 5,
   "metadata": {},
   "outputs": [
    {
     "data": {
      "text/plain": [
       "1146"
      ]
     },
     "execution_count": 5,
     "metadata": {},
     "output_type": "execute_result"
    }
   ],
   "source": [
    "# Find out how many records are in the train data\n",
    "len(housing_train_df.index)"
   ]
  },
  {
   "cell_type": "code",
   "execution_count": 6,
   "metadata": {
    "slideshow": {
     "slide_type": "subslide"
    }
   },
   "outputs": [
    {
     "name": "stdout",
     "output_type": "stream",
     "text": [
      "(1146, 2) (1146,)\n"
     ]
    }
   ],
   "source": [
    "# Build X and y\n",
    "X = housing_train_df[[\"TOTROOMS\", \"UNITSIZE\"]].values\n",
    "y = housing_train_df[\"MARKETVAL\"].values\n",
    "print(X.shape, y.shape)"
   ]
  },
  {
   "cell_type": "markdown",
   "metadata": {
    "slideshow": {
     "slide_type": "slide"
    }
   },
   "source": [
    "## Build model"
   ]
  },
  {
   "cell_type": "code",
   "execution_count": 8,
   "metadata": {
    "slideshow": {
     "slide_type": "fragment"
    }
   },
   "outputs": [
    {
     "name": "stdout",
     "output_type": "stream",
     "text": [
      "(859, 3) (859, 1)\n"
     ]
    }
   ],
   "source": [
    "from sklearn.model_selection import train_test_split\n",
    "\n",
    "X = housing_train_df[[\"TOTROOMS\", \"BATHROOMS\", \"UNITSIZE\"]]\n",
    "y = y.reshape(-1, 1)\n",
    "\n",
    "X_train, X_test, y_train, y_test = train_test_split(X, y, random_state=42)\n",
    "print(X_train.shape, y_train.shape)"
   ]
  },
  {
   "cell_type": "code",
   "execution_count": 9,
   "metadata": {
    "slideshow": {
     "slide_type": "fragment"
    }
   },
   "outputs": [
    {
     "name": "stdout",
     "output_type": "stream",
     "text": [
      "R2:  0.47172332229123204\n",
      "Weight coefficients:  [[ 8341.4928021  31348.37541292 29585.73257339]]\n",
      "y-axis intercept:  [-108109.11406612]\n"
     ]
    }
   ],
   "source": [
    "# Results \n",
    "from sklearn.linear_model import LinearRegression\n",
    "model = LinearRegression()\n",
    "model.fit(X_train, y_train)\n",
    "\n",
    "score = model.score(X_train, y_train)\n",
    "\n",
    "print('R2: ', score)\n",
    "print('Weight coefficients: ', model.coef_)\n",
    "print('y-axis intercept: ', model.intercept_) \n",
    "\n"
   ]
  },
  {
   "cell_type": "markdown",
   "metadata": {
    "slideshow": {
     "slide_type": "slide"
    }
   },
   "source": [
    "## Predict"
   ]
  },
  {
   "cell_type": "code",
   "execution_count": 10,
   "metadata": {},
   "outputs": [
    {
     "data": {
      "image/png": "[encoded data removed]",
      "text/plain": [
       "<Figure size 432x288 with 1 Axes>"
      ]
     },
     "metadata": {
      "needs_background": "light"
     },
     "output_type": "display_data"
    }
   ],
   "source": [
    "# Build Residual Plot\n",
    "prediction = model.predict(X_test)\n",
    "plt.scatter(model.predict(X), model.predict(X) - y, c=\"blue\", label=\"Training Data\")\n",
    "plt.scatter(prediction, prediction - y_test, c=\"orange\", label=\"Testing Data\")\n",
    "plt.legend()\n",
    "plt.hlines(y=0, xmin=prediction.min(), xmax=prediction.max())\n",
    "plt.title(\"Residual Plot\")\n",
    "plt.savefig(\"../output/MultiLinear_City_Residual_Clean.png\", bbox_inches='tight')\n",
    "plt.show()"
   ]
  },
  {
   "cell_type": "code",
   "execution_count": 11,
   "metadata": {
    "slideshow": {
     "slide_type": "fragment"
    }
   },
   "outputs": [
    {
     "name": "stdout",
     "output_type": "stream",
     "text": [
      "MSE: 9285813108.596216, R2: 0.44268361495124264\n"
     ]
    }
   ],
   "source": [
    "from sklearn.metrics import mean_squared_error\n",
    "\n",
    "# Mean Squared Error\n",
    "MSE = mean_squared_error(y_test, prediction)\n",
    "r2 = model.score(X_test, y_test)\n",
    "\n",
    "print(f\"MSE: {MSE}, R2: {r2}\")"
   ]
  }
 ],
 "metadata": {
  "anaconda-cloud": {},
  "celltoolbar": "Slideshow",
  "kernelspec": {
   "display_name": "Python 3",
   "language": "python",
   "name": "python3"
  },
  "language_info": {
   "codemirror_mode": {
    "name": "ipython",
    "version": 3
   },
   "file_extension": ".py",
   "mimetype": "text/x-python",
   "name": "python",
   "nbconvert_exporter": "python",
   "pygments_lexer": "ipython3",
   "version": "3.6.6"
  },
  "varInspector": {
   "cols": {
    "lenName": 16,
    "lenType": 16,
    "lenVar": 40
   },
   "kernels_config": {
    "python": {
     "delete_cmd_postfix": "",
     "delete_cmd_prefix": "del ",
     "library": "var_list.py",
     "varRefreshCmd": "print(var_dic_list())"
    },
    "r": {
     "delete_cmd_postfix": ") ",
     "delete_cmd_prefix": "rm(",
     "library": "var_list.r",
     "varRefreshCmd": "cat(var_dic_list()) "
    }
   },
   "types_to_exclude": [
    "module",
    "function",
    "builtin_function_or_method",
    "instance",
    "_Feature"
   ],
   "window_display": false
  }
 },
 "nbformat": 4,
 "nbformat_minor": 2
}
