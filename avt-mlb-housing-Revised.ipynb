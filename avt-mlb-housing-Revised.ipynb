{
 "cells": [
  {
   "cell_type": "markdown",
   "metadata": {},
   "source": [
    "# American Housing Survey (2017) "
   ]
  },
  {
   "cell_type": "code",
   "execution_count": 1,
   "metadata": {},
   "outputs": [],
   "source": [
    "%matplotlib inline\n",
    "import matplotlib.pyplot as plt\n",
    "import numpy as np\n",
    "import pandas as pd"
   ]
  },
  {
   "cell_type": "code",
   "execution_count": 2,
   "metadata": {},
   "outputs": [
    {
     "data": {
      "text/html": [
       "<div>\n",
       "<style scoped>\n",
       "    .dataframe tbody tr th:only-of-type {\n",
       "        vertical-align: middle;\n",
       "    }\n",
       "\n",
       "    .dataframe tbody tr th {\n",
       "        vertical-align: top;\n",
       "    }\n",
       "\n",
       "    .dataframe thead th {\n",
       "        text-align: right;\n",
       "    }\n",
       "</style>\n",
       "<table border=\"1\" class=\"dataframe\">\n",
       "  <thead>\n",
       "    <tr style=\"text-align: right;\">\n",
       "      <th></th>\n",
       "      <th>CONTROL</th>\n",
       "      <th>YRBUILT</th>\n",
       "      <th>UNITSIZE</th>\n",
       "      <th>NHQSCHOOL</th>\n",
       "      <th>TOTROOMS</th>\n",
       "      <th>NHQSCRIME</th>\n",
       "      <th>LOTSIZE</th>\n",
       "      <th>RATINGHS</th>\n",
       "      <th>RATINGNH</th>\n",
       "      <th>PORCH</th>\n",
       "      <th>BATHROOMS</th>\n",
       "      <th>BEDROOMS</th>\n",
       "      <th>BLD</th>\n",
       "      <th>MARKETVAL</th>\n",
       "      <th>OMB13CBSA</th>\n",
       "    </tr>\n",
       "  </thead>\n",
       "  <tbody>\n",
       "    <tr>\n",
       "      <th>0</th>\n",
       "      <td>11000001</td>\n",
       "      <td>2000</td>\n",
       "      <td>6.0</td>\n",
       "      <td>1.0</td>\n",
       "      <td>8</td>\n",
       "      <td>2.0</td>\n",
       "      <td>2.0</td>\n",
       "      <td>10.0</td>\n",
       "      <td>10.0</td>\n",
       "      <td>1</td>\n",
       "      <td>4</td>\n",
       "      <td>3</td>\n",
       "      <td>2</td>\n",
       "      <td>307811.0</td>\n",
       "      <td>37980</td>\n",
       "    </tr>\n",
       "    <tr>\n",
       "      <th>1</th>\n",
       "      <td>11000002</td>\n",
       "      <td>1970</td>\n",
       "      <td>8.0</td>\n",
       "      <td>1.0</td>\n",
       "      <td>7</td>\n",
       "      <td>2.0</td>\n",
       "      <td>7.0</td>\n",
       "      <td>10.0</td>\n",
       "      <td>10.0</td>\n",
       "      <td>1</td>\n",
       "      <td>4</td>\n",
       "      <td>3</td>\n",
       "      <td>3</td>\n",
       "      <td>1005540.0</td>\n",
       "      <td>99998</td>\n",
       "    </tr>\n",
       "    <tr>\n",
       "      <th>2</th>\n",
       "      <td>11000005</td>\n",
       "      <td>1970</td>\n",
       "      <td>6.0</td>\n",
       "      <td>1.0</td>\n",
       "      <td>8</td>\n",
       "      <td>2.0</td>\n",
       "      <td>5.0</td>\n",
       "      <td>8.0</td>\n",
       "      <td>8.0</td>\n",
       "      <td>1</td>\n",
       "      <td>5</td>\n",
       "      <td>4</td>\n",
       "      <td>2</td>\n",
       "      <td>229992.0</td>\n",
       "      <td>99998</td>\n",
       "    </tr>\n",
       "    <tr>\n",
       "      <th>3</th>\n",
       "      <td>11000006</td>\n",
       "      <td>1980</td>\n",
       "      <td>4.0</td>\n",
       "      <td>1.0</td>\n",
       "      <td>5</td>\n",
       "      <td>2.0</td>\n",
       "      <td>3.0</td>\n",
       "      <td>10.0</td>\n",
       "      <td>10.0</td>\n",
       "      <td>1</td>\n",
       "      <td>3</td>\n",
       "      <td>3</td>\n",
       "      <td>2</td>\n",
       "      <td>132220.0</td>\n",
       "      <td>99998</td>\n",
       "    </tr>\n",
       "    <tr>\n",
       "      <th>4</th>\n",
       "      <td>11000007</td>\n",
       "      <td>1960</td>\n",
       "      <td>7.0</td>\n",
       "      <td>2.0</td>\n",
       "      <td>8</td>\n",
       "      <td>2.0</td>\n",
       "      <td>2.0</td>\n",
       "      <td>7.0</td>\n",
       "      <td>7.0</td>\n",
       "      <td>1</td>\n",
       "      <td>4</td>\n",
       "      <td>4</td>\n",
       "      <td>2</td>\n",
       "      <td>271584.0</td>\n",
       "      <td>37980</td>\n",
       "    </tr>\n",
       "  </tbody>\n",
       "</table>\n",
       "</div>"
      ],
      "text/plain": [
       "    CONTROL  YRBUILT  UNITSIZE  NHQSCHOOL  TOTROOMS  NHQSCRIME  LOTSIZE  \\\n",
       "0  11000001     2000       6.0        1.0         8        2.0      2.0   \n",
       "1  11000002     1970       8.0        1.0         7        2.0      7.0   \n",
       "2  11000005     1970       6.0        1.0         8        2.0      5.0   \n",
       "3  11000006     1980       4.0        1.0         5        2.0      3.0   \n",
       "4  11000007     1960       7.0        2.0         8        2.0      2.0   \n",
       "\n",
       "   RATINGHS  RATINGNH  PORCH  BATHROOMS  BEDROOMS  BLD  MARKETVAL  OMB13CBSA  \n",
       "0      10.0      10.0      1          4         3    2   307811.0      37980  \n",
       "1      10.0      10.0      1          4         3    3  1005540.0      99998  \n",
       "2       8.0       8.0      1          5         4    2   229992.0      99998  \n",
       "3      10.0      10.0      1          3         3    2   132220.0      99998  \n",
       "4       7.0       7.0      1          4         4    2   271584.0      37980  "
      ]
     },
     "execution_count": 2,
     "metadata": {},
     "output_type": "execute_result"
    }
   ],
   "source": [
    "data = pd.read_csv(\"dataset/2017nat_housing_survey1.csv\")\n",
    "data.head()"
   ]
  },
  {
   "cell_type": "code",
   "execution_count": 3,
   "metadata": {},
   "outputs": [],
   "source": [
    "#Identify how many NaN\n",
    "#data.info()"
   ]
  },
  {
   "cell_type": "code",
   "execution_count": 3,
   "metadata": {},
   "outputs": [],
   "source": [
    "data_clean = data.dropna(how='any')"
   ]
  },
  {
   "cell_type": "code",
   "execution_count": 4,
   "metadata": {},
   "outputs": [
    {
     "data": {
      "text/html": [
       "<div>\n",
       "<style scoped>\n",
       "    .dataframe tbody tr th:only-of-type {\n",
       "        vertical-align: middle;\n",
       "    }\n",
       "\n",
       "    .dataframe tbody tr th {\n",
       "        vertical-align: top;\n",
       "    }\n",
       "\n",
       "    .dataframe thead th {\n",
       "        text-align: right;\n",
       "    }\n",
       "</style>\n",
       "<table border=\"1\" class=\"dataframe\">\n",
       "  <thead>\n",
       "    <tr style=\"text-align: right;\">\n",
       "      <th></th>\n",
       "      <th>CONTROL</th>\n",
       "      <th>YRBUILT</th>\n",
       "      <th>UNITSIZE</th>\n",
       "      <th>NHQSCHOOL</th>\n",
       "      <th>TOTROOMS</th>\n",
       "      <th>NHQSCRIME</th>\n",
       "      <th>LOTSIZE</th>\n",
       "      <th>RATINGHS</th>\n",
       "      <th>RATINGNH</th>\n",
       "      <th>PORCH</th>\n",
       "      <th>BATHROOMS</th>\n",
       "      <th>BEDROOMS</th>\n",
       "      <th>BLD</th>\n",
       "      <th>MARKETVAL</th>\n",
       "      <th>OMB13CBSA</th>\n",
       "    </tr>\n",
       "  </thead>\n",
       "  <tbody>\n",
       "    <tr>\n",
       "      <th>0</th>\n",
       "      <td>11000001</td>\n",
       "      <td>2000</td>\n",
       "      <td>6.0</td>\n",
       "      <td>1.0</td>\n",
       "      <td>8</td>\n",
       "      <td>2.0</td>\n",
       "      <td>2.0</td>\n",
       "      <td>10.0</td>\n",
       "      <td>10.0</td>\n",
       "      <td>1</td>\n",
       "      <td>4</td>\n",
       "      <td>3</td>\n",
       "      <td>2</td>\n",
       "      <td>307811.0</td>\n",
       "      <td>37980</td>\n",
       "    </tr>\n",
       "    <tr>\n",
       "      <th>1</th>\n",
       "      <td>11000002</td>\n",
       "      <td>1970</td>\n",
       "      <td>8.0</td>\n",
       "      <td>1.0</td>\n",
       "      <td>7</td>\n",
       "      <td>2.0</td>\n",
       "      <td>7.0</td>\n",
       "      <td>10.0</td>\n",
       "      <td>10.0</td>\n",
       "      <td>1</td>\n",
       "      <td>4</td>\n",
       "      <td>3</td>\n",
       "      <td>3</td>\n",
       "      <td>1005540.0</td>\n",
       "      <td>99998</td>\n",
       "    </tr>\n",
       "    <tr>\n",
       "      <th>2</th>\n",
       "      <td>11000005</td>\n",
       "      <td>1970</td>\n",
       "      <td>6.0</td>\n",
       "      <td>1.0</td>\n",
       "      <td>8</td>\n",
       "      <td>2.0</td>\n",
       "      <td>5.0</td>\n",
       "      <td>8.0</td>\n",
       "      <td>8.0</td>\n",
       "      <td>1</td>\n",
       "      <td>5</td>\n",
       "      <td>4</td>\n",
       "      <td>2</td>\n",
       "      <td>229992.0</td>\n",
       "      <td>99998</td>\n",
       "    </tr>\n",
       "    <tr>\n",
       "      <th>3</th>\n",
       "      <td>11000006</td>\n",
       "      <td>1980</td>\n",
       "      <td>4.0</td>\n",
       "      <td>1.0</td>\n",
       "      <td>5</td>\n",
       "      <td>2.0</td>\n",
       "      <td>3.0</td>\n",
       "      <td>10.0</td>\n",
       "      <td>10.0</td>\n",
       "      <td>1</td>\n",
       "      <td>3</td>\n",
       "      <td>3</td>\n",
       "      <td>2</td>\n",
       "      <td>132220.0</td>\n",
       "      <td>99998</td>\n",
       "    </tr>\n",
       "    <tr>\n",
       "      <th>4</th>\n",
       "      <td>11000007</td>\n",
       "      <td>1960</td>\n",
       "      <td>7.0</td>\n",
       "      <td>2.0</td>\n",
       "      <td>8</td>\n",
       "      <td>2.0</td>\n",
       "      <td>2.0</td>\n",
       "      <td>7.0</td>\n",
       "      <td>7.0</td>\n",
       "      <td>1</td>\n",
       "      <td>4</td>\n",
       "      <td>4</td>\n",
       "      <td>2</td>\n",
       "      <td>271584.0</td>\n",
       "      <td>37980</td>\n",
       "    </tr>\n",
       "  </tbody>\n",
       "</table>\n",
       "</div>"
      ],
      "text/plain": [
       "    CONTROL  YRBUILT  UNITSIZE  NHQSCHOOL  TOTROOMS  NHQSCRIME  LOTSIZE  \\\n",
       "0  11000001     2000       6.0        1.0         8        2.0      2.0   \n",
       "1  11000002     1970       8.0        1.0         7        2.0      7.0   \n",
       "2  11000005     1970       6.0        1.0         8        2.0      5.0   \n",
       "3  11000006     1980       4.0        1.0         5        2.0      3.0   \n",
       "4  11000007     1960       7.0        2.0         8        2.0      2.0   \n",
       "\n",
       "   RATINGHS  RATINGNH  PORCH  BATHROOMS  BEDROOMS  BLD  MARKETVAL  OMB13CBSA  \n",
       "0      10.0      10.0      1          4         3    2   307811.0      37980  \n",
       "1      10.0      10.0      1          4         3    3  1005540.0      99998  \n",
       "2       8.0       8.0      1          5         4    2   229992.0      99998  \n",
       "3      10.0      10.0      1          3         3    2   132220.0      99998  \n",
       "4       7.0       7.0      1          4         4    2   271584.0      37980  "
      ]
     },
     "execution_count": 4,
     "metadata": {},
     "output_type": "execute_result"
    }
   ],
   "source": [
    "data_clean.head()"
   ]
  },
  {
   "cell_type": "code",
   "execution_count": 5,
   "metadata": {},
   "outputs": [],
   "source": [
    "#Export CSV file without Pandas index, include header\n",
    "data_clean.to_csv(\"dataset/data_clean.csv\", index=False, header=True)"
   ]
  },
  {
   "cell_type": "code",
   "execution_count": 6,
   "metadata": {},
   "outputs": [],
   "source": [
    "#data.dtypes"
   ]
  },
  {
   "cell_type": "code",
   "execution_count": 7,
   "metadata": {},
   "outputs": [],
   "source": [
    "#data_clean.info()"
   ]
  },
  {
   "cell_type": "code",
   "execution_count": 6,
   "metadata": {},
   "outputs": [
    {
     "data": {
      "text/html": [
       "<div>\n",
       "<style scoped>\n",
       "    .dataframe tbody tr th:only-of-type {\n",
       "        vertical-align: middle;\n",
       "    }\n",
       "\n",
       "    .dataframe tbody tr th {\n",
       "        vertical-align: top;\n",
       "    }\n",
       "\n",
       "    .dataframe thead th {\n",
       "        text-align: right;\n",
       "    }\n",
       "</style>\n",
       "<table border=\"1\" class=\"dataframe\">\n",
       "  <thead>\n",
       "    <tr style=\"text-align: right;\">\n",
       "      <th></th>\n",
       "      <th>CONTROL</th>\n",
       "      <th>OMB13CBSA</th>\n",
       "      <th>MARKETVAL</th>\n",
       "      <th>TOTROOMS</th>\n",
       "      <th>YRBUILT</th>\n",
       "      <th>UNITSIZE</th>\n",
       "      <th>BEDROOMS</th>\n",
       "      <th>BATHROOMS</th>\n",
       "      <th>BLD</th>\n",
       "      <th>NHQSCHOOL</th>\n",
       "      <th>NHQSCRIME</th>\n",
       "      <th>RATINGNH</th>\n",
       "    </tr>\n",
       "  </thead>\n",
       "  <tbody>\n",
       "    <tr>\n",
       "      <th>0</th>\n",
       "      <td>11000001</td>\n",
       "      <td>37980</td>\n",
       "      <td>307811.0</td>\n",
       "      <td>8</td>\n",
       "      <td>2000</td>\n",
       "      <td>6.0</td>\n",
       "      <td>3</td>\n",
       "      <td>4</td>\n",
       "      <td>2</td>\n",
       "      <td>1.0</td>\n",
       "      <td>2.0</td>\n",
       "      <td>10.0</td>\n",
       "    </tr>\n",
       "    <tr>\n",
       "      <th>1</th>\n",
       "      <td>11000002</td>\n",
       "      <td>99998</td>\n",
       "      <td>1005540.0</td>\n",
       "      <td>7</td>\n",
       "      <td>1970</td>\n",
       "      <td>8.0</td>\n",
       "      <td>3</td>\n",
       "      <td>4</td>\n",
       "      <td>3</td>\n",
       "      <td>1.0</td>\n",
       "      <td>2.0</td>\n",
       "      <td>10.0</td>\n",
       "    </tr>\n",
       "    <tr>\n",
       "      <th>2</th>\n",
       "      <td>11000005</td>\n",
       "      <td>99998</td>\n",
       "      <td>229992.0</td>\n",
       "      <td>8</td>\n",
       "      <td>1970</td>\n",
       "      <td>6.0</td>\n",
       "      <td>4</td>\n",
       "      <td>5</td>\n",
       "      <td>2</td>\n",
       "      <td>1.0</td>\n",
       "      <td>2.0</td>\n",
       "      <td>8.0</td>\n",
       "    </tr>\n",
       "    <tr>\n",
       "      <th>3</th>\n",
       "      <td>11000006</td>\n",
       "      <td>99998</td>\n",
       "      <td>132220.0</td>\n",
       "      <td>5</td>\n",
       "      <td>1980</td>\n",
       "      <td>4.0</td>\n",
       "      <td>3</td>\n",
       "      <td>3</td>\n",
       "      <td>2</td>\n",
       "      <td>1.0</td>\n",
       "      <td>2.0</td>\n",
       "      <td>10.0</td>\n",
       "    </tr>\n",
       "    <tr>\n",
       "      <th>4</th>\n",
       "      <td>11000007</td>\n",
       "      <td>37980</td>\n",
       "      <td>271584.0</td>\n",
       "      <td>8</td>\n",
       "      <td>1960</td>\n",
       "      <td>7.0</td>\n",
       "      <td>4</td>\n",
       "      <td>4</td>\n",
       "      <td>2</td>\n",
       "      <td>2.0</td>\n",
       "      <td>2.0</td>\n",
       "      <td>7.0</td>\n",
       "    </tr>\n",
       "  </tbody>\n",
       "</table>\n",
       "</div>"
      ],
      "text/plain": [
       "    CONTROL  OMB13CBSA  MARKETVAL  TOTROOMS  YRBUILT  UNITSIZE  BEDROOMS  \\\n",
       "0  11000001      37980   307811.0         8     2000       6.0         3   \n",
       "1  11000002      99998  1005540.0         7     1970       8.0         3   \n",
       "2  11000005      99998   229992.0         8     1970       6.0         4   \n",
       "3  11000006      99998   132220.0         5     1980       4.0         3   \n",
       "4  11000007      37980   271584.0         8     1960       7.0         4   \n",
       "\n",
       "   BATHROOMS  BLD  NHQSCHOOL  NHQSCRIME  RATINGNH  \n",
       "0          4    2        1.0        2.0      10.0  \n",
       "1          4    3        1.0        2.0      10.0  \n",
       "2          5    2        1.0        2.0       8.0  \n",
       "3          3    2        1.0        2.0      10.0  \n",
       "4          4    2        2.0        2.0       7.0  "
      ]
     },
     "execution_count": 6,
     "metadata": {},
     "output_type": "execute_result"
    }
   ],
   "source": [
    "newDF= data_clean[['CONTROL', 'OMB13CBSA', 'MARKETVAL', 'TOTROOMS', 'YRBUILT', 'UNITSIZE', 'BEDROOMS', 'BATHROOMS', 'BLD', 'NHQSCHOOL', 'NHQSCRIME', 'RATINGNH']]\n",
    "newDF.head()"
   ]
  },
  {
   "cell_type": "code",
   "execution_count": 8,
   "metadata": {},
   "outputs": [],
   "source": [
    "m = newDF[\"MARKETVAL\"]\n",
    "t = newDF[\"TOTROOMS\"]"
   ]
  },
  {
   "cell_type": "code",
   "execution_count": 9,
   "metadata": {},
   "outputs": [],
   "source": [
    "y = m.values.reshape(-1, 1)\n",
    "X = t.values.reshape(-1,1)"
   ]
  },
  {
   "cell_type": "code",
   "execution_count": 10,
   "metadata": {},
   "outputs": [
    {
     "name": "stdout",
     "output_type": "stream",
     "text": [
      "Shape:  (27095, 1) (27095, 1)\n"
     ]
    }
   ],
   "source": [
    "print(\"Shape: \", X.shape, y.shape)"
   ]
  },
  {
   "cell_type": "code",
   "execution_count": 13,
   "metadata": {},
   "outputs": [],
   "source": [
    "from sklearn.covariance import EllipticEnvelope\n",
    "\n",
    "outlier = EllipticEnvelope(contamination=0.1)\n",
    "outlier.fit(X)\n",
    "prediction1 = outlier.predict(X)"
   ]
  },
  {
   "cell_type": "code",
   "execution_count": 8,
   "metadata": {},
   "outputs": [
    {
     "data": {
      "text/plain": [
       "array([[3.07811e+05, 8.00000e+00],\n",
       "       [1.00554e+06, 7.00000e+00],\n",
       "       [2.29992e+05, 8.00000e+00],\n",
       "       ...,\n",
       "       [3.07518e+05, 5.00000e+00],\n",
       "       [3.93286e+05, 7.00000e+00],\n",
       "       [9.90315e+05, 8.00000e+00]])"
      ]
     },
     "execution_count": 8,
     "metadata": {},
     "output_type": "execute_result"
    }
   ],
   "source": [
    "feature = newDF.iloc[:, [2, 3]].values\n",
    "feature"
   ]
  },
  {
   "cell_type": "code",
   "execution_count": 9,
   "metadata": {},
   "outputs": [
    {
     "name": "stderr",
     "output_type": "stream",
     "text": [
      "c:\\users\\zhen\\anaconda3\\envs\\pythondata\\lib\\site-packages\\sklearn\\covariance\\robust_covariance.py:165: RuntimeWarning: Warning! det > previous_det (22.625542043123907 > 22.459305913022487)\n",
      "  % (det, previous_det), RuntimeWarning)\n",
      "c:\\users\\zhen\\anaconda3\\envs\\pythondata\\lib\\site-packages\\sklearn\\covariance\\robust_covariance.py:165: RuntimeWarning: Warning! det > previous_det (22.704977602754468 > 22.554896689975390)\n",
      "  % (det, previous_det), RuntimeWarning)\n",
      "c:\\users\\zhen\\anaconda3\\envs\\pythondata\\lib\\site-packages\\sklearn\\covariance\\robust_covariance.py:165: RuntimeWarning: Warning! det > previous_det (22.724518932926781 > 22.566096976638818)\n",
      "  % (det, previous_det), RuntimeWarning)\n",
      "c:\\users\\zhen\\anaconda3\\envs\\pythondata\\lib\\site-packages\\sklearn\\covariance\\robust_covariance.py:165: RuntimeWarning: Warning! det > previous_det (22.772319798533761 > 22.612677206768279)\n",
      "  % (det, previous_det), RuntimeWarning)\n",
      "c:\\users\\zhen\\anaconda3\\envs\\pythondata\\lib\\site-packages\\sklearn\\covariance\\robust_covariance.py:165: RuntimeWarning: Warning! det > previous_det (22.657673681786566 > 22.501486945404110)\n",
      "  % (det, previous_det), RuntimeWarning)\n",
      "c:\\users\\zhen\\anaconda3\\envs\\pythondata\\lib\\site-packages\\sklearn\\covariance\\robust_covariance.py:165: RuntimeWarning: Warning! det > previous_det (22.909521509522232 > 22.743608588167721)\n",
      "  % (det, previous_det), RuntimeWarning)\n",
      "c:\\users\\zhen\\anaconda3\\envs\\pythondata\\lib\\site-packages\\sklearn\\covariance\\robust_covariance.py:165: RuntimeWarning: Warning! det > previous_det (22.930441667037680 > 22.785812815029583)\n",
      "  % (det, previous_det), RuntimeWarning)\n",
      "c:\\users\\zhen\\anaconda3\\envs\\pythondata\\lib\\site-packages\\sklearn\\covariance\\robust_covariance.py:165: RuntimeWarning: Warning! det > previous_det (22.917576205689940 > 22.765925081747547)\n",
      "  % (det, previous_det), RuntimeWarning)\n",
      "c:\\users\\zhen\\anaconda3\\envs\\pythondata\\lib\\site-packages\\sklearn\\covariance\\robust_covariance.py:165: RuntimeWarning: Warning! det > previous_det (22.938638673355879 > 22.797294211095220)\n",
      "  % (det, previous_det), RuntimeWarning)\n",
      "c:\\users\\zhen\\anaconda3\\envs\\pythondata\\lib\\site-packages\\sklearn\\covariance\\robust_covariance.py:165: RuntimeWarning: Warning! det > previous_det (22.953031428389462 > 22.826767631358102)\n",
      "  % (det, previous_det), RuntimeWarning)\n",
      "c:\\users\\zhen\\anaconda3\\envs\\pythondata\\lib\\site-packages\\sklearn\\covariance\\robust_covariance.py:165: RuntimeWarning: Warning! det > previous_det (22.807509900837886 > 22.685554399268472)\n",
      "  % (det, previous_det), RuntimeWarning)\n",
      "c:\\users\\zhen\\anaconda3\\envs\\pythondata\\lib\\site-packages\\sklearn\\covariance\\robust_covariance.py:165: RuntimeWarning: Warning! det > previous_det (22.845282339473268 > 22.721677658680175)\n",
      "  % (det, previous_det), RuntimeWarning)\n",
      "c:\\users\\zhen\\anaconda3\\envs\\pythondata\\lib\\site-packages\\sklearn\\covariance\\robust_covariance.py:165: RuntimeWarning: Warning! det > previous_det (22.822582379090228 > 22.674100707327117)\n",
      "  % (det, previous_det), RuntimeWarning)\n",
      "c:\\users\\zhen\\anaconda3\\envs\\pythondata\\lib\\site-packages\\sklearn\\covariance\\robust_covariance.py:165: RuntimeWarning: Warning! det > previous_det (22.909521509522232 > 22.759750337701583)\n",
      "  % (det, previous_det), RuntimeWarning)\n",
      "c:\\users\\zhen\\anaconda3\\envs\\pythondata\\lib\\site-packages\\sklearn\\covariance\\robust_covariance.py:165: RuntimeWarning: Warning! det > previous_det (22.921386374821278 > 22.783762345780382)\n",
      "  % (det, previous_det), RuntimeWarning)\n",
      "c:\\users\\zhen\\anaconda3\\envs\\pythondata\\lib\\site-packages\\sklearn\\covariance\\robust_covariance.py:165: RuntimeWarning: Warning! det > previous_det (22.938638673355879 > 22.806588484026751)\n",
      "  % (det, previous_det), RuntimeWarning)\n",
      "c:\\users\\zhen\\anaconda3\\envs\\pythondata\\lib\\site-packages\\sklearn\\covariance\\robust_covariance.py:165: RuntimeWarning: Warning! det > previous_det (22.940888952234051 > 22.813309614620682)\n",
      "  % (det, previous_det), RuntimeWarning)\n",
      "c:\\users\\zhen\\anaconda3\\envs\\pythondata\\lib\\site-packages\\sklearn\\covariance\\robust_covariance.py:165: RuntimeWarning: Warning! det > previous_det (22.718149592201563 > 22.562569022449082)\n",
      "  % (det, previous_det), RuntimeWarning)\n",
      "c:\\users\\zhen\\anaconda3\\envs\\pythondata\\lib\\site-packages\\sklearn\\covariance\\robust_covariance.py:165: RuntimeWarning: Warning! det > previous_det (22.745294993050763 > 22.597304804704834)\n",
      "  % (det, previous_det), RuntimeWarning)\n",
      "c:\\users\\zhen\\anaconda3\\envs\\pythondata\\lib\\site-packages\\sklearn\\covariance\\robust_covariance.py:165: RuntimeWarning: Warning! det > previous_det (22.802714111491376 > 22.638669143438140)\n",
      "  % (det, previous_det), RuntimeWarning)\n",
      "c:\\users\\zhen\\anaconda3\\envs\\pythondata\\lib\\site-packages\\sklearn\\covariance\\robust_covariance.py:165: RuntimeWarning: Warning! det > previous_det (22.807509900837886 > 22.646395918703849)\n",
      "  % (det, previous_det), RuntimeWarning)\n",
      "c:\\users\\zhen\\anaconda3\\envs\\pythondata\\lib\\site-packages\\sklearn\\covariance\\robust_covariance.py:165: RuntimeWarning: Warning! det > previous_det (22.819432884269911 > 22.661296982417461)\n",
      "  % (det, previous_det), RuntimeWarning)\n",
      "c:\\users\\zhen\\anaconda3\\envs\\pythondata\\lib\\site-packages\\sklearn\\covariance\\robust_covariance.py:165: RuntimeWarning: Warning! det > previous_det (22.951423186544854 > 22.807504530123076)\n",
      "  % (det, previous_det), RuntimeWarning)\n",
      "c:\\users\\zhen\\anaconda3\\envs\\pythondata\\lib\\site-packages\\sklearn\\covariance\\robust_covariance.py:165: RuntimeWarning: Warning! det > previous_det (22.600883202053961 > 22.400650992589611)\n",
      "  % (det, previous_det), RuntimeWarning)\n",
      "c:\\users\\zhen\\anaconda3\\envs\\pythondata\\lib\\site-packages\\sklearn\\covariance\\robust_covariance.py:165: RuntimeWarning: Warning! det > previous_det (22.603708580795729 > 22.417138060309032)\n",
      "  % (det, previous_det), RuntimeWarning)\n",
      "c:\\users\\zhen\\anaconda3\\envs\\pythondata\\lib\\site-packages\\sklearn\\covariance\\robust_covariance.py:165: RuntimeWarning: Warning! det > previous_det (22.645150621024069 > 22.485055454944888)\n",
      "  % (det, previous_det), RuntimeWarning)\n",
      "c:\\users\\zhen\\anaconda3\\envs\\pythondata\\lib\\site-packages\\sklearn\\covariance\\robust_covariance.py:165: RuntimeWarning: Warning! det > previous_det (22.917576205689940 > 22.769396900665111)\n",
      "  % (det, previous_det), RuntimeWarning)\n",
      "c:\\users\\zhen\\anaconda3\\envs\\pythondata\\lib\\site-packages\\sklearn\\covariance\\robust_covariance.py:165: RuntimeWarning: Warning! det > previous_det (22.938638673355879 > 22.799974710069662)\n",
      "  % (det, previous_det), RuntimeWarning)\n",
      "c:\\users\\zhen\\anaconda3\\envs\\pythondata\\lib\\site-packages\\sklearn\\covariance\\robust_covariance.py:165: RuntimeWarning: Warning! det > previous_det (22.953031428389462 > 22.830669347651749)\n",
      "  % (det, previous_det), RuntimeWarning)\n",
      "c:\\users\\zhen\\anaconda3\\envs\\pythondata\\lib\\site-packages\\sklearn\\covariance\\robust_covariance.py:165: RuntimeWarning: Warning! det > previous_det (22.721057976485323 > 22.566047178940593)\n",
      "  % (det, previous_det), RuntimeWarning)\n",
      "c:\\users\\zhen\\anaconda3\\envs\\pythondata\\lib\\site-packages\\sklearn\\covariance\\robust_covariance.py:165: RuntimeWarning: Warning! det > previous_det (22.808817197156010 > 22.646595340359415)\n",
      "  % (det, previous_det), RuntimeWarning)\n",
      "c:\\users\\zhen\\anaconda3\\envs\\pythondata\\lib\\site-packages\\sklearn\\covariance\\robust_covariance.py:165: RuntimeWarning: Warning! det > previous_det (23.018962601193291 > 22.945977294735737)\n",
      "  % (det, previous_det), RuntimeWarning)\n",
      "c:\\users\\zhen\\anaconda3\\envs\\pythondata\\lib\\site-packages\\sklearn\\covariance\\robust_covariance.py:165: RuntimeWarning: Warning! det > previous_det (23.070384831220672 > 23.023756586072459)\n",
      "  % (det, previous_det), RuntimeWarning)\n",
      "c:\\users\\zhen\\anaconda3\\envs\\pythondata\\lib\\site-packages\\sklearn\\covariance\\robust_covariance.py:165: RuntimeWarning: Warning! det > previous_det (23.083669158832596 > 23.047585618866442)\n",
      "  % (det, previous_det), RuntimeWarning)\n",
      "c:\\users\\zhen\\anaconda3\\envs\\pythondata\\lib\\site-packages\\sklearn\\covariance\\robust_covariance.py:165: RuntimeWarning: Warning! det > previous_det (23.102887899525086 > 23.069577050724604)\n",
      "  % (det, previous_det), RuntimeWarning)\n",
      "c:\\users\\zhen\\anaconda3\\envs\\pythondata\\lib\\site-packages\\sklearn\\covariance\\robust_covariance.py:165: RuntimeWarning: Warning! det > previous_det (23.125113430494533 > 23.092121632791184)\n",
      "  % (det, previous_det), RuntimeWarning)\n",
      "c:\\users\\zhen\\anaconda3\\envs\\pythondata\\lib\\site-packages\\sklearn\\covariance\\robust_covariance.py:165: RuntimeWarning: Warning! det > previous_det (22.772319798533761 > 22.617014146278226)\n",
      "  % (det, previous_det), RuntimeWarning)\n",
      "c:\\users\\zhen\\anaconda3\\envs\\pythondata\\lib\\site-packages\\sklearn\\covariance\\robust_covariance.py:165: RuntimeWarning: Warning! det > previous_det (23.003139956935655 > 22.860760734648803)\n",
      "  % (det, previous_det), RuntimeWarning)\n",
      "c:\\users\\zhen\\anaconda3\\envs\\pythondata\\lib\\site-packages\\sklearn\\covariance\\robust_covariance.py:165: RuntimeWarning: Warning! det > previous_det (22.953868019759433 > 22.823313419276051)\n",
      "  % (det, previous_det), RuntimeWarning)\n",
      "c:\\users\\zhen\\anaconda3\\envs\\pythondata\\lib\\site-packages\\sklearn\\covariance\\robust_covariance.py:165: RuntimeWarning: Warning! det > previous_det (22.930441667037680 > 22.790341094828452)\n",
      "  % (det, previous_det), RuntimeWarning)\n",
      "c:\\users\\zhen\\anaconda3\\envs\\pythondata\\lib\\site-packages\\sklearn\\covariance\\robust_covariance.py:165: RuntimeWarning: Warning! det > previous_det (22.940888952234051 > 22.816983706084425)\n",
      "  % (det, previous_det), RuntimeWarning)\n",
      "c:\\users\\zhen\\anaconda3\\envs\\pythondata\\lib\\site-packages\\sklearn\\covariance\\robust_covariance.py:165: RuntimeWarning: Warning! det > previous_det (22.940888952234051 > 22.813752003638037)\n",
      "  % (det, previous_det), RuntimeWarning)\n",
      "c:\\users\\zhen\\anaconda3\\envs\\pythondata\\lib\\site-packages\\sklearn\\covariance\\robust_covariance.py:165: RuntimeWarning: Warning! det > previous_det (22.688390038392150 > 22.536106549184861)\n",
      "  % (det, previous_det), RuntimeWarning)\n",
      "c:\\users\\zhen\\anaconda3\\envs\\pythondata\\lib\\site-packages\\sklearn\\covariance\\robust_covariance.py:165: RuntimeWarning: Warning! det > previous_det (22.688390038392150 > 22.536426929344032)\n",
      "  % (det, previous_det), RuntimeWarning)\n",
      "c:\\users\\zhen\\anaconda3\\envs\\pythondata\\lib\\site-packages\\sklearn\\covariance\\robust_covariance.py:165: RuntimeWarning: Warning! det > previous_det (22.703242206127946 > 22.545825521318044)\n",
      "  % (det, previous_det), RuntimeWarning)\n",
      "c:\\users\\zhen\\anaconda3\\envs\\pythondata\\lib\\site-packages\\sklearn\\covariance\\robust_covariance.py:165: RuntimeWarning: Warning! det > previous_det (22.717188629661830 > 22.557217187164614)\n",
      "  % (det, previous_det), RuntimeWarning)\n",
      "c:\\users\\zhen\\anaconda3\\envs\\pythondata\\lib\\site-packages\\sklearn\\covariance\\robust_covariance.py:165: RuntimeWarning: Warning! det > previous_det (22.758811808763902 > 22.608155091637030)\n",
      "  % (det, previous_det), RuntimeWarning)\n",
      "c:\\users\\zhen\\anaconda3\\envs\\pythondata\\lib\\site-packages\\sklearn\\covariance\\robust_covariance.py:165: RuntimeWarning: Warning! det > previous_det (22.727430492701018 > 22.576943665199337)\n",
      "  % (det, previous_det), RuntimeWarning)\n",
      "c:\\users\\zhen\\anaconda3\\envs\\pythondata\\lib\\site-packages\\sklearn\\covariance\\robust_covariance.py:165: RuntimeWarning: Warning! det > previous_det (22.814694462108079 > 22.653945032421483)\n",
      "  % (det, previous_det), RuntimeWarning)\n",
      "c:\\users\\zhen\\anaconda3\\envs\\pythondata\\lib\\site-packages\\sklearn\\covariance\\robust_covariance.py:165: RuntimeWarning: Warning! det > previous_det (22.953868019759433 > 22.830403077197246)\n",
      "  % (det, previous_det), RuntimeWarning)\n",
      "c:\\users\\zhen\\anaconda3\\envs\\pythondata\\lib\\site-packages\\sklearn\\covariance\\robust_covariance.py:165: RuntimeWarning: Warning! det > previous_det (22.894315232428323 > 22.734482967948637)\n",
      "  % (det, previous_det), RuntimeWarning)\n",
      "c:\\users\\zhen\\anaconda3\\envs\\pythondata\\lib\\site-packages\\sklearn\\covariance\\robust_covariance.py:165: RuntimeWarning: Warning! det > previous_det (22.910823119110450 > 22.762998022452809)\n",
      "  % (det, previous_det), RuntimeWarning)\n",
      "c:\\users\\zhen\\anaconda3\\envs\\pythondata\\lib\\site-packages\\sklearn\\covariance\\robust_covariance.py:165: RuntimeWarning: Warning! det > previous_det (22.927401466607495 > 22.786055764556604)\n",
      "  % (det, previous_det), RuntimeWarning)\n",
      "c:\\users\\zhen\\anaconda3\\envs\\pythondata\\lib\\site-packages\\sklearn\\covariance\\robust_covariance.py:165: RuntimeWarning: Warning! det > previous_det (22.808817197156010 > 22.645995662674970)\n",
      "  % (det, previous_det), RuntimeWarning)\n",
      "c:\\users\\zhen\\anaconda3\\envs\\pythondata\\lib\\site-packages\\sklearn\\covariance\\robust_covariance.py:165: RuntimeWarning: Warning! det > previous_det (22.819432884269911 > 22.659485947839009)\n",
      "  % (det, previous_det), RuntimeWarning)\n",
      "c:\\users\\zhen\\anaconda3\\envs\\pythondata\\lib\\site-packages\\sklearn\\covariance\\robust_covariance.py:165: RuntimeWarning: Warning! det > previous_det (22.845282339473268 > 22.683399725939118)\n",
      "  % (det, previous_det), RuntimeWarning)\n",
      "c:\\users\\zhen\\anaconda3\\envs\\pythondata\\lib\\site-packages\\sklearn\\covariance\\robust_covariance.py:165: RuntimeWarning: Warning! det > previous_det (22.885055377236295 > 22.710820544755641)\n",
      "  % (det, previous_det), RuntimeWarning)\n",
      "c:\\users\\zhen\\anaconda3\\envs\\pythondata\\lib\\site-packages\\sklearn\\covariance\\robust_covariance.py:165: RuntimeWarning: Warning! det > previous_det (22.637420681911085 > 22.467966977998735)\n",
      "  % (det, previous_det), RuntimeWarning)\n",
      "c:\\users\\zhen\\anaconda3\\envs\\pythondata\\lib\\site-packages\\sklearn\\covariance\\robust_covariance.py:165: RuntimeWarning: Warning! det > previous_det (22.758811808763902 > 22.625236413058648)\n",
      "  % (det, previous_det), RuntimeWarning)\n",
      "c:\\users\\zhen\\anaconda3\\envs\\pythondata\\lib\\site-packages\\sklearn\\covariance\\robust_covariance.py:165: RuntimeWarning: Warning! det > previous_det (22.774252040622340 > 22.628409980233279)\n",
      "  % (det, previous_det), RuntimeWarning)\n",
      "c:\\users\\zhen\\anaconda3\\envs\\pythondata\\lib\\site-packages\\sklearn\\covariance\\robust_covariance.py:165: RuntimeWarning: Warning! det > previous_det (22.819432884269911 > 22.688300286687241)\n",
      "  % (det, previous_det), RuntimeWarning)\n",
      "c:\\users\\zhen\\anaconda3\\envs\\pythondata\\lib\\site-packages\\sklearn\\covariance\\robust_covariance.py:165: RuntimeWarning: Warning! det > previous_det (22.839733179701021 > 22.692844950780337)\n",
      "  % (det, previous_det), RuntimeWarning)\n",
      "c:\\users\\zhen\\anaconda3\\envs\\pythondata\\lib\\site-packages\\sklearn\\covariance\\robust_covariance.py:165: RuntimeWarning: Warning! det > previous_det (22.883514824126387 > 22.729394713614671)\n",
      "  % (det, previous_det), RuntimeWarning)\n",
      "c:\\users\\zhen\\anaconda3\\envs\\pythondata\\lib\\site-packages\\sklearn\\covariance\\robust_covariance.py:165: RuntimeWarning: Warning! det > previous_det (22.910823119110450 > 22.771438491143169)\n",
      "  % (det, previous_det), RuntimeWarning)\n",
      "c:\\users\\zhen\\anaconda3\\envs\\pythondata\\lib\\site-packages\\sklearn\\covariance\\robust_covariance.py:165: RuntimeWarning: Warning! det > previous_det (22.921386374821278 > 22.787029972974477)\n",
      "  % (det, previous_det), RuntimeWarning)\n",
      "c:\\users\\zhen\\anaconda3\\envs\\pythondata\\lib\\site-packages\\sklearn\\covariance\\robust_covariance.py:165: RuntimeWarning: Warning! det > previous_det (22.940888952234051 > 22.812986508876264)\n",
      "  % (det, previous_det), RuntimeWarning)\n"
     ]
    },
    {
     "name": "stderr",
     "output_type": "stream",
     "text": [
      "c:\\users\\zhen\\anaconda3\\envs\\pythondata\\lib\\site-packages\\sklearn\\covariance\\robust_covariance.py:165: RuntimeWarning: Warning! det > previous_det (22.945266275531644 > 22.823094350335911)\n",
      "  % (det, previous_det), RuntimeWarning)\n",
      "c:\\users\\zhen\\anaconda3\\envs\\pythondata\\lib\\site-packages\\sklearn\\covariance\\robust_covariance.py:165: RuntimeWarning: Warning! det > previous_det (22.953031428389462 > 22.833502093481663)\n",
      "  % (det, previous_det), RuntimeWarning)\n",
      "c:\\users\\zhen\\anaconda3\\envs\\pythondata\\lib\\site-packages\\sklearn\\covariance\\robust_covariance.py:165: RuntimeWarning: Warning! det > previous_det (22.766260912315264 > 22.590913602029005)\n",
      "  % (det, previous_det), RuntimeWarning)\n",
      "c:\\users\\zhen\\anaconda3\\envs\\pythondata\\lib\\site-packages\\sklearn\\covariance\\robust_covariance.py:165: RuntimeWarning: Warning! det > previous_det (22.797800736284010 > 22.602851744491282)\n",
      "  % (det, previous_det), RuntimeWarning)\n",
      "c:\\users\\zhen\\anaconda3\\envs\\pythondata\\lib\\site-packages\\sklearn\\covariance\\robust_covariance.py:165: RuntimeWarning: Warning! det > previous_det (22.802714111491376 > 22.617339229199395)\n",
      "  % (det, previous_det), RuntimeWarning)\n",
      "c:\\users\\zhen\\anaconda3\\envs\\pythondata\\lib\\site-packages\\sklearn\\covariance\\robust_covariance.py:165: RuntimeWarning: Warning! det > previous_det (22.802714111491376 > 22.627511475381979)\n",
      "  % (det, previous_det), RuntimeWarning)\n",
      "c:\\users\\zhen\\anaconda3\\envs\\pythondata\\lib\\site-packages\\sklearn\\covariance\\robust_covariance.py:165: RuntimeWarning: Warning! det > previous_det (22.805653414793117 > 22.626067158609846)\n",
      "  % (det, previous_det), RuntimeWarning)\n",
      "c:\\users\\zhen\\anaconda3\\envs\\pythondata\\lib\\site-packages\\sklearn\\covariance\\robust_covariance.py:165: RuntimeWarning: Warning! det > previous_det (22.674907162357314 > 22.529976996877565)\n",
      "  % (det, previous_det), RuntimeWarning)\n",
      "c:\\users\\zhen\\anaconda3\\envs\\pythondata\\lib\\site-packages\\sklearn\\covariance\\robust_covariance.py:165: RuntimeWarning: Warning! det > previous_det (22.698396059556231 > 22.541995405709521)\n",
      "  % (det, previous_det), RuntimeWarning)\n",
      "c:\\users\\zhen\\anaconda3\\envs\\pythondata\\lib\\site-packages\\sklearn\\covariance\\robust_covariance.py:165: RuntimeWarning: Warning! det > previous_det (22.904265086665088 > 22.787652245885603)\n",
      "  % (det, previous_det), RuntimeWarning)\n",
      "c:\\users\\zhen\\anaconda3\\envs\\pythondata\\lib\\site-packages\\sklearn\\covariance\\robust_covariance.py:165: RuntimeWarning: Warning! det > previous_det (22.910823119110450 > 22.813196442688515)\n",
      "  % (det, previous_det), RuntimeWarning)\n",
      "c:\\users\\zhen\\anaconda3\\envs\\pythondata\\lib\\site-packages\\sklearn\\covariance\\robust_covariance.py:165: RuntimeWarning: Warning! det > previous_det (22.918803352730521 > 22.826681158483510)\n",
      "  % (det, previous_det), RuntimeWarning)\n",
      "c:\\users\\zhen\\anaconda3\\envs\\pythondata\\lib\\site-packages\\sklearn\\covariance\\robust_covariance.py:165: RuntimeWarning: Warning! det > previous_det (23.015509725016237 > 22.906234172877497)\n",
      "  % (det, previous_det), RuntimeWarning)\n",
      "c:\\users\\zhen\\anaconda3\\envs\\pythondata\\lib\\site-packages\\sklearn\\covariance\\robust_covariance.py:165: RuntimeWarning: Warning! det > previous_det (22.707822079039200 > 22.556855537272543)\n",
      "  % (det, previous_det), RuntimeWarning)\n",
      "c:\\users\\zhen\\anaconda3\\envs\\pythondata\\lib\\site-packages\\sklearn\\covariance\\robust_covariance.py:165: RuntimeWarning: Warning! det > previous_det (22.822582379090228 > 22.672586772743458)\n",
      "  % (det, previous_det), RuntimeWarning)\n",
      "c:\\users\\zhen\\anaconda3\\envs\\pythondata\\lib\\site-packages\\sklearn\\covariance\\robust_covariance.py:165: RuntimeWarning: Warning! det > previous_det (22.918803352730521 > 22.757664846060212)\n",
      "  % (det, previous_det), RuntimeWarning)\n",
      "c:\\users\\zhen\\anaconda3\\envs\\pythondata\\lib\\site-packages\\sklearn\\covariance\\robust_covariance.py:165: RuntimeWarning: Warning! det > previous_det (22.930441667037680 > 22.786589638447161)\n",
      "  % (det, previous_det), RuntimeWarning)\n",
      "c:\\users\\zhen\\anaconda3\\envs\\pythondata\\lib\\site-packages\\sklearn\\covariance\\robust_covariance.py:165: RuntimeWarning: Warning! det > previous_det (22.953031428389462 > 22.831428074955440)\n",
      "  % (det, previous_det), RuntimeWarning)\n",
      "c:\\users\\zhen\\anaconda3\\envs\\pythondata\\lib\\site-packages\\sklearn\\covariance\\robust_covariance.py:165: RuntimeWarning: Warning! det > previous_det (23.042109226227101 > 22.919938614477545)\n",
      "  % (det, previous_det), RuntimeWarning)\n",
      "c:\\users\\zhen\\anaconda3\\envs\\pythondata\\lib\\site-packages\\sklearn\\covariance\\robust_covariance.py:165: RuntimeWarning: Warning! det > previous_det (23.054968900406401 > 22.957756957659292)\n",
      "  % (det, previous_det), RuntimeWarning)\n",
      "c:\\users\\zhen\\anaconda3\\envs\\pythondata\\lib\\site-packages\\sklearn\\covariance\\robust_covariance.py:165: RuntimeWarning: Warning! det > previous_det (22.945266275531644 > 22.832605436960964)\n",
      "  % (det, previous_det), RuntimeWarning)\n",
      "c:\\users\\zhen\\anaconda3\\envs\\pythondata\\lib\\site-packages\\sklearn\\covariance\\robust_covariance.py:165: RuntimeWarning: Warning! det > previous_det (22.980533931779803 > 22.859626612168409)\n",
      "  % (det, previous_det), RuntimeWarning)\n",
      "c:\\users\\zhen\\anaconda3\\envs\\pythondata\\lib\\site-packages\\sklearn\\covariance\\robust_covariance.py:165: RuntimeWarning: Warning! det > previous_det (22.986305940804527 > 22.864686172183234)\n",
      "  % (det, previous_det), RuntimeWarning)\n",
      "c:\\users\\zhen\\anaconda3\\envs\\pythondata\\lib\\site-packages\\sklearn\\covariance\\robust_covariance.py:165: RuntimeWarning: Warning! det > previous_det (22.647101025519760 > 22.481740490101959)\n",
      "  % (det, previous_det), RuntimeWarning)\n",
      "c:\\users\\zhen\\anaconda3\\envs\\pythondata\\lib\\site-packages\\sklearn\\covariance\\robust_covariance.py:165: RuntimeWarning: Warning! det > previous_det (22.661694764508052 > 22.519294135238024)\n",
      "  % (det, previous_det), RuntimeWarning)\n",
      "c:\\users\\zhen\\anaconda3\\envs\\pythondata\\lib\\site-packages\\sklearn\\covariance\\robust_covariance.py:165: RuntimeWarning: Warning! det > previous_det (22.718149592201563 > 22.563734100669670)\n",
      "  % (det, previous_det), RuntimeWarning)\n",
      "c:\\users\\zhen\\anaconda3\\envs\\pythondata\\lib\\site-packages\\sklearn\\covariance\\robust_covariance.py:165: RuntimeWarning: Warning! det > previous_det (22.917576205689940 > 22.787037269320326)\n",
      "  % (det, previous_det), RuntimeWarning)\n",
      "c:\\users\\zhen\\anaconda3\\envs\\pythondata\\lib\\site-packages\\sklearn\\covariance\\robust_covariance.py:165: RuntimeWarning: Warning! det > previous_det (22.938638673355879 > 22.818438304771384)\n",
      "  % (det, previous_det), RuntimeWarning)\n",
      "c:\\users\\zhen\\anaconda3\\envs\\pythondata\\lib\\site-packages\\sklearn\\covariance\\robust_covariance.py:165: RuntimeWarning: Warning! det > previous_det (22.945266275531644 > 22.839514038343026)\n",
      "  % (det, previous_det), RuntimeWarning)\n",
      "c:\\users\\zhen\\anaconda3\\envs\\pythondata\\lib\\site-packages\\sklearn\\covariance\\robust_covariance.py:165: RuntimeWarning: Warning! det > previous_det (22.953031428389462 > 22.840407644983269)\n",
      "  % (det, previous_det), RuntimeWarning)\n",
      "c:\\users\\zhen\\anaconda3\\envs\\pythondata\\lib\\site-packages\\sklearn\\covariance\\robust_covariance.py:165: RuntimeWarning: Warning! det > previous_det (23.010058835328707 > 22.886356225047383)\n",
      "  % (det, previous_det), RuntimeWarning)\n",
      "c:\\users\\zhen\\anaconda3\\envs\\pythondata\\lib\\site-packages\\sklearn\\covariance\\robust_covariance.py:165: RuntimeWarning: Warning! det > previous_det (22.813923278848037 > 22.653205516567255)\n",
      "  % (det, previous_det), RuntimeWarning)\n",
      "c:\\users\\zhen\\anaconda3\\envs\\pythondata\\lib\\site-packages\\sklearn\\covariance\\robust_covariance.py:165: RuntimeWarning: Warning! det > previous_det (22.828861753318954 > 22.679219325210845)\n",
      "  % (det, previous_det), RuntimeWarning)\n",
      "c:\\users\\zhen\\anaconda3\\envs\\pythondata\\lib\\site-packages\\sklearn\\covariance\\robust_covariance.py:165: RuntimeWarning: Warning! det > previous_det (22.845282339473268 > 22.694061535992123)\n",
      "  % (det, previous_det), RuntimeWarning)\n",
      "c:\\users\\zhen\\anaconda3\\envs\\pythondata\\lib\\site-packages\\sklearn\\covariance\\robust_covariance.py:165: RuntimeWarning: Warning! det > previous_det (23.097691902600594 > 23.016387159284218)\n",
      "  % (det, previous_det), RuntimeWarning)\n",
      "c:\\users\\zhen\\anaconda3\\envs\\pythondata\\lib\\site-packages\\sklearn\\covariance\\robust_covariance.py:165: RuntimeWarning: Warning! det > previous_det (23.125456375422132 > 23.053587103444098)\n",
      "  % (det, previous_det), RuntimeWarning)\n",
      "c:\\users\\zhen\\anaconda3\\envs\\pythondata\\lib\\site-packages\\sklearn\\covariance\\robust_covariance.py:165: RuntimeWarning: Warning! det > previous_det (23.018082405204485 > 22.900529270431221)\n",
      "  % (det, previous_det), RuntimeWarning)\n",
      "c:\\users\\zhen\\anaconda3\\envs\\pythondata\\lib\\site-packages\\sklearn\\covariance\\robust_covariance.py:165: RuntimeWarning: Warning! det > previous_det (23.039910288084105 > 22.907755468507144)\n",
      "  % (det, previous_det), RuntimeWarning)\n",
      "c:\\users\\zhen\\anaconda3\\envs\\pythondata\\lib\\site-packages\\sklearn\\covariance\\robust_covariance.py:165: RuntimeWarning: Warning! det > previous_det (22.625542043123907 > 22.460954695336369)\n",
      "  % (det, previous_det), RuntimeWarning)\n",
      "c:\\users\\zhen\\anaconda3\\envs\\pythondata\\lib\\site-packages\\sklearn\\covariance\\robust_covariance.py:165: RuntimeWarning: Warning! det > previous_det (22.629285454972361 > 22.465461944065499)\n",
      "  % (det, previous_det), RuntimeWarning)\n",
      "c:\\users\\zhen\\anaconda3\\envs\\pythondata\\lib\\site-packages\\sklearn\\covariance\\robust_covariance.py:165: RuntimeWarning: Warning! det > previous_det (22.807509900837886 > 22.648233172634029)\n",
      "  % (det, previous_det), RuntimeWarning)\n",
      "c:\\users\\zhen\\anaconda3\\envs\\pythondata\\lib\\site-packages\\sklearn\\covariance\\robust_covariance.py:165: RuntimeWarning: Warning! det > previous_det (22.808817197156010 > 22.654960559119257)\n",
      "  % (det, previous_det), RuntimeWarning)\n",
      "c:\\users\\zhen\\anaconda3\\envs\\pythondata\\lib\\site-packages\\sklearn\\covariance\\robust_covariance.py:165: RuntimeWarning: Warning! det > previous_det (22.819432884269911 > 22.663610740598870)\n",
      "  % (det, previous_det), RuntimeWarning)\n",
      "c:\\users\\zhen\\anaconda3\\envs\\pythondata\\lib\\site-packages\\sklearn\\covariance\\robust_covariance.py:165: RuntimeWarning: Warning! det > previous_det (22.800950893931176 > 22.608255855264776)\n",
      "  % (det, previous_det), RuntimeWarning)\n",
      "c:\\users\\zhen\\anaconda3\\envs\\pythondata\\lib\\site-packages\\sklearn\\covariance\\robust_covariance.py:165: RuntimeWarning: Warning! det > previous_det (22.847157314932630 > 22.686145357275553)\n",
      "  % (det, previous_det), RuntimeWarning)\n",
      "c:\\users\\zhen\\anaconda3\\envs\\pythondata\\lib\\site-packages\\sklearn\\covariance\\robust_covariance.py:165: RuntimeWarning: Warning! det > previous_det (22.797800736284010 > 22.627730502018633)\n",
      "  % (det, previous_det), RuntimeWarning)\n",
      "c:\\users\\zhen\\anaconda3\\envs\\pythondata\\lib\\site-packages\\sklearn\\covariance\\robust_covariance.py:165: RuntimeWarning: Warning! det > previous_det (22.802714111491376 > 22.633762927180481)\n",
      "  % (det, previous_det), RuntimeWarning)\n",
      "c:\\users\\zhen\\anaconda3\\envs\\pythondata\\lib\\site-packages\\sklearn\\covariance\\robust_covariance.py:165: RuntimeWarning: Warning! det > previous_det (22.808817197156010 > 22.648492863712434)\n",
      "  % (det, previous_det), RuntimeWarning)\n",
      "c:\\users\\zhen\\anaconda3\\envs\\pythondata\\lib\\site-packages\\sklearn\\covariance\\robust_covariance.py:165: RuntimeWarning: Warning! det > previous_det (22.994582724678089 > 22.890958435313973)\n",
      "  % (det, previous_det), RuntimeWarning)\n",
      "c:\\users\\zhen\\anaconda3\\envs\\pythondata\\lib\\site-packages\\sklearn\\covariance\\robust_covariance.py:165: RuntimeWarning: Warning! det > previous_det (23.044821348838571 > 22.948943875214262)\n",
      "  % (det, previous_det), RuntimeWarning)\n",
      "c:\\users\\zhen\\anaconda3\\envs\\pythondata\\lib\\site-packages\\sklearn\\covariance\\robust_covariance.py:165: RuntimeWarning: Warning! det > previous_det (23.066307331750156 > 22.984008314587303)\n",
      "  % (det, previous_det), RuntimeWarning)\n"
     ]
    },
    {
     "name": "stderr",
     "output_type": "stream",
     "text": [
      "c:\\users\\zhen\\anaconda3\\envs\\pythondata\\lib\\site-packages\\sklearn\\covariance\\robust_covariance.py:165: RuntimeWarning: Warning! det > previous_det (22.674907162357314 > 22.530026270408193)\n",
      "  % (det, previous_det), RuntimeWarning)\n",
      "c:\\users\\zhen\\anaconda3\\envs\\pythondata\\lib\\site-packages\\sklearn\\covariance\\robust_covariance.py:165: RuntimeWarning: Warning! det > previous_det (22.802714111491376 > 22.633948274838012)\n",
      "  % (det, previous_det), RuntimeWarning)\n",
      "c:\\users\\zhen\\anaconda3\\envs\\pythondata\\lib\\site-packages\\sklearn\\covariance\\robust_covariance.py:165: RuntimeWarning: Warning! det > previous_det (22.807509900837886 > 22.642277981479193)\n",
      "  % (det, previous_det), RuntimeWarning)\n",
      "c:\\users\\zhen\\anaconda3\\envs\\pythondata\\lib\\site-packages\\sklearn\\covariance\\robust_covariance.py:165: RuntimeWarning: Warning! det > previous_det (22.811198689965320 > 22.654490844991138)\n",
      "  % (det, previous_det), RuntimeWarning)\n",
      "c:\\users\\zhen\\anaconda3\\envs\\pythondata\\lib\\site-packages\\sklearn\\covariance\\robust_covariance.py:165: RuntimeWarning: Warning! det > previous_det (22.818555694143065 > 22.665113841320483)\n",
      "  % (det, previous_det), RuntimeWarning)\n",
      "c:\\users\\zhen\\anaconda3\\envs\\pythondata\\lib\\site-packages\\sklearn\\covariance\\robust_covariance.py:165: RuntimeWarning: Warning! det > previous_det (22.828861753318954 > 22.667825689616048)\n",
      "  % (det, previous_det), RuntimeWarning)\n",
      "c:\\users\\zhen\\anaconda3\\envs\\pythondata\\lib\\site-packages\\sklearn\\covariance\\robust_covariance.py:165: RuntimeWarning: Warning! det > previous_det (22.890791463133901 > 22.701629637107708)\n",
      "  % (det, previous_det), RuntimeWarning)\n",
      "c:\\users\\zhen\\anaconda3\\envs\\pythondata\\lib\\site-packages\\sklearn\\covariance\\robust_covariance.py:165: RuntimeWarning: Warning! det > previous_det (22.570859226705522 > 22.378563860687329)\n",
      "  % (det, previous_det), RuntimeWarning)\n",
      "c:\\users\\zhen\\anaconda3\\envs\\pythondata\\lib\\site-packages\\sklearn\\covariance\\robust_covariance.py:165: RuntimeWarning: Warning! det > previous_det (22.660093712400911 > 22.516377887314373)\n",
      "  % (det, previous_det), RuntimeWarning)\n",
      "c:\\users\\zhen\\anaconda3\\envs\\pythondata\\lib\\site-packages\\sklearn\\covariance\\robust_covariance.py:165: RuntimeWarning: Warning! det > previous_det (22.659321972478068 > 22.502806209865437)\n",
      "  % (det, previous_det), RuntimeWarning)\n",
      "c:\\users\\zhen\\anaconda3\\envs\\pythondata\\lib\\site-packages\\sklearn\\covariance\\robust_covariance.py:165: RuntimeWarning: Warning! det > previous_det (22.704977602754468 > 22.551703785919237)\n",
      "  % (det, previous_det), RuntimeWarning)\n",
      "c:\\users\\zhen\\anaconda3\\envs\\pythondata\\lib\\site-packages\\sklearn\\covariance\\robust_covariance.py:165: RuntimeWarning: Warning! det > previous_det (22.953031428389462 > 22.830411986700703)\n",
      "  % (det, previous_det), RuntimeWarning)\n",
      "c:\\users\\zhen\\anaconda3\\envs\\pythondata\\lib\\site-packages\\sklearn\\covariance\\robust_covariance.py:165: RuntimeWarning: Warning! det > previous_det (23.003139956935655 > 22.863360337855458)\n",
      "  % (det, previous_det), RuntimeWarning)\n",
      "c:\\users\\zhen\\anaconda3\\envs\\pythondata\\lib\\site-packages\\sklearn\\covariance\\robust_covariance.py:165: RuntimeWarning: Warning! det > previous_det (23.042853560291494 > 22.905974437054240)\n",
      "  % (det, previous_det), RuntimeWarning)\n",
      "c:\\users\\zhen\\anaconda3\\envs\\pythondata\\lib\\site-packages\\sklearn\\covariance\\robust_covariance.py:165: RuntimeWarning: Warning! det > previous_det (22.665476335301065 > 22.446557297725310)\n",
      "  % (det, previous_det), RuntimeWarning)\n",
      "c:\\users\\zhen\\anaconda3\\envs\\pythondata\\lib\\site-packages\\sklearn\\covariance\\robust_covariance.py:165: RuntimeWarning: Warning! det > previous_det (22.740466944993212 > 22.589642991006841)\n",
      "  % (det, previous_det), RuntimeWarning)\n",
      "c:\\users\\zhen\\anaconda3\\envs\\pythondata\\lib\\site-packages\\sklearn\\covariance\\robust_covariance.py:165: RuntimeWarning: Warning! det > previous_det (22.688390038392150 > 22.540945880576938)\n",
      "  % (det, previous_det), RuntimeWarning)\n",
      "c:\\users\\zhen\\anaconda3\\envs\\pythondata\\lib\\site-packages\\sklearn\\covariance\\robust_covariance.py:165: RuntimeWarning: Warning! det > previous_det (22.822582379090228 > 22.686792021335418)\n",
      "  % (det, previous_det), RuntimeWarning)\n",
      "c:\\users\\zhen\\anaconda3\\envs\\pythondata\\lib\\site-packages\\sklearn\\covariance\\robust_covariance.py:165: RuntimeWarning: Warning! det > previous_det (22.880078993858039 > 22.718889290204388)\n",
      "  % (det, previous_det), RuntimeWarning)\n",
      "c:\\users\\zhen\\anaconda3\\envs\\pythondata\\lib\\site-packages\\sklearn\\covariance\\robust_covariance.py:165: RuntimeWarning: Warning! det > previous_det (22.819537463564206 > 22.668285119296677)\n",
      "  % (det, previous_det), RuntimeWarning)\n",
      "c:\\users\\zhen\\anaconda3\\envs\\pythondata\\lib\\site-packages\\sklearn\\covariance\\robust_covariance.py:165: RuntimeWarning: Warning! det > previous_det (22.904265086665088 > 22.754237403473727)\n",
      "  % (det, previous_det), RuntimeWarning)\n",
      "c:\\users\\zhen\\anaconda3\\envs\\pythondata\\lib\\site-packages\\sklearn\\covariance\\robust_covariance.py:165: RuntimeWarning: Warning! det > previous_det (22.931956430126359 > 22.801912823680659)\n",
      "  % (det, previous_det), RuntimeWarning)\n",
      "c:\\users\\zhen\\anaconda3\\envs\\pythondata\\lib\\site-packages\\sklearn\\covariance\\robust_covariance.py:165: RuntimeWarning: Warning! det > previous_det (22.629285454972361 > 22.463152279126291)\n",
      "  % (det, previous_det), RuntimeWarning)\n",
      "c:\\users\\zhen\\anaconda3\\envs\\pythondata\\lib\\site-packages\\sklearn\\covariance\\robust_covariance.py:165: RuntimeWarning: Warning! det > previous_det (22.727430492701018 > 22.564465395770846)\n",
      "  % (det, previous_det), RuntimeWarning)\n",
      "c:\\users\\zhen\\anaconda3\\envs\\pythondata\\lib\\site-packages\\sklearn\\covariance\\robust_covariance.py:165: RuntimeWarning: Warning! det > previous_det (22.737299600858012 > 22.578205859803546)\n",
      "  % (det, previous_det), RuntimeWarning)\n",
      "c:\\users\\zhen\\anaconda3\\envs\\pythondata\\lib\\site-packages\\sklearn\\covariance\\robust_covariance.py:165: RuntimeWarning: Warning! det > previous_det (22.727430492701018 > 22.573648168726397)\n",
      "  % (det, previous_det), RuntimeWarning)\n",
      "c:\\users\\zhen\\anaconda3\\envs\\pythondata\\lib\\site-packages\\sklearn\\covariance\\robust_covariance.py:165: RuntimeWarning: Warning! det > previous_det (22.816269344166361 > 22.656291563363069)\n",
      "  % (det, previous_det), RuntimeWarning)\n",
      "c:\\users\\zhen\\anaconda3\\envs\\pythondata\\lib\\site-packages\\sklearn\\covariance\\robust_covariance.py:165: RuntimeWarning: Warning! det > previous_det (22.802714111491376 > 22.639226477245977)\n",
      "  % (det, previous_det), RuntimeWarning)\n",
      "c:\\users\\zhen\\anaconda3\\envs\\pythondata\\lib\\site-packages\\sklearn\\covariance\\robust_covariance.py:165: RuntimeWarning: Warning! det > previous_det (22.790029157601190 > 22.626563200337440)\n",
      "  % (det, previous_det), RuntimeWarning)\n",
      "c:\\users\\zhen\\anaconda3\\envs\\pythondata\\lib\\site-packages\\sklearn\\covariance\\robust_covariance.py:165: RuntimeWarning: Warning! det > previous_det (22.953031428389462 > 22.901423620641459)\n",
      "  % (det, previous_det), RuntimeWarning)\n",
      "c:\\users\\zhen\\anaconda3\\envs\\pythondata\\lib\\site-packages\\sklearn\\covariance\\robust_covariance.py:165: RuntimeWarning: Warning! det > previous_det (22.986305940804527 > 22.914687383436359)\n",
      "  % (det, previous_det), RuntimeWarning)\n",
      "c:\\users\\zhen\\anaconda3\\envs\\pythondata\\lib\\site-packages\\sklearn\\covariance\\robust_covariance.py:165: RuntimeWarning: Warning! det > previous_det (23.042853560291494 > 22.944081203864858)\n",
      "  % (det, previous_det), RuntimeWarning)\n",
      "c:\\users\\zhen\\anaconda3\\envs\\pythondata\\lib\\site-packages\\sklearn\\covariance\\robust_covariance.py:165: RuntimeWarning: Warning! det > previous_det (22.814694462108079 > 22.649140107048463)\n",
      "  % (det, previous_det), RuntimeWarning)\n",
      "c:\\users\\zhen\\anaconda3\\envs\\pythondata\\lib\\site-packages\\sklearn\\covariance\\robust_covariance.py:165: RuntimeWarning: Warning! det > previous_det (22.865216116096533 > 22.686519893980165)\n",
      "  % (det, previous_det), RuntimeWarning)\n",
      "c:\\users\\zhen\\anaconda3\\envs\\pythondata\\lib\\site-packages\\sklearn\\covariance\\robust_covariance.py:165: RuntimeWarning: Warning! det > previous_det (22.927401466607495 > 22.770708780370320)\n",
      "  % (det, previous_det), RuntimeWarning)\n",
      "c:\\users\\zhen\\anaconda3\\envs\\pythondata\\lib\\site-packages\\sklearn\\covariance\\robust_covariance.py:165: RuntimeWarning: Warning! det > previous_det (22.883514824126387 > 22.724319848887362)\n",
      "  % (det, previous_det), RuntimeWarning)\n",
      "c:\\users\\zhen\\anaconda3\\envs\\pythondata\\lib\\site-packages\\sklearn\\covariance\\robust_covariance.py:165: RuntimeWarning: Warning! det > previous_det (22.640624245788036 > 22.472559657620277)\n",
      "  % (det, previous_det), RuntimeWarning)\n",
      "c:\\users\\zhen\\anaconda3\\envs\\pythondata\\lib\\site-packages\\sklearn\\covariance\\robust_covariance.py:165: RuntimeWarning: Warning! det > previous_det (22.661635705708619 > 22.497183601422414)\n",
      "  % (det, previous_det), RuntimeWarning)\n",
      "c:\\users\\zhen\\anaconda3\\envs\\pythondata\\lib\\site-packages\\sklearn\\covariance\\robust_covariance.py:165: RuntimeWarning: Warning! det > previous_det (22.674907162357314 > 22.527611004666088)\n",
      "  % (det, previous_det), RuntimeWarning)\n",
      "c:\\users\\zhen\\anaconda3\\envs\\pythondata\\lib\\site-packages\\sklearn\\covariance\\robust_covariance.py:165: RuntimeWarning: Warning! det > previous_det (22.802714111491376 > 22.616150205852751)\n",
      "  % (det, previous_det), RuntimeWarning)\n",
      "c:\\users\\zhen\\anaconda3\\envs\\pythondata\\lib\\site-packages\\sklearn\\covariance\\robust_covariance.py:165: RuntimeWarning: Warning! det > previous_det (22.811198689965320 > 22.625234824908564)\n",
      "  % (det, previous_det), RuntimeWarning)\n",
      "c:\\users\\zhen\\anaconda3\\envs\\pythondata\\lib\\site-packages\\sklearn\\covariance\\robust_covariance.py:165: RuntimeWarning: Warning! det > previous_det (22.828861753318954 > 22.648300496588639)\n",
      "  % (det, previous_det), RuntimeWarning)\n",
      "c:\\users\\zhen\\anaconda3\\envs\\pythondata\\lib\\site-packages\\sklearn\\covariance\\robust_covariance.py:165: RuntimeWarning: Warning! det > previous_det (22.822582379090228 > 22.676553582455103)\n",
      "  % (det, previous_det), RuntimeWarning)\n",
      "c:\\users\\zhen\\anaconda3\\envs\\pythondata\\lib\\site-packages\\sklearn\\covariance\\robust_covariance.py:165: RuntimeWarning: Warning! det > previous_det (22.653270523309970 > 22.489896607318560)\n",
      "  % (det, previous_det), RuntimeWarning)\n",
      "c:\\users\\zhen\\anaconda3\\envs\\pythondata\\lib\\site-packages\\sklearn\\covariance\\robust_covariance.py:165: RuntimeWarning: Warning! det > previous_det (22.674907162357314 > 22.527158320751273)\n",
      "  % (det, previous_det), RuntimeWarning)\n",
      "c:\\users\\zhen\\anaconda3\\envs\\pythondata\\lib\\site-packages\\sklearn\\covariance\\robust_covariance.py:165: RuntimeWarning: Warning! det > previous_det (22.674907162357314 > 22.495695808599908)\n",
      "  % (det, previous_det), RuntimeWarning)\n",
      "c:\\users\\zhen\\anaconda3\\envs\\pythondata\\lib\\site-packages\\sklearn\\covariance\\robust_covariance.py:165: RuntimeWarning: Warning! det > previous_det (22.703242206127946 > 22.512046672752007)\n",
      "  % (det, previous_det), RuntimeWarning)\n",
      "c:\\users\\zhen\\anaconda3\\envs\\pythondata\\lib\\site-packages\\sklearn\\covariance\\robust_covariance.py:165: RuntimeWarning: Warning! det > previous_det (22.704977602754468 > 22.524324807420395)\n",
      "  % (det, previous_det), RuntimeWarning)\n",
      "c:\\users\\zhen\\anaconda3\\envs\\pythondata\\lib\\site-packages\\sklearn\\covariance\\robust_covariance.py:165: RuntimeWarning: Warning! det > previous_det (22.704977602754468 > 22.522823362645266)\n",
      "  % (det, previous_det), RuntimeWarning)\n",
      "c:\\users\\zhen\\anaconda3\\envs\\pythondata\\lib\\site-packages\\sklearn\\covariance\\robust_covariance.py:165: RuntimeWarning: Warning! det > previous_det (22.727430492701018 > 22.540051003779283)\n",
      "  % (det, previous_det), RuntimeWarning)\n",
      "c:\\users\\zhen\\anaconda3\\envs\\pythondata\\lib\\site-packages\\sklearn\\covariance\\robust_covariance.py:165: RuntimeWarning: Warning! det > previous_det (22.743419726364476 > 22.544029710725429)\n",
      "  % (det, previous_det), RuntimeWarning)\n",
      "c:\\users\\zhen\\anaconda3\\envs\\pythondata\\lib\\site-packages\\sklearn\\covariance\\robust_covariance.py:165: RuntimeWarning: Warning! det > previous_det (22.748299531717706 > 22.555098974071861)\n",
      "  % (det, previous_det), RuntimeWarning)\n",
      "c:\\users\\zhen\\anaconda3\\envs\\pythondata\\lib\\site-packages\\sklearn\\covariance\\robust_covariance.py:165: RuntimeWarning: Warning! det > previous_det (22.704977602754468 > 22.547329512347925)\n",
      "  % (det, previous_det), RuntimeWarning)\n",
      "c:\\users\\zhen\\anaconda3\\envs\\pythondata\\lib\\site-packages\\sklearn\\covariance\\robust_covariance.py:165: RuntimeWarning: Warning! det > previous_det (22.735359488883194 > 22.582612206178805)\n",
      "  % (det, previous_det), RuntimeWarning)\n",
      "c:\\users\\zhen\\anaconda3\\envs\\pythondata\\lib\\site-packages\\sklearn\\covariance\\robust_covariance.py:165: RuntimeWarning: Warning! det > previous_det (22.904265086665088 > 22.745476964340195)\n",
      "  % (det, previous_det), RuntimeWarning)\n",
      "c:\\users\\zhen\\anaconda3\\envs\\pythondata\\lib\\site-packages\\sklearn\\covariance\\robust_covariance.py:165: RuntimeWarning: Warning! det > previous_det (22.930441667037680 > 22.780824304356521)\n",
      "  % (det, previous_det), RuntimeWarning)\n",
      "c:\\users\\zhen\\anaconda3\\envs\\pythondata\\lib\\site-packages\\sklearn\\covariance\\robust_covariance.py:165: RuntimeWarning: Warning! det > previous_det (22.930441667037680 > 22.792213806640376)\n",
      "  % (det, previous_det), RuntimeWarning)\n",
      "c:\\users\\zhen\\anaconda3\\envs\\pythondata\\lib\\site-packages\\sklearn\\covariance\\robust_covariance.py:165: RuntimeWarning: Warning! det > previous_det (22.940888952234051 > 22.802404973228334)\n",
      "  % (det, previous_det), RuntimeWarning)\n",
      "c:\\users\\zhen\\anaconda3\\envs\\pythondata\\lib\\site-packages\\sklearn\\covariance\\robust_covariance.py:165: RuntimeWarning: Warning! det > previous_det (22.982128442422017 > 22.852284978472369)\n",
      "  % (det, previous_det), RuntimeWarning)\n",
      "c:\\users\\zhen\\anaconda3\\envs\\pythondata\\lib\\site-packages\\sklearn\\covariance\\robust_covariance.py:165: RuntimeWarning: Warning! det > previous_det (22.988452068098812 > 22.855423590495633)\n",
      "  % (det, previous_det), RuntimeWarning)\n"
     ]
    },
    {
     "name": "stderr",
     "output_type": "stream",
     "text": [
      "c:\\users\\zhen\\anaconda3\\envs\\pythondata\\lib\\site-packages\\sklearn\\covariance\\robust_covariance.py:165: RuntimeWarning: Warning! det > previous_det (23.003139956935655 > 22.858131643989118)\n",
      "  % (det, previous_det), RuntimeWarning)\n",
      "c:\\users\\zhen\\anaconda3\\envs\\pythondata\\lib\\site-packages\\sklearn\\covariance\\robust_covariance.py:165: RuntimeWarning: Warning! det > previous_det (22.548833495315957 > 22.346892311763483)\n",
      "  % (det, previous_det), RuntimeWarning)\n",
      "c:\\users\\zhen\\anaconda3\\envs\\pythondata\\lib\\site-packages\\sklearn\\covariance\\robust_covariance.py:165: RuntimeWarning: Warning! det > previous_det (22.724518932926781 > 22.549194414072332)\n",
      "  % (det, previous_det), RuntimeWarning)\n",
      "c:\\users\\zhen\\anaconda3\\envs\\pythondata\\lib\\site-packages\\sklearn\\covariance\\robust_covariance.py:165: RuntimeWarning: Warning! det > previous_det (22.773742342837455 > 22.583179974280874)\n",
      "  % (det, previous_det), RuntimeWarning)\n",
      "c:\\users\\zhen\\anaconda3\\envs\\pythondata\\lib\\site-packages\\sklearn\\covariance\\robust_covariance.py:165: RuntimeWarning: Warning! det > previous_det (22.800950893931176 > 22.599666669525057)\n",
      "  % (det, previous_det), RuntimeWarning)\n",
      "c:\\users\\zhen\\anaconda3\\envs\\pythondata\\lib\\site-packages\\sklearn\\covariance\\robust_covariance.py:165: RuntimeWarning: Warning! det > previous_det (22.811198689965320 > 22.615378572697825)\n",
      "  % (det, previous_det), RuntimeWarning)\n",
      "c:\\users\\zhen\\anaconda3\\envs\\pythondata\\lib\\site-packages\\sklearn\\covariance\\robust_covariance.py:165: RuntimeWarning: Warning! det > previous_det (22.665476335301065 > 22.521481174135321)\n",
      "  % (det, previous_det), RuntimeWarning)\n",
      "c:\\users\\zhen\\anaconda3\\envs\\pythondata\\lib\\site-packages\\sklearn\\covariance\\robust_covariance.py:165: RuntimeWarning: Warning! det > previous_det (22.893174177160059 > 22.764257349410489)\n",
      "  % (det, previous_det), RuntimeWarning)\n",
      "c:\\users\\zhen\\anaconda3\\envs\\pythondata\\lib\\site-packages\\sklearn\\covariance\\robust_covariance.py:165: RuntimeWarning: Warning! det > previous_det (22.951423186544854 > 22.880238519541962)\n",
      "  % (det, previous_det), RuntimeWarning)\n",
      "c:\\users\\zhen\\anaconda3\\envs\\pythondata\\lib\\site-packages\\sklearn\\covariance\\robust_covariance.py:165: RuntimeWarning: Warning! det > previous_det (22.917576205689940 > 22.780444954359112)\n",
      "  % (det, previous_det), RuntimeWarning)\n",
      "c:\\users\\zhen\\anaconda3\\envs\\pythondata\\lib\\site-packages\\sklearn\\covariance\\robust_covariance.py:165: RuntimeWarning: Warning! det > previous_det (22.704977602754468 > 22.538451394520720)\n",
      "  % (det, previous_det), RuntimeWarning)\n",
      "c:\\users\\zhen\\anaconda3\\envs\\pythondata\\lib\\site-packages\\sklearn\\covariance\\robust_covariance.py:165: RuntimeWarning: Warning! det > previous_det (22.721057976485323 > 22.547947382915030)\n",
      "  % (det, previous_det), RuntimeWarning)\n",
      "c:\\users\\zhen\\anaconda3\\envs\\pythondata\\lib\\site-packages\\sklearn\\covariance\\robust_covariance.py:165: RuntimeWarning: Warning! det > previous_det (22.733457544804995 > 22.563790154021738)\n",
      "  % (det, previous_det), RuntimeWarning)\n",
      "c:\\users\\zhen\\anaconda3\\envs\\pythondata\\lib\\site-packages\\sklearn\\covariance\\robust_covariance.py:165: RuntimeWarning: Warning! det > previous_det (22.748299531717706 > 22.581654113583067)\n",
      "  % (det, previous_det), RuntimeWarning)\n",
      "c:\\users\\zhen\\anaconda3\\envs\\pythondata\\lib\\site-packages\\sklearn\\covariance\\robust_covariance.py:165: RuntimeWarning: Warning! det > previous_det (22.790029157601190 > 22.630205811212374)\n",
      "  % (det, previous_det), RuntimeWarning)\n",
      "c:\\users\\zhen\\anaconda3\\envs\\pythondata\\lib\\site-packages\\sklearn\\covariance\\robust_covariance.py:165: RuntimeWarning: Warning! det > previous_det (22.808817197156010 > 22.646144906732854)\n",
      "  % (det, previous_det), RuntimeWarning)\n",
      "c:\\users\\zhen\\anaconda3\\envs\\pythondata\\lib\\site-packages\\sklearn\\covariance\\robust_covariance.py:165: RuntimeWarning: Warning! det > previous_det (22.772319798533761 > 22.578326286945575)\n",
      "  % (det, previous_det), RuntimeWarning)\n",
      "c:\\users\\zhen\\anaconda3\\envs\\pythondata\\lib\\site-packages\\sklearn\\covariance\\robust_covariance.py:165: RuntimeWarning: Warning! det > previous_det (22.805653414793117 > 22.613467646158615)\n",
      "  % (det, previous_det), RuntimeWarning)\n",
      "c:\\users\\zhen\\anaconda3\\envs\\pythondata\\lib\\site-packages\\sklearn\\covariance\\robust_covariance.py:165: RuntimeWarning: Warning! det > previous_det (22.873757704722799 > 22.661282695626760)\n",
      "  % (det, previous_det), RuntimeWarning)\n",
      "c:\\users\\zhen\\anaconda3\\envs\\pythondata\\lib\\site-packages\\sklearn\\covariance\\robust_covariance.py:165: RuntimeWarning: Warning! det > previous_det (22.775759535939159 > 22.619609190486454)\n",
      "  % (det, previous_det), RuntimeWarning)\n",
      "c:\\users\\zhen\\anaconda3\\envs\\pythondata\\lib\\site-packages\\sklearn\\covariance\\robust_covariance.py:165: RuntimeWarning: Warning! det > previous_det (22.758811808763902 > 22.607308098743697)\n",
      "  % (det, previous_det), RuntimeWarning)\n",
      "c:\\users\\zhen\\anaconda3\\envs\\pythondata\\lib\\site-packages\\sklearn\\covariance\\robust_covariance.py:165: RuntimeWarning: Warning! det > previous_det (22.779234047419756 > 22.621821912588480)\n",
      "  % (det, previous_det), RuntimeWarning)\n",
      "c:\\users\\zhen\\anaconda3\\envs\\pythondata\\lib\\site-packages\\sklearn\\covariance\\robust_covariance.py:165: RuntimeWarning: Warning! det > previous_det (23.010058835328707 > 22.893089483314437)\n",
      "  % (det, previous_det), RuntimeWarning)\n",
      "c:\\users\\zhen\\anaconda3\\envs\\pythondata\\lib\\site-packages\\sklearn\\covariance\\robust_covariance.py:165: RuntimeWarning: Warning! det > previous_det (23.016560360469409 > 22.905083405163474)\n",
      "  % (det, previous_det), RuntimeWarning)\n",
      "c:\\users\\zhen\\anaconda3\\envs\\pythondata\\lib\\site-packages\\sklearn\\covariance\\robust_covariance.py:165: RuntimeWarning: Warning! det > previous_det (22.770872351563529 > 22.602320121484599)\n",
      "  % (det, previous_det), RuntimeWarning)\n",
      "c:\\users\\zhen\\anaconda3\\envs\\pythondata\\lib\\site-packages\\sklearn\\covariance\\robust_covariance.py:165: RuntimeWarning: Warning! det > previous_det (22.797800736284010 > 22.614859366822433)\n",
      "  % (det, previous_det), RuntimeWarning)\n",
      "c:\\users\\zhen\\anaconda3\\envs\\pythondata\\lib\\site-packages\\sklearn\\covariance\\robust_covariance.py:165: RuntimeWarning: Warning! det > previous_det (22.845282339473268 > 22.667424599639244)\n",
      "  % (det, previous_det), RuntimeWarning)\n",
      "c:\\users\\zhen\\anaconda3\\envs\\pythondata\\lib\\site-packages\\sklearn\\covariance\\robust_covariance.py:165: RuntimeWarning: Warning! det > previous_det (22.878945241083642 > 22.686648435087761)\n",
      "  % (det, previous_det), RuntimeWarning)\n",
      "c:\\users\\zhen\\anaconda3\\envs\\pythondata\\lib\\site-packages\\sklearn\\covariance\\robust_covariance.py:165: RuntimeWarning: Warning! det > previous_det (23.015509725016237 > 22.904216637209480)\n",
      "  % (det, previous_det), RuntimeWarning)\n",
      "c:\\users\\zhen\\anaconda3\\envs\\pythondata\\lib\\site-packages\\sklearn\\covariance\\robust_covariance.py:165: RuntimeWarning: Warning! det > previous_det (23.039910288084105 > 22.935840167247999)\n",
      "  % (det, previous_det), RuntimeWarning)\n",
      "c:\\users\\zhen\\anaconda3\\envs\\pythondata\\lib\\site-packages\\sklearn\\covariance\\robust_covariance.py:165: RuntimeWarning: Warning! det > previous_det (23.097691902600594 > 23.031206784550658)\n",
      "  % (det, previous_det), RuntimeWarning)\n",
      "c:\\users\\zhen\\anaconda3\\envs\\pythondata\\lib\\site-packages\\sklearn\\covariance\\robust_covariance.py:165: RuntimeWarning: Warning! det > previous_det (23.127457501346264 > 23.077526954926299)\n",
      "  % (det, previous_det), RuntimeWarning)\n",
      "c:\\users\\zhen\\anaconda3\\envs\\pythondata\\lib\\site-packages\\sklearn\\covariance\\robust_covariance.py:165: RuntimeWarning: Warning! det > previous_det (22.983884207222211 > 22.861533140360784)\n",
      "  % (det, previous_det), RuntimeWarning)\n",
      "c:\\users\\zhen\\anaconda3\\envs\\pythondata\\lib\\site-packages\\sklearn\\covariance\\robust_covariance.py:165: RuntimeWarning: Warning! det > previous_det (22.790029157601190 > 22.624773345888308)\n",
      "  % (det, previous_det), RuntimeWarning)\n",
      "c:\\users\\zhen\\anaconda3\\envs\\pythondata\\lib\\site-packages\\sklearn\\covariance\\robust_covariance.py:165: RuntimeWarning: Warning! det > previous_det (22.819432884269911 > 22.661266718202292)\n",
      "  % (det, previous_det), RuntimeWarning)\n",
      "c:\\users\\zhen\\anaconda3\\envs\\pythondata\\lib\\site-packages\\sklearn\\covariance\\robust_covariance.py:165: RuntimeWarning: Warning! det > previous_det (22.645150621024069 > 22.451516759955954)\n",
      "  % (det, previous_det), RuntimeWarning)\n",
      "c:\\users\\zhen\\anaconda3\\envs\\pythondata\\lib\\site-packages\\sklearn\\covariance\\robust_covariance.py:165: RuntimeWarning: Warning! det > previous_det (22.661635705708619 > 22.450463388747270)\n",
      "  % (det, previous_det), RuntimeWarning)\n",
      "c:\\users\\zhen\\anaconda3\\envs\\pythondata\\lib\\site-packages\\sklearn\\covariance\\robust_covariance.py:165: RuntimeWarning: Warning! det > previous_det (22.658939030904801 > 22.473417473320023)\n",
      "  % (det, previous_det), RuntimeWarning)\n",
      "c:\\users\\zhen\\anaconda3\\envs\\pythondata\\lib\\site-packages\\sklearn\\covariance\\robust_covariance.py:165: RuntimeWarning: Warning! det > previous_det (22.660093712400911 > 22.476630351477240)\n",
      "  % (det, previous_det), RuntimeWarning)\n",
      "c:\\users\\zhen\\anaconda3\\envs\\pythondata\\lib\\site-packages\\sklearn\\covariance\\robust_covariance.py:165: RuntimeWarning: Warning! det > previous_det (22.657351623052154 > 22.494031456098131)\n",
      "  % (det, previous_det), RuntimeWarning)\n",
      "c:\\users\\zhen\\anaconda3\\envs\\pythondata\\lib\\site-packages\\sklearn\\covariance\\robust_covariance.py:165: RuntimeWarning: Warning! det > previous_det (22.657673681786566 > 22.497275131503887)\n",
      "  % (det, previous_det), RuntimeWarning)\n",
      "c:\\users\\zhen\\anaconda3\\envs\\pythondata\\lib\\site-packages\\sklearn\\covariance\\robust_covariance.py:165: RuntimeWarning: Warning! det > previous_det (22.562512453412246 > 22.364414867396654)\n",
      "  % (det, previous_det), RuntimeWarning)\n",
      "c:\\users\\zhen\\anaconda3\\envs\\pythondata\\lib\\site-packages\\sklearn\\covariance\\robust_covariance.py:165: RuntimeWarning: Warning! det > previous_det (22.645150621024069 > 22.414052898286766)\n",
      "  % (det, previous_det), RuntimeWarning)\n",
      "c:\\users\\zhen\\anaconda3\\envs\\pythondata\\lib\\site-packages\\sklearn\\covariance\\robust_covariance.py:165: RuntimeWarning: Warning! det > previous_det (22.667018934856593 > 22.467073718455076)\n",
      "  % (det, previous_det), RuntimeWarning)\n",
      "c:\\users\\zhen\\anaconda3\\envs\\pythondata\\lib\\site-packages\\sklearn\\covariance\\robust_covariance.py:165: RuntimeWarning: Warning! det > previous_det (22.727430492701018 > 22.524517175850207)\n",
      "  % (det, previous_det), RuntimeWarning)\n",
      "c:\\users\\zhen\\anaconda3\\envs\\pythondata\\lib\\site-packages\\sklearn\\covariance\\robust_covariance.py:165: RuntimeWarning: Warning! det > previous_det (22.745294993050763 > 22.542313176092915)\n",
      "  % (det, previous_det), RuntimeWarning)\n",
      "c:\\users\\zhen\\anaconda3\\envs\\pythondata\\lib\\site-packages\\sklearn\\covariance\\robust_covariance.py:165: RuntimeWarning: Warning! det > previous_det (22.638604697070011 > 22.470277433671072)\n",
      "  % (det, previous_det), RuntimeWarning)\n",
      "c:\\users\\zhen\\anaconda3\\envs\\pythondata\\lib\\site-packages\\sklearn\\covariance\\robust_covariance.py:165: RuntimeWarning: Warning! det > previous_det (22.657744443128109 > 22.503687982578988)\n",
      "  % (det, previous_det), RuntimeWarning)\n",
      "c:\\users\\zhen\\anaconda3\\envs\\pythondata\\lib\\site-packages\\sklearn\\covariance\\robust_covariance.py:165: RuntimeWarning: Warning! det > previous_det (22.980533931779803 > 22.903391645668663)\n",
      "  % (det, previous_det), RuntimeWarning)\n",
      "c:\\users\\zhen\\anaconda3\\envs\\pythondata\\lib\\site-packages\\sklearn\\covariance\\robust_covariance.py:165: RuntimeWarning: Warning! det > previous_det (23.003139956935655 > 22.914612804340443)\n",
      "  % (det, previous_det), RuntimeWarning)\n",
      "c:\\users\\zhen\\anaconda3\\envs\\pythondata\\lib\\site-packages\\sklearn\\covariance\\robust_covariance.py:165: RuntimeWarning: Warning! det > previous_det (23.016560360469409 > 22.929725543468109)\n",
      "  % (det, previous_det), RuntimeWarning)\n",
      "c:\\users\\zhen\\anaconda3\\envs\\pythondata\\lib\\site-packages\\sklearn\\covariance\\robust_covariance.py:165: RuntimeWarning: Warning! det > previous_det (23.039910288084105 > 22.951200080350233)\n",
      "  % (det, previous_det), RuntimeWarning)\n",
      "c:\\users\\zhen\\anaconda3\\envs\\pythondata\\lib\\site-packages\\sklearn\\covariance\\robust_covariance.py:165: RuntimeWarning: Warning! det > previous_det (23.083669158832596 > 23.019108518625522)\n",
      "  % (det, previous_det), RuntimeWarning)\n",
      "c:\\users\\zhen\\anaconda3\\envs\\pythondata\\lib\\site-packages\\sklearn\\covariance\\robust_covariance.py:165: RuntimeWarning: Warning! det > previous_det (22.891664769182437 > 22.783950785781251)\n",
      "  % (det, previous_det), RuntimeWarning)\n",
      "c:\\users\\zhen\\anaconda3\\envs\\pythondata\\lib\\site-packages\\sklearn\\covariance\\robust_covariance.py:165: RuntimeWarning: Warning! det > previous_det (22.806474450682643 > 22.652763927511998)\n",
      "  % (det, previous_det), RuntimeWarning)\n",
      "c:\\users\\zhen\\anaconda3\\envs\\pythondata\\lib\\site-packages\\sklearn\\covariance\\robust_covariance.py:165: RuntimeWarning: Warning! det > previous_det (22.797800736284010 > 22.631398562735196)\n",
      "  % (det, previous_det), RuntimeWarning)\n",
      "c:\\users\\zhen\\anaconda3\\envs\\pythondata\\lib\\site-packages\\sklearn\\covariance\\robust_covariance.py:165: RuntimeWarning: Warning! det > previous_det (22.819432884269911 > 22.658829922277548)\n",
      "  % (det, previous_det), RuntimeWarning)\n",
      "c:\\users\\zhen\\anaconda3\\envs\\pythondata\\lib\\site-packages\\sklearn\\covariance\\robust_covariance.py:165: RuntimeWarning: Warning! det > previous_det (22.822582379090228 > 22.668776206757798)\n",
      "  % (det, previous_det), RuntimeWarning)\n",
      "c:\\users\\zhen\\anaconda3\\envs\\pythondata\\lib\\site-packages\\sklearn\\covariance\\robust_covariance.py:165: RuntimeWarning: Warning! det > previous_det (22.917576205689940 > 22.767102976025519)\n",
      "  % (det, previous_det), RuntimeWarning)\n",
      "c:\\users\\zhen\\anaconda3\\envs\\pythondata\\lib\\site-packages\\sklearn\\covariance\\robust_covariance.py:165: RuntimeWarning: Warning! det > previous_det (22.565758707993627 > 22.374947240326346)\n",
      "  % (det, previous_det), RuntimeWarning)\n"
     ]
    },
    {
     "name": "stderr",
     "output_type": "stream",
     "text": [
      "c:\\users\\zhen\\anaconda3\\envs\\pythondata\\lib\\site-packages\\sklearn\\covariance\\robust_covariance.py:165: RuntimeWarning: Warning! det > previous_det (22.602958314408141 > 22.422385439874475)\n",
      "  % (det, previous_det), RuntimeWarning)\n",
      "c:\\users\\zhen\\anaconda3\\envs\\pythondata\\lib\\site-packages\\sklearn\\covariance\\robust_covariance.py:165: RuntimeWarning: Warning! det > previous_det (22.612161188644386 > 22.443404685024273)\n",
      "  % (det, previous_det), RuntimeWarning)\n",
      "c:\\users\\zhen\\anaconda3\\envs\\pythondata\\lib\\site-packages\\sklearn\\covariance\\robust_covariance.py:165: RuntimeWarning: Warning! det > previous_det (22.880078993858039 > 22.715367928512922)\n",
      "  % (det, previous_det), RuntimeWarning)\n",
      "c:\\users\\zhen\\anaconda3\\envs\\pythondata\\lib\\site-packages\\sklearn\\covariance\\robust_covariance.py:165: RuntimeWarning: Warning! det > previous_det (22.909521509522232 > 22.751827485127688)\n",
      "  % (det, previous_det), RuntimeWarning)\n",
      "c:\\users\\zhen\\anaconda3\\envs\\pythondata\\lib\\site-packages\\sklearn\\covariance\\robust_covariance.py:165: RuntimeWarning: Warning! det > previous_det (22.930441667037680 > 22.777174003875889)\n",
      "  % (det, previous_det), RuntimeWarning)\n",
      "c:\\users\\zhen\\anaconda3\\envs\\pythondata\\lib\\site-packages\\sklearn\\covariance\\robust_covariance.py:165: RuntimeWarning: Warning! det > previous_det (22.951423186544854 > 22.808427728133751)\n",
      "  % (det, previous_det), RuntimeWarning)\n",
      "c:\\users\\zhen\\anaconda3\\envs\\pythondata\\lib\\site-packages\\sklearn\\covariance\\robust_covariance.py:165: RuntimeWarning: Warning! det > previous_det (22.562612147631057 > 22.368949405902544)\n",
      "  % (det, previous_det), RuntimeWarning)\n",
      "c:\\users\\zhen\\anaconda3\\envs\\pythondata\\lib\\site-packages\\sklearn\\covariance\\robust_covariance.py:165: RuntimeWarning: Warning! det > previous_det (22.743419726364476 > 22.593908754485614)\n",
      "  % (det, previous_det), RuntimeWarning)\n",
      "c:\\users\\zhen\\anaconda3\\envs\\pythondata\\lib\\site-packages\\sklearn\\covariance\\robust_covariance.py:165: RuntimeWarning: Warning! det > previous_det (22.753441201457740 > 22.601316972134985)\n",
      "  % (det, previous_det), RuntimeWarning)\n",
      "c:\\users\\zhen\\anaconda3\\envs\\pythondata\\lib\\site-packages\\sklearn\\covariance\\robust_covariance.py:165: RuntimeWarning: Warning! det > previous_det (22.800950893931176 > 22.604338603029149)\n",
      "  % (det, previous_det), RuntimeWarning)\n",
      "c:\\users\\zhen\\anaconda3\\envs\\pythondata\\lib\\site-packages\\sklearn\\covariance\\robust_covariance.py:165: RuntimeWarning: Warning! det > previous_det (22.802714111491376 > 22.616850629880812)\n",
      "  % (det, previous_det), RuntimeWarning)\n",
      "c:\\users\\zhen\\anaconda3\\envs\\pythondata\\lib\\site-packages\\sklearn\\covariance\\robust_covariance.py:165: RuntimeWarning: Warning! det > previous_det (22.739242537854771 > 22.587136397237476)\n",
      "  % (det, previous_det), RuntimeWarning)\n",
      "c:\\users\\zhen\\anaconda3\\envs\\pythondata\\lib\\site-packages\\sklearn\\covariance\\robust_covariance.py:165: RuntimeWarning: Warning! det > previous_det (22.822582379090228 > 22.655251596606515)\n",
      "  % (det, previous_det), RuntimeWarning)\n",
      "c:\\users\\zhen\\anaconda3\\envs\\pythondata\\lib\\site-packages\\sklearn\\covariance\\robust_covariance.py:165: RuntimeWarning: Warning! det > previous_det (22.870806557054571 > 22.678989523362034)\n",
      "  % (det, previous_det), RuntimeWarning)\n",
      "c:\\users\\zhen\\anaconda3\\envs\\pythondata\\lib\\site-packages\\sklearn\\covariance\\robust_covariance.py:165: RuntimeWarning: Warning! det > previous_det (22.603708580795729 > 22.390171345560791)\n",
      "  % (det, previous_det), RuntimeWarning)\n",
      "c:\\users\\zhen\\anaconda3\\envs\\pythondata\\lib\\site-packages\\sklearn\\covariance\\robust_covariance.py:165: RuntimeWarning: Warning! det > previous_det (22.618717548716539 > 22.401492158739671)\n",
      "  % (det, previous_det), RuntimeWarning)\n",
      "c:\\users\\zhen\\anaconda3\\envs\\pythondata\\lib\\site-packages\\sklearn\\covariance\\robust_covariance.py:165: RuntimeWarning: Warning! det > previous_det (22.638604697070011 > 22.426631704206560)\n",
      "  % (det, previous_det), RuntimeWarning)\n",
      "c:\\users\\zhen\\anaconda3\\envs\\pythondata\\lib\\site-packages\\sklearn\\covariance\\robust_covariance.py:165: RuntimeWarning: Warning! det > previous_det (22.727430492701018 > 22.538848553320655)\n",
      "  % (det, previous_det), RuntimeWarning)\n",
      "c:\\users\\zhen\\anaconda3\\envs\\pythondata\\lib\\site-packages\\sklearn\\covariance\\robust_covariance.py:165: RuntimeWarning: Warning! det > previous_det (22.735359488883194 > 22.549229215737693)\n",
      "  % (det, previous_det), RuntimeWarning)\n",
      "c:\\users\\zhen\\anaconda3\\envs\\pythondata\\lib\\site-packages\\sklearn\\covariance\\robust_covariance.py:165: RuntimeWarning: Warning! det > previous_det (22.772319798533761 > 22.578169640565061)\n",
      "  % (det, previous_det), RuntimeWarning)\n",
      "c:\\users\\zhen\\anaconda3\\envs\\pythondata\\lib\\site-packages\\sklearn\\covariance\\robust_covariance.py:165: RuntimeWarning: Warning! det > previous_det (22.931956430126359 > 22.801148369578637)\n",
      "  % (det, previous_det), RuntimeWarning)\n",
      "c:\\users\\zhen\\anaconda3\\envs\\pythondata\\lib\\site-packages\\sklearn\\covariance\\robust_covariance.py:165: RuntimeWarning: Warning! det > previous_det (22.718149592201563 > 22.545262862059154)\n",
      "  % (det, previous_det), RuntimeWarning)\n",
      "c:\\users\\zhen\\anaconda3\\envs\\pythondata\\lib\\site-packages\\sklearn\\covariance\\robust_covariance.py:165: RuntimeWarning: Warning! det > previous_det (22.735359488883194 > 22.568252216451231)\n",
      "  % (det, previous_det), RuntimeWarning)\n",
      "c:\\users\\zhen\\anaconda3\\envs\\pythondata\\lib\\site-packages\\sklearn\\covariance\\robust_covariance.py:165: RuntimeWarning: Warning! det > previous_det (22.839733179701021 > 22.687213328350182)\n",
      "  % (det, previous_det), RuntimeWarning)\n",
      "c:\\users\\zhen\\anaconda3\\envs\\pythondata\\lib\\site-packages\\sklearn\\covariance\\robust_covariance.py:165: RuntimeWarning: Warning! det > previous_det (22.910823119110450 > 22.760239991281399)\n",
      "  % (det, previous_det), RuntimeWarning)\n",
      "c:\\users\\zhen\\anaconda3\\envs\\pythondata\\lib\\site-packages\\sklearn\\covariance\\robust_covariance.py:165: RuntimeWarning: Warning! det > previous_det (22.800950893931176 > 22.672666598541646)\n",
      "  % (det, previous_det), RuntimeWarning)\n",
      "c:\\users\\zhen\\anaconda3\\envs\\pythondata\\lib\\site-packages\\sklearn\\covariance\\robust_covariance.py:165: RuntimeWarning: Warning! det > previous_det (22.883514824126387 > 22.721120332360229)\n",
      "  % (det, previous_det), RuntimeWarning)\n",
      "c:\\users\\zhen\\anaconda3\\envs\\pythondata\\lib\\site-packages\\sklearn\\covariance\\robust_covariance.py:165: RuntimeWarning: Warning! det > previous_det (22.548833495315957 > 22.346114450871696)\n",
      "  % (det, previous_det), RuntimeWarning)\n",
      "c:\\users\\zhen\\anaconda3\\envs\\pythondata\\lib\\site-packages\\sklearn\\covariance\\robust_covariance.py:165: RuntimeWarning: Warning! det > previous_det (22.661694764508052 > 22.495487817698542)\n",
      "  % (det, previous_det), RuntimeWarning)\n",
      "c:\\users\\zhen\\anaconda3\\envs\\pythondata\\lib\\site-packages\\sklearn\\covariance\\robust_covariance.py:165: RuntimeWarning: Warning! det > previous_det (22.688390038392150 > 22.511873144806231)\n",
      "  % (det, previous_det), RuntimeWarning)\n",
      "c:\\users\\zhen\\anaconda3\\envs\\pythondata\\lib\\site-packages\\sklearn\\covariance\\robust_covariance.py:165: RuntimeWarning: Warning! det > previous_det (22.704977602754468 > 22.519812904850472)\n",
      "  % (det, previous_det), RuntimeWarning)\n",
      "c:\\users\\zhen\\anaconda3\\envs\\pythondata\\lib\\site-packages\\sklearn\\covariance\\robust_covariance.py:165: RuntimeWarning: Warning! det > previous_det (22.727430492701018 > 22.546751794173979)\n",
      "  % (det, previous_det), RuntimeWarning)\n",
      "c:\\users\\zhen\\anaconda3\\envs\\pythondata\\lib\\site-packages\\sklearn\\covariance\\robust_covariance.py:165: RuntimeWarning: Warning! det > previous_det (22.758811808763902 > 22.560785704765966)\n",
      "  % (det, previous_det), RuntimeWarning)\n",
      "c:\\users\\zhen\\anaconda3\\envs\\pythondata\\lib\\site-packages\\sklearn\\covariance\\robust_covariance.py:165: RuntimeWarning: Warning! det > previous_det (22.745294993050763 > 22.554367759736245)\n",
      "  % (det, previous_det), RuntimeWarning)\n",
      "c:\\users\\zhen\\anaconda3\\envs\\pythondata\\lib\\site-packages\\sklearn\\covariance\\robust_covariance.py:165: RuntimeWarning: Warning! det > previous_det (23.016560360469409 > 22.924878570281059)\n",
      "  % (det, previous_det), RuntimeWarning)\n",
      "c:\\users\\zhen\\anaconda3\\envs\\pythondata\\lib\\site-packages\\sklearn\\covariance\\robust_covariance.py:165: RuntimeWarning: Warning! det > previous_det (22.994582724678089 > 22.871541235162727)\n",
      "  % (det, previous_det), RuntimeWarning)\n",
      "c:\\users\\zhen\\anaconda3\\envs\\pythondata\\lib\\site-packages\\sklearn\\covariance\\robust_covariance.py:165: RuntimeWarning: Warning! det > previous_det (23.066307331750156 > 22.967718827489112)\n",
      "  % (det, previous_det), RuntimeWarning)\n",
      "c:\\users\\zhen\\anaconda3\\envs\\pythondata\\lib\\site-packages\\sklearn\\covariance\\robust_covariance.py:165: RuntimeWarning: Warning! det > previous_det (22.758811808763902 > 22.577679668385130)\n",
      "  % (det, previous_det), RuntimeWarning)\n",
      "c:\\users\\zhen\\anaconda3\\envs\\pythondata\\lib\\site-packages\\sklearn\\covariance\\robust_covariance.py:165: RuntimeWarning: Warning! det > previous_det (22.802714111491376 > 22.618034597540781)\n",
      "  % (det, previous_det), RuntimeWarning)\n",
      "c:\\users\\zhen\\anaconda3\\envs\\pythondata\\lib\\site-packages\\sklearn\\covariance\\robust_covariance.py:165: RuntimeWarning: Warning! det > previous_det (22.873757704722799 > 22.686558116246495)\n",
      "  % (det, previous_det), RuntimeWarning)\n",
      "c:\\users\\zhen\\anaconda3\\envs\\pythondata\\lib\\site-packages\\sklearn\\covariance\\robust_covariance.py:165: RuntimeWarning: Warning! det > previous_det (22.621772947686239 > 22.398185654901273)\n",
      "  % (det, previous_det), RuntimeWarning)\n",
      "c:\\users\\zhen\\anaconda3\\envs\\pythondata\\lib\\site-packages\\sklearn\\covariance\\robust_covariance.py:165: RuntimeWarning: Warning! det > previous_det (22.653270523309970 > 22.424256143535874)\n",
      "  % (det, previous_det), RuntimeWarning)\n",
      "c:\\users\\zhen\\anaconda3\\envs\\pythondata\\lib\\site-packages\\sklearn\\covariance\\robust_covariance.py:165: RuntimeWarning: Warning! det > previous_det (22.661635705708619 > 22.432376734228214)\n",
      "  % (det, previous_det), RuntimeWarning)\n",
      "c:\\users\\zhen\\anaconda3\\envs\\pythondata\\lib\\site-packages\\sklearn\\covariance\\robust_covariance.py:165: RuntimeWarning: Warning! det > previous_det (22.816269344166361 > 22.657559783659895)\n",
      "  % (det, previous_det), RuntimeWarning)\n",
      "c:\\users\\zhen\\anaconda3\\envs\\pythondata\\lib\\site-packages\\sklearn\\covariance\\robust_covariance.py:165: RuntimeWarning: Warning! det > previous_det (22.880078993858039 > 22.719164916652204)\n",
      "  % (det, previous_det), RuntimeWarning)\n",
      "c:\\users\\zhen\\anaconda3\\envs\\pythondata\\lib\\site-packages\\sklearn\\covariance\\robust_covariance.py:165: RuntimeWarning: Warning! det > previous_det (23.054968900406401 > 22.996538195144609)\n",
      "  % (det, previous_det), RuntimeWarning)\n",
      "c:\\users\\zhen\\anaconda3\\envs\\pythondata\\lib\\site-packages\\sklearn\\covariance\\robust_covariance.py:165: RuntimeWarning: Warning! det > previous_det (23.077870984886832 > 23.022248545644850)\n",
      "  % (det, previous_det), RuntimeWarning)\n",
      "c:\\users\\zhen\\anaconda3\\envs\\pythondata\\lib\\site-packages\\sklearn\\covariance\\robust_covariance.py:165: RuntimeWarning: Warning! det > previous_det (23.116658974173966 > 23.068608793776580)\n",
      "  % (det, previous_det), RuntimeWarning)\n",
      "c:\\users\\zhen\\anaconda3\\envs\\pythondata\\lib\\site-packages\\sklearn\\covariance\\robust_covariance.py:165: RuntimeWarning: Warning! det > previous_det (23.150010548892411 > 23.120942444708504)\n",
      "  % (det, previous_det), RuntimeWarning)\n",
      "c:\\users\\zhen\\anaconda3\\envs\\pythondata\\lib\\site-packages\\sklearn\\covariance\\robust_covariance.py:165: RuntimeWarning: Warning! det > previous_det (23.097691902600594 > 23.010219268891614)\n",
      "  % (det, previous_det), RuntimeWarning)\n",
      "c:\\users\\zhen\\anaconda3\\envs\\pythondata\\lib\\site-packages\\sklearn\\covariance\\robust_covariance.py:165: RuntimeWarning: Warning! det > previous_det (22.945266275531644 > 22.828635267066840)\n",
      "  % (det, previous_det), RuntimeWarning)\n"
     ]
    },
    {
     "name": "stderr",
     "output_type": "stream",
     "text": [
      "c:\\users\\zhen\\anaconda3\\envs\\pythondata\\lib\\site-packages\\sklearn\\covariance\\robust_covariance.py:165: RuntimeWarning: Warning! det > previous_det (22.753441201457740 > 22.599488884700136)\n",
      "  % (det, previous_det), RuntimeWarning)\n",
      "c:\\users\\zhen\\anaconda3\\envs\\pythondata\\lib\\site-packages\\sklearn\\covariance\\robust_covariance.py:165: RuntimeWarning: Warning! det > previous_det (22.918803352730521 > 22.770987448754422)\n",
      "  % (det, previous_det), RuntimeWarning)\n",
      "c:\\users\\zhen\\anaconda3\\envs\\pythondata\\lib\\site-packages\\sklearn\\covariance\\robust_covariance.py:165: RuntimeWarning: Warning! det > previous_det (22.918803352730521 > 22.781597050087989)\n",
      "  % (det, previous_det), RuntimeWarning)\n",
      "c:\\users\\zhen\\anaconda3\\envs\\pythondata\\lib\\site-packages\\sklearn\\covariance\\robust_covariance.py:165: RuntimeWarning: Warning! det > previous_det (22.698396059556231 > 22.502160161725630)\n",
      "  % (det, previous_det), RuntimeWarning)\n",
      "c:\\users\\zhen\\anaconda3\\envs\\pythondata\\lib\\site-packages\\sklearn\\covariance\\robust_covariance.py:165: RuntimeWarning: Warning! det > previous_det (22.735359488883194 > 22.536520132696563)\n",
      "  % (det, previous_det), RuntimeWarning)\n",
      "c:\\users\\zhen\\anaconda3\\envs\\pythondata\\lib\\site-packages\\sklearn\\covariance\\robust_covariance.py:165: RuntimeWarning: Warning! det > previous_det (22.800950893931176 > 22.633044458633002)\n",
      "  % (det, previous_det), RuntimeWarning)\n",
      "c:\\users\\zhen\\anaconda3\\envs\\pythondata\\lib\\site-packages\\sklearn\\covariance\\robust_covariance.py:165: RuntimeWarning: Warning! det > previous_det (22.818555694143065 > 22.671211931829880)\n",
      "  % (det, previous_det), RuntimeWarning)\n",
      "c:\\users\\zhen\\anaconda3\\envs\\pythondata\\lib\\site-packages\\sklearn\\covariance\\robust_covariance.py:165: RuntimeWarning: Warning! det > previous_det (23.023469669899718 > 22.919623481548804)\n",
      "  % (det, previous_det), RuntimeWarning)\n",
      "c:\\users\\zhen\\anaconda3\\envs\\pythondata\\lib\\site-packages\\sklearn\\covariance\\robust_covariance.py:165: RuntimeWarning: Warning! det > previous_det (23.042853560291494 > 22.940345096931726)\n",
      "  % (det, previous_det), RuntimeWarning)\n",
      "c:\\users\\zhen\\anaconda3\\envs\\pythondata\\lib\\site-packages\\sklearn\\covariance\\robust_covariance.py:165: RuntimeWarning: Warning! det > previous_det (23.044024107197686 > 22.952450672322534)\n",
      "  % (det, previous_det), RuntimeWarning)\n",
      "c:\\users\\zhen\\anaconda3\\envs\\pythondata\\lib\\site-packages\\sklearn\\covariance\\robust_covariance.py:165: RuntimeWarning: Warning! det > previous_det (23.129084829140563 > 23.054689100968240)\n",
      "  % (det, previous_det), RuntimeWarning)\n",
      "c:\\users\\zhen\\anaconda3\\envs\\pythondata\\lib\\site-packages\\sklearn\\covariance\\robust_covariance.py:165: RuntimeWarning: Warning! det > previous_det (22.811198689965320 > 22.670481418616532)\n",
      "  % (det, previous_det), RuntimeWarning)\n",
      "c:\\users\\zhen\\anaconda3\\envs\\pythondata\\lib\\site-packages\\sklearn\\covariance\\robust_covariance.py:165: RuntimeWarning: Warning! det > previous_det (22.912628550645238 > 22.773490481701039)\n",
      "  % (det, previous_det), RuntimeWarning)\n",
      "c:\\users\\zhen\\anaconda3\\envs\\pythondata\\lib\\site-packages\\sklearn\\covariance\\robust_covariance.py:165: RuntimeWarning: Warning! det > previous_det (22.938638673355879 > 22.805979864933537)\n",
      "  % (det, previous_det), RuntimeWarning)\n",
      "c:\\users\\zhen\\anaconda3\\envs\\pythondata\\lib\\site-packages\\sklearn\\covariance\\robust_covariance.py:165: RuntimeWarning: Warning! det > previous_det (22.945266275531644 > 22.827234528876591)\n",
      "  % (det, previous_det), RuntimeWarning)\n",
      "c:\\users\\zhen\\anaconda3\\envs\\pythondata\\lib\\site-packages\\sklearn\\covariance\\robust_covariance.py:165: RuntimeWarning: Warning! det > previous_det (23.053726888258229 > 22.967870554730155)\n",
      "  % (det, previous_det), RuntimeWarning)\n",
      "c:\\users\\zhen\\anaconda3\\envs\\pythondata\\lib\\site-packages\\sklearn\\covariance\\robust_covariance.py:165: RuntimeWarning: Warning! det > previous_det (23.066307331750156 > 22.983546168342855)\n",
      "  % (det, previous_det), RuntimeWarning)\n",
      "c:\\users\\zhen\\anaconda3\\envs\\pythondata\\lib\\site-packages\\sklearn\\covariance\\robust_covariance.py:165: RuntimeWarning: Warning! det > previous_det (23.129084829140563 > 23.057935906610620)\n",
      "  % (det, previous_det), RuntimeWarning)\n",
      "c:\\users\\zhen\\anaconda3\\envs\\pythondata\\lib\\site-packages\\sklearn\\covariance\\robust_covariance.py:165: RuntimeWarning: Warning! det > previous_det (23.157474860963980 > 23.096551962254310)\n",
      "  % (det, previous_det), RuntimeWarning)\n",
      "c:\\users\\zhen\\anaconda3\\envs\\pythondata\\lib\\site-packages\\sklearn\\covariance\\robust_covariance.py:165: RuntimeWarning: Warning! det > previous_det (23.036248569732315 > 22.907663606598167)\n",
      "  % (det, previous_det), RuntimeWarning)\n",
      "c:\\users\\zhen\\anaconda3\\envs\\pythondata\\lib\\site-packages\\sklearn\\covariance\\robust_covariance.py:165: RuntimeWarning: Warning! det > previous_det (22.727430492701018 > 22.552564243903017)\n",
      "  % (det, previous_det), RuntimeWarning)\n",
      "c:\\users\\zhen\\anaconda3\\envs\\pythondata\\lib\\site-packages\\sklearn\\covariance\\robust_covariance.py:165: RuntimeWarning: Warning! det > previous_det (22.737299600858012 > 22.564508273232892)\n",
      "  % (det, previous_det), RuntimeWarning)\n",
      "c:\\users\\zhen\\anaconda3\\envs\\pythondata\\lib\\site-packages\\sklearn\\covariance\\robust_covariance.py:165: RuntimeWarning: Warning! det > previous_det (22.743419726364476 > 22.566483115340112)\n",
      "  % (det, previous_det), RuntimeWarning)\n",
      "c:\\users\\zhen\\anaconda3\\envs\\pythondata\\lib\\site-packages\\sklearn\\covariance\\robust_covariance.py:165: RuntimeWarning: Warning! det > previous_det (22.772319798533761 > 22.592969906163169)\n",
      "  % (det, previous_det), RuntimeWarning)\n",
      "c:\\users\\zhen\\anaconda3\\envs\\pythondata\\lib\\site-packages\\sklearn\\covariance\\robust_covariance.py:165: RuntimeWarning: Warning! det > previous_det (22.797800736284010 > 22.603727156136593)\n",
      "  % (det, previous_det), RuntimeWarning)\n",
      "c:\\users\\zhen\\anaconda3\\envs\\pythondata\\lib\\site-packages\\sklearn\\covariance\\robust_covariance.py:165: RuntimeWarning: Warning! det > previous_det (22.737299600858012 > 22.584022004831116)\n",
      "  % (det, previous_det), RuntimeWarning)\n",
      "c:\\users\\zhen\\anaconda3\\envs\\pythondata\\lib\\site-packages\\sklearn\\covariance\\robust_covariance.py:165: RuntimeWarning: Warning! det > previous_det (22.847157314932630 > 22.710976093010760)\n",
      "  % (det, previous_det), RuntimeWarning)\n",
      "c:\\users\\zhen\\anaconda3\\envs\\pythondata\\lib\\site-packages\\sklearn\\covariance\\robust_covariance.py:165: RuntimeWarning: Warning! det > previous_det (22.880683718177657 > 22.734882860967936)\n",
      "  % (det, previous_det), RuntimeWarning)\n",
      "c:\\users\\zhen\\anaconda3\\envs\\pythondata\\lib\\site-packages\\sklearn\\covariance\\robust_covariance.py:165: RuntimeWarning: Warning! det > previous_det (22.811198689965320 > 22.650090709800715)\n",
      "  % (det, previous_det), RuntimeWarning)\n",
      "c:\\users\\zhen\\anaconda3\\envs\\pythondata\\lib\\site-packages\\sklearn\\covariance\\robust_covariance.py:165: RuntimeWarning: Warning! det > previous_det (22.904265086665088 > 22.751671006599814)\n",
      "  % (det, previous_det), RuntimeWarning)\n",
      "c:\\users\\zhen\\anaconda3\\envs\\pythondata\\lib\\site-packages\\sklearn\\covariance\\robust_covariance.py:165: RuntimeWarning: Warning! det > previous_det (22.890791463133901 > 22.739778677132527)\n",
      "  % (det, previous_det), RuntimeWarning)\n",
      "c:\\users\\zhen\\anaconda3\\envs\\pythondata\\lib\\site-packages\\sklearn\\covariance\\robust_covariance.py:165: RuntimeWarning: Warning! det > previous_det (22.904265086665088 > 22.777638875735509)\n",
      "  % (det, previous_det), RuntimeWarning)\n",
      "c:\\users\\zhen\\anaconda3\\envs\\pythondata\\lib\\site-packages\\sklearn\\covariance\\robust_covariance.py:165: RuntimeWarning: Warning! det > previous_det (22.943244046579117 > 22.834055859833800)\n",
      "  % (det, previous_det), RuntimeWarning)\n",
      "c:\\users\\zhen\\anaconda3\\envs\\pythondata\\lib\\site-packages\\sklearn\\covariance\\robust_covariance.py:165: RuntimeWarning: Warning! det > previous_det (22.819425767587958 > 22.678259467322821)\n",
      "  % (det, previous_det), RuntimeWarning)\n",
      "c:\\users\\zhen\\anaconda3\\envs\\pythondata\\lib\\site-packages\\sklearn\\covariance\\robust_covariance.py:165: RuntimeWarning: Warning! det > previous_det (22.904265086665088 > 22.736564031343260)\n",
      "  % (det, previous_det), RuntimeWarning)\n",
      "c:\\users\\zhen\\anaconda3\\envs\\pythondata\\lib\\site-packages\\sklearn\\covariance\\robust_covariance.py:165: RuntimeWarning: Warning! det > previous_det (22.918803352730521 > 22.759518490406432)\n",
      "  % (det, previous_det), RuntimeWarning)\n",
      "c:\\users\\zhen\\anaconda3\\envs\\pythondata\\lib\\site-packages\\sklearn\\covariance\\robust_covariance.py:165: RuntimeWarning: Warning! det > previous_det (22.802714111491376 > 22.623360589906209)\n",
      "  % (det, previous_det), RuntimeWarning)\n",
      "c:\\users\\zhen\\anaconda3\\envs\\pythondata\\lib\\site-packages\\sklearn\\covariance\\robust_covariance.py:165: RuntimeWarning: Warning! det > previous_det (22.828861753318954 > 22.674757126405780)\n",
      "  % (det, previous_det), RuntimeWarning)\n",
      "c:\\users\\zhen\\anaconda3\\envs\\pythondata\\lib\\site-packages\\sklearn\\covariance\\robust_covariance.py:165: RuntimeWarning: Warning! det > previous_det (22.869986879363672 > 22.694011945721346)\n",
      "  % (det, previous_det), RuntimeWarning)\n",
      "c:\\users\\zhen\\anaconda3\\envs\\pythondata\\lib\\site-packages\\sklearn\\covariance\\robust_covariance.py:165: RuntimeWarning: Warning! det > previous_det (22.802714111491376 > 22.633007300865305)\n",
      "  % (det, previous_det), RuntimeWarning)\n",
      "c:\\users\\zhen\\anaconda3\\envs\\pythondata\\lib\\site-packages\\sklearn\\covariance\\robust_covariance.py:165: RuntimeWarning: Warning! det > previous_det (22.819537463564206 > 22.665184696818258)\n",
      "  % (det, previous_det), RuntimeWarning)\n",
      "c:\\users\\zhen\\anaconda3\\envs\\pythondata\\lib\\site-packages\\sklearn\\covariance\\robust_covariance.py:165: RuntimeWarning: Warning! det > previous_det (22.745294993050763 > 22.596269612562558)\n",
      "  % (det, previous_det), RuntimeWarning)\n",
      "c:\\users\\zhen\\anaconda3\\envs\\pythondata\\lib\\site-packages\\sklearn\\covariance\\robust_covariance.py:165: RuntimeWarning: Warning! det > previous_det (22.818555694143065 > 22.665580074375509)\n",
      "  % (det, previous_det), RuntimeWarning)\n",
      "c:\\users\\zhen\\anaconda3\\envs\\pythondata\\lib\\site-packages\\sklearn\\covariance\\robust_covariance.py:165: RuntimeWarning: Warning! det > previous_det (22.784811881828656 > 22.611698386903068)\n",
      "  % (det, previous_det), RuntimeWarning)\n",
      "c:\\users\\zhen\\anaconda3\\envs\\pythondata\\lib\\site-packages\\sklearn\\covariance\\robust_covariance.py:165: RuntimeWarning: Warning! det > previous_det (22.814694462108079 > 22.660773747860052)\n",
      "  % (det, previous_det), RuntimeWarning)\n",
      "c:\\users\\zhen\\anaconda3\\envs\\pythondata\\lib\\site-packages\\sklearn\\covariance\\robust_covariance.py:165: RuntimeWarning: Warning! det > previous_det (22.843127995666563 > 22.687924467670875)\n",
      "  % (det, previous_det), RuntimeWarning)\n"
     ]
    },
    {
     "name": "stderr",
     "output_type": "stream",
     "text": [
      "c:\\users\\zhen\\anaconda3\\envs\\pythondata\\lib\\site-packages\\sklearn\\covariance\\robust_covariance.py:165: RuntimeWarning: Warning! det > previous_det (23.018082405204485 > 22.895315575095648)\n",
      "  % (det, previous_det), RuntimeWarning)\n",
      "c:\\users\\zhen\\anaconda3\\envs\\pythondata\\lib\\site-packages\\sklearn\\covariance\\robust_covariance.py:165: RuntimeWarning: Warning! det > previous_det (23.039910288084105 > 22.912221191969390)\n",
      "  % (det, previous_det), RuntimeWarning)\n",
      "c:\\users\\zhen\\anaconda3\\envs\\pythondata\\lib\\site-packages\\sklearn\\covariance\\robust_covariance.py:165: RuntimeWarning: Warning! det > previous_det (23.097691902600594 > 23.003538937904032)\n",
      "  % (det, previous_det), RuntimeWarning)\n",
      "c:\\users\\zhen\\anaconda3\\envs\\pythondata\\lib\\site-packages\\sklearn\\covariance\\robust_covariance.py:165: RuntimeWarning: Warning! det > previous_det (22.938638673355879 > 22.786601683630849)\n",
      "  % (det, previous_det), RuntimeWarning)\n",
      "c:\\users\\zhen\\anaconda3\\envs\\pythondata\\lib\\site-packages\\sklearn\\covariance\\robust_covariance.py:165: RuntimeWarning: Warning! det > previous_det (22.953031428389462 > 22.818259707374427)\n",
      "  % (det, previous_det), RuntimeWarning)\n",
      "c:\\users\\zhen\\anaconda3\\envs\\pythondata\\lib\\site-packages\\sklearn\\covariance\\robust_covariance.py:165: RuntimeWarning: Warning! det > previous_det (22.869986879363672 > 22.716316581839401)\n",
      "  % (det, previous_det), RuntimeWarning)\n",
      "c:\\users\\zhen\\anaconda3\\envs\\pythondata\\lib\\site-packages\\sklearn\\covariance\\robust_covariance.py:165: RuntimeWarning: Warning! det > previous_det (22.883514824126387 > 22.731549933760387)\n",
      "  % (det, previous_det), RuntimeWarning)\n",
      "c:\\users\\zhen\\anaconda3\\envs\\pythondata\\lib\\site-packages\\sklearn\\covariance\\robust_covariance.py:165: RuntimeWarning: Warning! det > previous_det (22.893174177160059 > 22.737814075120014)\n",
      "  % (det, previous_det), RuntimeWarning)\n",
      "c:\\users\\zhen\\anaconda3\\envs\\pythondata\\lib\\site-packages\\sklearn\\covariance\\robust_covariance.py:165: RuntimeWarning: Warning! det > previous_det (22.909521509522232 > 22.761510387545449)\n",
      "  % (det, previous_det), RuntimeWarning)\n",
      "c:\\users\\zhen\\anaconda3\\envs\\pythondata\\lib\\site-packages\\sklearn\\covariance\\robust_covariance.py:165: RuntimeWarning: Warning! det > previous_det (22.904265086665088 > 22.757009297989637)\n",
      "  % (det, previous_det), RuntimeWarning)\n",
      "c:\\users\\zhen\\anaconda3\\envs\\pythondata\\lib\\site-packages\\sklearn\\covariance\\robust_covariance.py:165: RuntimeWarning: Warning! det > previous_det (22.951423186544854 > 22.831820587903820)\n",
      "  % (det, previous_det), RuntimeWarning)\n",
      "c:\\users\\zhen\\anaconda3\\envs\\pythondata\\lib\\site-packages\\sklearn\\covariance\\robust_covariance.py:165: RuntimeWarning: Warning! det > previous_det (22.802714111491376 > 22.638747990403218)\n",
      "  % (det, previous_det), RuntimeWarning)\n",
      "c:\\users\\zhen\\anaconda3\\envs\\pythondata\\lib\\site-packages\\sklearn\\covariance\\robust_covariance.py:165: RuntimeWarning: Warning! det > previous_det (22.980533931779803 > 22.861854276479381)\n",
      "  % (det, previous_det), RuntimeWarning)\n",
      "c:\\users\\zhen\\anaconda3\\envs\\pythondata\\lib\\site-packages\\sklearn\\covariance\\robust_covariance.py:165: RuntimeWarning: Warning! det > previous_det (23.010799953580108 > 22.895426587738587)\n",
      "  % (det, previous_det), RuntimeWarning)\n",
      "c:\\users\\zhen\\anaconda3\\envs\\pythondata\\lib\\site-packages\\sklearn\\covariance\\robust_covariance.py:165: RuntimeWarning: Warning! det > previous_det (23.015509725016237 > 22.903241886689571)\n",
      "  % (det, previous_det), RuntimeWarning)\n",
      "c:\\users\\zhen\\anaconda3\\envs\\pythondata\\lib\\site-packages\\sklearn\\covariance\\robust_covariance.py:165: RuntimeWarning: Warning! det > previous_det (22.845282339473268 > 22.685024882234735)\n",
      "  % (det, previous_det), RuntimeWarning)\n",
      "c:\\users\\zhen\\anaconda3\\envs\\pythondata\\lib\\site-packages\\sklearn\\covariance\\robust_covariance.py:165: RuntimeWarning: Warning! det > previous_det (22.893174177160059 > 22.731967980727561)\n",
      "  % (det, previous_det), RuntimeWarning)\n",
      "c:\\users\\zhen\\anaconda3\\envs\\pythondata\\lib\\site-packages\\sklearn\\covariance\\robust_covariance.py:165: RuntimeWarning: Warning! det > previous_det (22.560909827154980 > 22.357892786168772)\n",
      "  % (det, previous_det), RuntimeWarning)\n",
      "c:\\users\\zhen\\anaconda3\\envs\\pythondata\\lib\\site-packages\\sklearn\\covariance\\robust_covariance.py:165: RuntimeWarning: Warning! det > previous_det (22.612161188644386 > 22.441663019213387)\n",
      "  % (det, previous_det), RuntimeWarning)\n",
      "c:\\users\\zhen\\anaconda3\\envs\\pythondata\\lib\\site-packages\\sklearn\\covariance\\robust_covariance.py:165: RuntimeWarning: Warning! det > previous_det (22.735359488883194 > 22.587423370430585)\n",
      "  % (det, previous_det), RuntimeWarning)\n",
      "c:\\users\\zhen\\anaconda3\\envs\\pythondata\\lib\\site-packages\\sklearn\\covariance\\robust_covariance.py:165: RuntimeWarning: Warning! det > previous_det (22.744334410548255 > 22.588892146917910)\n",
      "  % (det, previous_det), RuntimeWarning)\n",
      "c:\\users\\zhen\\anaconda3\\envs\\pythondata\\lib\\site-packages\\sklearn\\covariance\\robust_covariance.py:165: RuntimeWarning: Warning! det > previous_det (22.802714111491376 > 22.640424076674076)\n",
      "  % (det, previous_det), RuntimeWarning)\n",
      "c:\\users\\zhen\\anaconda3\\envs\\pythondata\\lib\\site-packages\\sklearn\\covariance\\robust_covariance.py:165: RuntimeWarning: Warning! det > previous_det (22.917576205689940 > 22.793785307835151)\n",
      "  % (det, previous_det), RuntimeWarning)\n",
      "c:\\users\\zhen\\anaconda3\\envs\\pythondata\\lib\\site-packages\\sklearn\\covariance\\robust_covariance.py:165: RuntimeWarning: Warning! det > previous_det (22.918803352730521 > 22.818284976100589)\n",
      "  % (det, previous_det), RuntimeWarning)\n",
      "c:\\users\\zhen\\anaconda3\\envs\\pythondata\\lib\\site-packages\\sklearn\\covariance\\robust_covariance.py:165: RuntimeWarning: Warning! det > previous_det (22.953868019759433 > 22.863641531385049)\n",
      "  % (det, previous_det), RuntimeWarning)\n",
      "c:\\users\\zhen\\anaconda3\\envs\\pythondata\\lib\\site-packages\\sklearn\\covariance\\robust_covariance.py:165: RuntimeWarning: Warning! det > previous_det (22.737299600858012 > 22.585718793100284)\n",
      "  % (det, previous_det), RuntimeWarning)\n",
      "c:\\users\\zhen\\anaconda3\\envs\\pythondata\\lib\\site-packages\\sklearn\\covariance\\robust_covariance.py:165: RuntimeWarning: Warning! det > previous_det (22.930441667037680 > 22.783051585779162)\n",
      "  % (det, previous_det), RuntimeWarning)\n",
      "c:\\users\\zhen\\anaconda3\\envs\\pythondata\\lib\\site-packages\\sklearn\\covariance\\robust_covariance.py:165: RuntimeWarning: Warning! det > previous_det (22.945266275531644 > 22.817811746466042)\n",
      "  % (det, previous_det), RuntimeWarning)\n",
      "c:\\users\\zhen\\anaconda3\\envs\\pythondata\\lib\\site-packages\\sklearn\\covariance\\robust_covariance.py:165: RuntimeWarning: Warning! det > previous_det (22.971042039293369 > 22.841972830164160)\n",
      "  % (det, previous_det), RuntimeWarning)\n",
      "c:\\users\\zhen\\anaconda3\\envs\\pythondata\\lib\\site-packages\\sklearn\\covariance\\robust_covariance.py:165: RuntimeWarning: Warning! det > previous_det (22.513980583558350 > 22.187482896613112)\n",
      "  % (det, previous_det), RuntimeWarning)\n",
      "c:\\users\\zhen\\anaconda3\\envs\\pythondata\\lib\\site-packages\\sklearn\\covariance\\robust_covariance.py:165: RuntimeWarning: Warning! det > previous_det (22.513980583558350 > 22.187533631322609)\n",
      "  % (det, previous_det), RuntimeWarning)\n",
      "c:\\users\\zhen\\anaconda3\\envs\\pythondata\\lib\\site-packages\\sklearn\\covariance\\robust_covariance.py:165: RuntimeWarning: Warning! det > previous_det (22.513976709782721 > 22.187833662015937)\n",
      "  % (det, previous_det), RuntimeWarning)\n",
      "c:\\users\\zhen\\anaconda3\\envs\\pythondata\\lib\\site-packages\\sklearn\\covariance\\robust_covariance.py:165: RuntimeWarning: Warning! det > previous_det (22.514128731128043 > 22.187927201142621)\n",
      "  % (det, previous_det), RuntimeWarning)\n",
      "c:\\users\\zhen\\anaconda3\\envs\\pythondata\\lib\\site-packages\\sklearn\\covariance\\robust_covariance.py:165: RuntimeWarning: Warning! det > previous_det (22.513466033051614 > 22.188260145241600)\n",
      "  % (det, previous_det), RuntimeWarning)\n",
      "c:\\users\\zhen\\anaconda3\\envs\\pythondata\\lib\\site-packages\\sklearn\\covariance\\robust_covariance.py:165: RuntimeWarning: Warning! det > previous_det (22.514788951899554 > 22.188780311351163)\n",
      "  % (det, previous_det), RuntimeWarning)\n",
      "c:\\users\\zhen\\anaconda3\\envs\\pythondata\\lib\\site-packages\\sklearn\\covariance\\robust_covariance.py:165: RuntimeWarning: Warning! det > previous_det (22.515142976198224 > 22.189522897703270)\n",
      "  % (det, previous_det), RuntimeWarning)\n",
      "c:\\users\\zhen\\anaconda3\\envs\\pythondata\\lib\\site-packages\\sklearn\\covariance\\robust_covariance.py:165: RuntimeWarning: Warning! det > previous_det (22.519547807159014 > 22.193361242080353)\n",
      "  % (det, previous_det), RuntimeWarning)\n"
     ]
    },
    {
     "name": "stderr",
     "output_type": "stream",
     "text": [
      "c:\\users\\zhen\\anaconda3\\envs\\pythondata\\lib\\site-packages\\sklearn\\covariance\\robust_covariance.py:165: RuntimeWarning: Warning! det > previous_det (22.525828587780580 > 22.199598514635749)\n",
      "  % (det, previous_det), RuntimeWarning)\n",
      "c:\\users\\zhen\\anaconda3\\envs\\pythondata\\lib\\site-packages\\scipy\\stats\\stats.py:1713: FutureWarning: Using a non-tuple sequence for multidimensional indexing is deprecated; use `arr[tuple(seq)]` instead of `arr[seq]`. In the future this will be interpreted as an array index, `arr[np.array(seq)]`, which will result either in an error or a different result.\n",
      "  return np.add.reduce(sorted[indexer] * weights, axis=axis) / sumval\n"
     ]
    }
   ],
   "source": [
    "from sklearn.covariance import EllipticEnvelope\n",
    "outlier1 = EllipticEnvelope(contamination=0.1)\n",
    "outlier1.fit(feature)\n",
    "prediction2 = outlier1.predict(feature)"
   ]
  },
  {
   "cell_type": "code",
   "execution_count": 10,
   "metadata": {},
   "outputs": [
    {
     "name": "stderr",
     "output_type": "stream",
     "text": [
      "c:\\users\\zhen\\anaconda3\\envs\\pythondata\\lib\\site-packages\\ipykernel_launcher.py:1: SettingWithCopyWarning: \n",
      "A value is trying to be set on a copy of a slice from a DataFrame.\n",
      "Try using .loc[row_indexer,col_indexer] = value instead\n",
      "\n",
      "See the caveats in the documentation: http://pandas.pydata.org/pandas-docs/stable/indexing.html#indexing-view-versus-copy\n",
      "  \"\"\"Entry point for launching an IPython kernel.\n"
     ]
    }
   ],
   "source": [
    "newDF['outliers'] = prediction2"
   ]
  },
  {
   "cell_type": "code",
   "execution_count": 11,
   "metadata": {},
   "outputs": [
    {
     "data": {
      "text/plain": [
       "CONTROL      2710\n",
       "OMB13CBSA    2710\n",
       "MARKETVAL    2710\n",
       "TOTROOMS     2710\n",
       "YRBUILT      2710\n",
       "UNITSIZE     2710\n",
       "BEDROOMS     2710\n",
       "BATHROOMS    2710\n",
       "BLD          2710\n",
       "NHQSCHOOL    2710\n",
       "NHQSCRIME    2710\n",
       "RATINGNH     2710\n",
       "outliers     2710\n",
       "dtype: int64"
      ]
     },
     "execution_count": 11,
     "metadata": {},
     "output_type": "execute_result"
    }
   ],
   "source": [
    "newDF[newDF['outliers'] == -1].count()"
   ]
  },
  {
   "cell_type": "code",
   "execution_count": 12,
   "metadata": {},
   "outputs": [
    {
     "data": {
      "text/plain": [
       "CONTROL      24385\n",
       "OMB13CBSA    24385\n",
       "MARKETVAL    24385\n",
       "TOTROOMS     24385\n",
       "YRBUILT      24385\n",
       "UNITSIZE     24385\n",
       "BEDROOMS     24385\n",
       "BATHROOMS    24385\n",
       "BLD          24385\n",
       "NHQSCHOOL    24385\n",
       "NHQSCRIME    24385\n",
       "RATINGNH     24385\n",
       "outliers     24385\n",
       "dtype: int64"
      ]
     },
     "execution_count": 12,
     "metadata": {},
     "output_type": "execute_result"
    }
   ],
   "source": [
    "newDF[newDF['outliers'] != -1].count()"
   ]
  },
  {
   "cell_type": "code",
   "execution_count": 13,
   "metadata": {},
   "outputs": [
    {
     "data": {
      "text/html": [
       "<div>\n",
       "<style scoped>\n",
       "    .dataframe tbody tr th:only-of-type {\n",
       "        vertical-align: middle;\n",
       "    }\n",
       "\n",
       "    .dataframe tbody tr th {\n",
       "        vertical-align: top;\n",
       "    }\n",
       "\n",
       "    .dataframe thead th {\n",
       "        text-align: right;\n",
       "    }\n",
       "</style>\n",
       "<table border=\"1\" class=\"dataframe\">\n",
       "  <thead>\n",
       "    <tr style=\"text-align: right;\">\n",
       "      <th></th>\n",
       "      <th>CONTROL</th>\n",
       "      <th>OMB13CBSA</th>\n",
       "      <th>MARKETVAL</th>\n",
       "      <th>TOTROOMS</th>\n",
       "      <th>YRBUILT</th>\n",
       "      <th>UNITSIZE</th>\n",
       "      <th>BEDROOMS</th>\n",
       "      <th>BATHROOMS</th>\n",
       "      <th>BLD</th>\n",
       "      <th>NHQSCHOOL</th>\n",
       "      <th>NHQSCRIME</th>\n",
       "      <th>RATINGNH</th>\n",
       "      <th>outliers</th>\n",
       "    </tr>\n",
       "  </thead>\n",
       "  <tbody>\n",
       "    <tr>\n",
       "      <th>0</th>\n",
       "      <td>11000001</td>\n",
       "      <td>37980</td>\n",
       "      <td>307811.0</td>\n",
       "      <td>8</td>\n",
       "      <td>2000</td>\n",
       "      <td>6.0</td>\n",
       "      <td>3</td>\n",
       "      <td>4</td>\n",
       "      <td>2</td>\n",
       "      <td>1.0</td>\n",
       "      <td>2.0</td>\n",
       "      <td>10.0</td>\n",
       "      <td>1</td>\n",
       "    </tr>\n",
       "    <tr>\n",
       "      <th>2</th>\n",
       "      <td>11000005</td>\n",
       "      <td>99998</td>\n",
       "      <td>229992.0</td>\n",
       "      <td>8</td>\n",
       "      <td>1970</td>\n",
       "      <td>6.0</td>\n",
       "      <td>4</td>\n",
       "      <td>5</td>\n",
       "      <td>2</td>\n",
       "      <td>1.0</td>\n",
       "      <td>2.0</td>\n",
       "      <td>8.0</td>\n",
       "      <td>1</td>\n",
       "    </tr>\n",
       "    <tr>\n",
       "      <th>3</th>\n",
       "      <td>11000006</td>\n",
       "      <td>99998</td>\n",
       "      <td>132220.0</td>\n",
       "      <td>5</td>\n",
       "      <td>1980</td>\n",
       "      <td>4.0</td>\n",
       "      <td>3</td>\n",
       "      <td>3</td>\n",
       "      <td>2</td>\n",
       "      <td>1.0</td>\n",
       "      <td>2.0</td>\n",
       "      <td>10.0</td>\n",
       "      <td>1</td>\n",
       "    </tr>\n",
       "    <tr>\n",
       "      <th>4</th>\n",
       "      <td>11000007</td>\n",
       "      <td>37980</td>\n",
       "      <td>271584.0</td>\n",
       "      <td>8</td>\n",
       "      <td>1960</td>\n",
       "      <td>7.0</td>\n",
       "      <td>4</td>\n",
       "      <td>4</td>\n",
       "      <td>2</td>\n",
       "      <td>2.0</td>\n",
       "      <td>2.0</td>\n",
       "      <td>7.0</td>\n",
       "      <td>1</td>\n",
       "    </tr>\n",
       "    <tr>\n",
       "      <th>9</th>\n",
       "      <td>11000013</td>\n",
       "      <td>37980</td>\n",
       "      <td>573123.0</td>\n",
       "      <td>8</td>\n",
       "      <td>1980</td>\n",
       "      <td>8.0</td>\n",
       "      <td>3</td>\n",
       "      <td>4</td>\n",
       "      <td>2</td>\n",
       "      <td>1.0</td>\n",
       "      <td>2.0</td>\n",
       "      <td>8.0</td>\n",
       "      <td>1</td>\n",
       "    </tr>\n",
       "  </tbody>\n",
       "</table>\n",
       "</div>"
      ],
      "text/plain": [
       "    CONTROL  OMB13CBSA  MARKETVAL  TOTROOMS  YRBUILT  UNITSIZE  BEDROOMS  \\\n",
       "0  11000001      37980   307811.0         8     2000       6.0         3   \n",
       "2  11000005      99998   229992.0         8     1970       6.0         4   \n",
       "3  11000006      99998   132220.0         5     1980       4.0         3   \n",
       "4  11000007      37980   271584.0         8     1960       7.0         4   \n",
       "9  11000013      37980   573123.0         8     1980       8.0         3   \n",
       "\n",
       "   BATHROOMS  BLD  NHQSCHOOL  NHQSCRIME  RATINGNH  outliers  \n",
       "0          4    2        1.0        2.0      10.0         1  \n",
       "2          5    2        1.0        2.0       8.0         1  \n",
       "3          3    2        1.0        2.0      10.0         1  \n",
       "4          4    2        2.0        2.0       7.0         1  \n",
       "9          4    2        1.0        2.0       8.0         1  "
      ]
     },
     "execution_count": 13,
     "metadata": {},
     "output_type": "execute_result"
    }
   ],
   "source": [
    "newDF_in = newDF.loc[(\n",
    "    newDF['outliers'] == 1)]\n",
    "newDF_in.head()"
   ]
  },
  {
   "cell_type": "code",
   "execution_count": 14,
   "metadata": {},
   "outputs": [],
   "source": [
    "#Export CSV file without Pandas index, include header\n",
    "newDF_in.to_csv(\"dataset/data_cleanOutliers.csv\", index=False, header=True)"
   ]
  },
  {
   "cell_type": "markdown",
   "metadata": {},
   "source": [
    "# Linear Regression"
   ]
  },
  {
   "cell_type": "markdown",
   "metadata": {},
   "source": [
    "## Market Value & Total Rooms"
   ]
  },
  {
   "cell_type": "code",
   "execution_count": 19,
   "metadata": {},
   "outputs": [
    {
     "name": "stdout",
     "output_type": "stream",
     "text": [
      "Shape:  (24385, 1) (24385, 1)\n"
     ]
    }
   ],
   "source": [
    "y = newDF_in[\"MARKETVAL\"].values.reshape(-1, 1)\n",
    "X = newDF_in[\"TOTROOMS\"].values.reshape(-1, 1)\n",
    "\n",
    "print(\"Shape: \", X.shape, y.shape)\n"
   ]
  },
  {
   "cell_type": "code",
   "execution_count": 20,
   "metadata": {},
   "outputs": [
    {
     "name": "stdout",
     "output_type": "stream",
     "text": [
      "[[8]\n",
      " [8]\n",
      " [5]\n",
      " ...\n",
      " [7]\n",
      " [5]\n",
      " [7]] [[307811.]\n",
      " [229992.]\n",
      " [132220.]\n",
      " ...\n",
      " [590394.]\n",
      " [307518.]\n",
      " [393286.]]\n"
     ]
    }
   ],
   "source": [
    "print(X, y)"
   ]
  },
  {
   "cell_type": "code",
   "execution_count": 21,
   "metadata": {},
   "outputs": [],
   "source": [
    "#data_clean.head()"
   ]
  },
  {
   "cell_type": "code",
   "execution_count": 22,
   "metadata": {},
   "outputs": [
    {
     "data": {
      "text/plain": [
       "<matplotlib.collections.PathCollection at 0x2bfdff0ee10>"
      ]
     },
     "execution_count": 22,
     "metadata": {},
     "output_type": "execute_result"
    },
    {
     "data": {
      "image/png": "[encoded data removed]",
      "text/plain": [
       "<Figure size 432x288 with 1 Axes>"
      ]
     },
     "metadata": {
      "needs_background": "light"
     },
     "output_type": "display_data"
    }
   ],
   "source": [
    "plt.scatter(X, y)"
   ]
  },
  {
   "cell_type": "code",
   "execution_count": 23,
   "metadata": {},
   "outputs": [],
   "source": [
    "from sklearn.linear_model import LinearRegression\n",
    "model = LinearRegression()"
   ]
  },
  {
   "cell_type": "code",
   "execution_count": 24,
   "metadata": {},
   "outputs": [
    {
     "data": {
      "text/plain": [
       "LinearRegression(copy_X=True, fit_intercept=True, n_jobs=None,\n",
       "         normalize=False)"
      ]
     },
     "execution_count": 24,
     "metadata": {},
     "output_type": "execute_result"
    }
   ],
   "source": [
    "model.fit(X, y)"
   ]
  },
  {
   "cell_type": "code",
   "execution_count": 25,
   "metadata": {},
   "outputs": [
    {
     "name": "stdout",
     "output_type": "stream",
     "text": [
      "0.17785477261956206\n"
     ]
    }
   ],
   "source": [
    "#R2 score\n",
    "score = model.score(X, y)\n",
    "print(score)\n",
    "# 18% of our data fits within the model"
   ]
  },
  {
   "cell_type": "code",
   "execution_count": 26,
   "metadata": {},
   "outputs": [
    {
     "name": "stdout",
     "output_type": "stream",
     "text": [
      "Weight coefficients:  [[44347.00411701]]\n",
      "y-axis intercept : [-40936.44096492]\n"
     ]
    }
   ],
   "source": [
    "print('Weight coefficients: ', model.coef_)\n",
    "print('y-axis intercept :', model.intercept_)"
   ]
  },
  {
   "cell_type": "code",
   "execution_count": 27,
   "metadata": {},
   "outputs": [
    {
     "name": "stdout",
     "output_type": "stream",
     "text": [
      "Min X Value: [[1]]\n",
      "Max X Value: [[13]]\n"
     ]
    }
   ],
   "source": [
    "x_min = np.array([[X.min()]])\n",
    "x_max = np.array([[X.max()]])\n",
    "print(f\"Min X Value: {x_min}\")\n",
    "print(f\"Max X Value: {x_max}\")"
   ]
  },
  {
   "cell_type": "code",
   "execution_count": 28,
   "metadata": {},
   "outputs": [],
   "source": [
    "y_min = model.predict(x_min)\n",
    "y_max = model.predict(x_max)"
   ]
  },
  {
   "cell_type": "code",
   "execution_count": 29,
   "metadata": {},
   "outputs": [
    {
     "data": {
      "text/plain": [
       "[<matplotlib.lines.Line2D at 0x2bfdffa48d0>]"
      ]
     },
     "execution_count": 29,
     "metadata": {},
     "output_type": "execute_result"
    },
    {
     "data": {
      "image/png": "[encoded data removed]",
      "text/plain": [
       "<Figure size 432x288 with 1 Axes>"
      ]
     },
     "metadata": {
      "needs_background": "light"
     },
     "output_type": "display_data"
    }
   ],
   "source": [
    "plt.scatter(X, y, c='blue')\n",
    "plt.plot([x_min[0], x_max[0]], [y_min[0], y_max[0]], c='red')"
   ]
  },
  {
   "cell_type": "markdown",
   "metadata": {},
   "source": [
    "## Market Value & Year Built"
   ]
  },
  {
   "cell_type": "code",
   "execution_count": 30,
   "metadata": {},
   "outputs": [
    {
     "name": "stdout",
     "output_type": "stream",
     "text": [
      "Shape:  (24385, 1) (24385, 1)\n"
     ]
    }
   ],
   "source": [
    "# Determine if market value and year built are correlated \n",
    "y = newDF_in[\"MARKETVAL\"].values.reshape(-1, 1)\n",
    "X = newDF_in[\"YRBUILT\"].values.reshape(-1, 1)\n",
    "\n",
    "print(\"Shape: \", X.shape, y.shape)\n"
   ]
  },
  {
   "cell_type": "code",
   "execution_count": 31,
   "metadata": {},
   "outputs": [
    {
     "data": {
      "text/plain": [
       "<matplotlib.collections.PathCollection at 0x2bfe01e7a90>"
      ]
     },
     "execution_count": 31,
     "metadata": {},
     "output_type": "execute_result"
    },
    {
     "data": {
      "image/png": "[encoded data removed]",
      "text/plain": [
       "<Figure size 432x288 with 1 Axes>"
      ]
     },
     "metadata": {
      "needs_background": "light"
     },
     "output_type": "display_data"
    }
   ],
   "source": [
    "plt.scatter(X, y)"
   ]
  },
  {
   "cell_type": "code",
   "execution_count": 32,
   "metadata": {},
   "outputs": [],
   "source": [
    "from sklearn.linear_model import LinearRegression\n",
    "\n",
    "model = LinearRegression()"
   ]
  },
  {
   "cell_type": "code",
   "execution_count": 33,
   "metadata": {},
   "outputs": [
    {
     "data": {
      "text/plain": [
       "LinearRegression(copy_X=True, fit_intercept=True, n_jobs=None,\n",
       "         normalize=False)"
      ]
     },
     "execution_count": 33,
     "metadata": {},
     "output_type": "execute_result"
    }
   ],
   "source": [
    "model.fit(X, y)"
   ]
  },
  {
   "cell_type": "code",
   "execution_count": 34,
   "metadata": {},
   "outputs": [
    {
     "name": "stdout",
     "output_type": "stream",
     "text": [
      "0.017932296420225424\n"
     ]
    }
   ],
   "source": [
    "#R2 score\n",
    "score = model.score(X, y)\n",
    "print(score)\n",
    "#2% of data fits our model"
   ]
  },
  {
   "cell_type": "code",
   "execution_count": 35,
   "metadata": {},
   "outputs": [
    {
     "name": "stdout",
     "output_type": "stream",
     "text": [
      "Weight coefficients:  [[861.84430599]]\n",
      "y-axis intercept : [-1451533.02363114]\n"
     ]
    }
   ],
   "source": [
    "print('Weight coefficients: ', model.coef_)\n",
    "print('y-axis intercept :', model.intercept_)"
   ]
  },
  {
   "cell_type": "code",
   "execution_count": 36,
   "metadata": {},
   "outputs": [
    {
     "name": "stdout",
     "output_type": "stream",
     "text": [
      "Min X Value: [[1919]]\n",
      "Max X Value: [[2010]]\n"
     ]
    }
   ],
   "source": [
    "x_min = np.array([[X.min()]])\n",
    "x_max = np.array([[X.max()]])\n",
    "print(f\"Min X Value: {x_min}\")\n",
    "print(f\"Max X Value: {x_max}\")"
   ]
  },
  {
   "cell_type": "code",
   "execution_count": 37,
   "metadata": {},
   "outputs": [],
   "source": [
    "y_min = model.predict(x_min)\n",
    "y_max = model.predict(x_max)"
   ]
  },
  {
   "cell_type": "code",
   "execution_count": 38,
   "metadata": {},
   "outputs": [
    {
     "name": "stdout",
     "output_type": "stream",
     "text": [
      "Min y Value: [[202346.19955802]]\n",
      "Max y Value: [[280774.03140284]]\n"
     ]
    }
   ],
   "source": [
    "print(f\"Min y Value: {y_min}\")\n",
    "print(f\"Max y Value: {y_max}\")"
   ]
  },
  {
   "cell_type": "code",
   "execution_count": 39,
   "metadata": {},
   "outputs": [
    {
     "data": {
      "text/plain": [
       "[<matplotlib.lines.Line2D at 0x2bfe0211c18>]"
      ]
     },
     "execution_count": 39,
     "metadata": {},
     "output_type": "execute_result"
    },
    {
     "data": {
      "image/png": "[encoded data removed]",
      "text/plain": [
       "<Figure size 432x288 with 1 Axes>"
      ]
     },
     "metadata": {
      "needs_background": "light"
     },
     "output_type": "display_data"
    }
   ],
   "source": [
    "plt.scatter(X, y, c='blue')\n",
    "plt.plot([x_min[0], x_max[0]], [y_min[0], y_max[0]], c='red')"
   ]
  },
  {
   "cell_type": "markdown",
   "metadata": {},
   "source": [
    "## Market Value & Unit Size"
   ]
  },
  {
   "cell_type": "code",
   "execution_count": 40,
   "metadata": {},
   "outputs": [
    {
     "name": "stdout",
     "output_type": "stream",
     "text": [
      "Shape:  (24385, 1) (24385, 1)\n"
     ]
    }
   ],
   "source": [
    "# Determine if market value and unit size are correlated \n",
    "y = newDF_in[\"MARKETVAL\"].values.reshape(-1, 1)\n",
    "X = newDF_in[\"UNITSIZE\"].values.reshape(-1, 1)\n",
    "\n",
    "print(\"Shape: \", X.shape, y.shape)"
   ]
  },
  {
   "cell_type": "code",
   "execution_count": 41,
   "metadata": {},
   "outputs": [
    {
     "data": {
      "text/plain": [
       "<matplotlib.collections.PathCollection at 0x2bfe02b1cf8>"
      ]
     },
     "execution_count": 41,
     "metadata": {},
     "output_type": "execute_result"
    },
    {
     "data": {
      "image/png": "[encoded data removed]",
      "text/plain": [
       "<Figure size 432x288 with 1 Axes>"
      ]
     },
     "metadata": {
      "needs_background": "light"
     },
     "output_type": "display_data"
    }
   ],
   "source": [
    "plt.scatter(X, y)"
   ]
  },
  {
   "cell_type": "code",
   "execution_count": 42,
   "metadata": {},
   "outputs": [],
   "source": [
    "from sklearn.linear_model import LinearRegression\n",
    "\n",
    "model = LinearRegression()"
   ]
  },
  {
   "cell_type": "code",
   "execution_count": 43,
   "metadata": {},
   "outputs": [
    {
     "data": {
      "text/plain": [
       "LinearRegression(copy_X=True, fit_intercept=True, n_jobs=None,\n",
       "         normalize=False)"
      ]
     },
     "execution_count": 43,
     "metadata": {},
     "output_type": "execute_result"
    }
   ],
   "source": [
    "model.fit(X, y)"
   ]
  },
  {
   "cell_type": "code",
   "execution_count": 44,
   "metadata": {},
   "outputs": [
    {
     "name": "stdout",
     "output_type": "stream",
     "text": [
      "0.19719147648736124\n"
     ]
    }
   ],
   "source": [
    "#R2 score\n",
    "score = model.score(X, y)\n",
    "print(score)\n",
    "#20% of our data fits within the model"
   ]
  },
  {
   "cell_type": "code",
   "execution_count": 45,
   "metadata": {},
   "outputs": [
    {
     "name": "stdout",
     "output_type": "stream",
     "text": [
      "Weight coefficients:  [[43901.7618627]]\n",
      "y-axis intercept : [8129.37272107]\n"
     ]
    }
   ],
   "source": [
    "print('Weight coefficients: ', model.coef_)\n",
    "print('y-axis intercept :', model.intercept_)"
   ]
  },
  {
   "cell_type": "code",
   "execution_count": 46,
   "metadata": {},
   "outputs": [
    {
     "name": "stdout",
     "output_type": "stream",
     "text": [
      "Min X Value: [[1.]]\n",
      "Max X Value: [[9.]]\n"
     ]
    }
   ],
   "source": [
    "x_min = np.array([[X.min()]])\n",
    "x_max = np.array([[X.max()]])\n",
    "print(f\"Min X Value: {x_min}\")\n",
    "print(f\"Max X Value: {x_max}\")"
   ]
  },
  {
   "cell_type": "code",
   "execution_count": 47,
   "metadata": {},
   "outputs": [],
   "source": [
    "y_min = model.predict(x_min)\n",
    "y_max = model.predict(x_max)"
   ]
  },
  {
   "cell_type": "code",
   "execution_count": 48,
   "metadata": {},
   "outputs": [
    {
     "data": {
      "text/plain": [
       "[<matplotlib.lines.Line2D at 0x2bfe02d9828>]"
      ]
     },
     "execution_count": 48,
     "metadata": {},
     "output_type": "execute_result"
    },
    {
     "data": {
      "image/png": "[encoded data removed]",
      "text/plain": [
       "<Figure size 432x288 with 1 Axes>"
      ]
     },
     "metadata": {
      "needs_background": "light"
     },
     "output_type": "display_data"
    }
   ],
   "source": [
    "plt.scatter(X, y, c='blue')\n",
    "plt.plot([x_min[0], x_max[0]], [y_min[0], y_max[0]], c='red')"
   ]
  },
  {
   "cell_type": "markdown",
   "metadata": {},
   "source": [
    "## Market Value & Building Type"
   ]
  },
  {
   "cell_type": "code",
   "execution_count": 49,
   "metadata": {},
   "outputs": [
    {
     "name": "stdout",
     "output_type": "stream",
     "text": [
      "Shape:  (24385, 1) (24385, 1)\n"
     ]
    }
   ],
   "source": [
    "# Determine if market value and building type are correlated \n",
    "y = newDF_in[\"MARKETVAL\"].values.reshape(-1, 1)\n",
    "X = newDF_in[\"BLD\"].values.reshape(-1, 1)\n",
    "\n",
    "print(\"Shape: \", X.shape, y.shape)"
   ]
  },
  {
   "cell_type": "code",
   "execution_count": 50,
   "metadata": {},
   "outputs": [
    {
     "data": {
      "text/plain": [
       "<matplotlib.collections.PathCollection at 0x2bfe039a048>"
      ]
     },
     "execution_count": 50,
     "metadata": {},
     "output_type": "execute_result"
    },
    {
     "data": {
      "image/png": "[encoded data removed]",
      "text/plain": [
       "<Figure size 432x288 with 1 Axes>"
      ]
     },
     "metadata": {
      "needs_background": "light"
     },
     "output_type": "display_data"
    }
   ],
   "source": [
    "plt.scatter(X, y)"
   ]
  },
  {
   "cell_type": "code",
   "execution_count": 51,
   "metadata": {},
   "outputs": [],
   "source": [
    "from sklearn.linear_model import LinearRegression\n",
    "\n",
    "model = LinearRegression()"
   ]
  },
  {
   "cell_type": "code",
   "execution_count": 52,
   "metadata": {},
   "outputs": [
    {
     "data": {
      "text/plain": [
       "LinearRegression(copy_X=True, fit_intercept=True, n_jobs=None,\n",
       "         normalize=False)"
      ]
     },
     "execution_count": 52,
     "metadata": {},
     "output_type": "execute_result"
    }
   ],
   "source": [
    "model.fit(X, y)"
   ]
  },
  {
   "cell_type": "code",
   "execution_count": 53,
   "metadata": {},
   "outputs": [
    {
     "name": "stdout",
     "output_type": "stream",
     "text": [
      "0.03702299687668864\n"
     ]
    }
   ],
   "source": [
    "#R2 score\n",
    "score = model.score(X, y)\n",
    "print(score)\n",
    "# 4% of our data fits within the model"
   ]
  },
  {
   "cell_type": "code",
   "execution_count": 54,
   "metadata": {},
   "outputs": [
    {
     "name": "stdout",
     "output_type": "stream",
     "text": [
      "Weight coefficients:  [[75608.38085376]]\n",
      "y-axis intercept : [97941.41307689]\n"
     ]
    }
   ],
   "source": [
    "print('Weight coefficients: ', model.coef_)\n",
    "print('y-axis intercept :', model.intercept_)"
   ]
  },
  {
   "cell_type": "code",
   "execution_count": 55,
   "metadata": {},
   "outputs": [
    {
     "name": "stdout",
     "output_type": "stream",
     "text": [
      "Min X Value: [[1]]\n",
      "Max X Value: [[10]]\n"
     ]
    }
   ],
   "source": [
    "x_min = np.array([[X.min()]])\n",
    "x_max = np.array([[X.max()]])\n",
    "print(f\"Min X Value: {x_min}\")\n",
    "print(f\"Max X Value: {x_max}\")"
   ]
  },
  {
   "cell_type": "code",
   "execution_count": 56,
   "metadata": {},
   "outputs": [],
   "source": [
    "y_min = model.predict(x_min)\n",
    "y_max = model.predict(x_max)"
   ]
  },
  {
   "cell_type": "code",
   "execution_count": 57,
   "metadata": {},
   "outputs": [
    {
     "data": {
      "text/plain": [
       "[<matplotlib.lines.Line2D at 0x2bfe03c7128>]"
      ]
     },
     "execution_count": 57,
     "metadata": {},
     "output_type": "execute_result"
    },
    {
     "data": {
      "image/png": "[encoded data removed]",
      "text/plain": [
       "<Figure size 432x288 with 1 Axes>"
      ]
     },
     "metadata": {
      "needs_background": "light"
     },
     "output_type": "display_data"
    }
   ],
   "source": [
    "plt.scatter(X, y, c='blue')\n",
    "plt.plot([x_min[0], x_max[0]], [y_min[0], y_max[0]], c='red')"
   ]
  },
  {
   "cell_type": "markdown",
   "metadata": {},
   "source": [
    "## Market Value & Neighborhood "
   ]
  },
  {
   "cell_type": "code",
   "execution_count": 77,
   "metadata": {},
   "outputs": [],
   "source": [
    "# Determine if market value and neighborhood rating are correlated \n",
    "#y = newDF_in[\"MARKETVAL\"].values.reshape(-1, 1)\n",
    "#X = newDF_in[\"RATINGNH\"].values.reshape(-1, 1)\n",
    "\n",
    "#print(\"Shape: \", X.shape, y.shape)"
   ]
  },
  {
   "cell_type": "code",
   "execution_count": null,
   "metadata": {},
   "outputs": [],
   "source": [
    "#plt.scatter(X, y)"
   ]
  },
  {
   "cell_type": "code",
   "execution_count": null,
   "metadata": {},
   "outputs": [],
   "source": [
    "#from sklearn.linear_model import LinearRegression\n",
    "#model = LinearRegression()"
   ]
  },
  {
   "cell_type": "code",
   "execution_count": null,
   "metadata": {},
   "outputs": [],
   "source": [
    "#model.fit(X, y)"
   ]
  },
  {
   "cell_type": "code",
   "execution_count": null,
   "metadata": {},
   "outputs": [],
   "source": [
    "#R2 score\n",
    "#score = model.score(X, y)\n",
    "#print(score)\n",
    "# of our data fits within the model"
   ]
  },
  {
   "cell_type": "code",
   "execution_count": null,
   "metadata": {},
   "outputs": [],
   "source": [
    "#print('Weight coefficients: ', model.coef_)\n",
    "#print('y-axis intercept :', model.intercept_)"
   ]
  },
  {
   "cell_type": "code",
   "execution_count": null,
   "metadata": {},
   "outputs": [],
   "source": [
    "#x_min = np.array([[X.min()]])\n",
    "#x_max = np.array([[X.max()]])\n",
    "#print(f\"Min X Value: {x_min}\")\n",
    "#print(f\"Max X Value: {x_max}\")"
   ]
  },
  {
   "cell_type": "code",
   "execution_count": null,
   "metadata": {},
   "outputs": [],
   "source": [
    "#y_min = model.predict(x_min)\n",
    "#y_max = model.predict(x_max)"
   ]
  },
  {
   "cell_type": "code",
   "execution_count": null,
   "metadata": {},
   "outputs": [],
   "source": [
    "#plt.scatter(X, y, c='blue')\n",
    "#plt.plot([x_min[0], x_max[0]], [y_min[0], y_max[0]], c='red')"
   ]
  },
  {
   "cell_type": "markdown",
   "metadata": {},
   "source": [
    "## Market Value & Bedrooms"
   ]
  },
  {
   "cell_type": "code",
   "execution_count": 59,
   "metadata": {},
   "outputs": [
    {
     "name": "stdout",
     "output_type": "stream",
     "text": [
      "Shape:  (24385, 1) (24385, 1)\n"
     ]
    }
   ],
   "source": [
    "# Determine if market value and neighborhood rating are correlated \n",
    "y = newDF_in[\"MARKETVAL\"].values.reshape(-1, 1)\n",
    "X = newDF_in[\"BEDROOMS\"].values.reshape(-1, 1)\n",
    "\n",
    "print(\"Shape: \", X.shape, y.shape)"
   ]
  },
  {
   "cell_type": "code",
   "execution_count": 60,
   "metadata": {},
   "outputs": [
    {
     "data": {
      "text/plain": [
       "<matplotlib.collections.PathCollection at 0x2bfe0766c18>"
      ]
     },
     "execution_count": 60,
     "metadata": {},
     "output_type": "execute_result"
    },
    {
     "data": {
      "image/png": "[encoded data removed]",
      "text/plain": [
       "<Figure size 432x288 with 1 Axes>"
      ]
     },
     "metadata": {
      "needs_background": "light"
     },
     "output_type": "display_data"
    }
   ],
   "source": [
    "plt.scatter(X, y)"
   ]
  },
  {
   "cell_type": "code",
   "execution_count": 61,
   "metadata": {},
   "outputs": [],
   "source": [
    "from sklearn.linear_model import LinearRegression\n",
    "\n",
    "model = LinearRegression()"
   ]
  },
  {
   "cell_type": "code",
   "execution_count": 62,
   "metadata": {},
   "outputs": [
    {
     "data": {
      "text/plain": [
       "LinearRegression(copy_X=True, fit_intercept=True, n_jobs=None,\n",
       "         normalize=False)"
      ]
     },
     "execution_count": 62,
     "metadata": {},
     "output_type": "execute_result"
    }
   ],
   "source": [
    "model.fit(X, y)"
   ]
  },
  {
   "cell_type": "code",
   "execution_count": 63,
   "metadata": {},
   "outputs": [
    {
     "name": "stdout",
     "output_type": "stream",
     "text": [
      "0.11858676073312759\n"
     ]
    }
   ],
   "source": [
    "#R2 score\n",
    "score = model.score(X, y)\n",
    "print(score)\n",
    "# 12% of our data fits within the model"
   ]
  },
  {
   "cell_type": "code",
   "execution_count": 64,
   "metadata": {},
   "outputs": [
    {
     "name": "stdout",
     "output_type": "stream",
     "text": [
      "Weight coefficients:  [[66588.77341751]]\n",
      "y-axis intercept : [30840.55170534]\n"
     ]
    }
   ],
   "source": [
    "print('Weight coefficients: ', model.coef_)\n",
    "print('y-axis intercept :', model.intercept_)"
   ]
  },
  {
   "cell_type": "code",
   "execution_count": 65,
   "metadata": {},
   "outputs": [
    {
     "name": "stdout",
     "output_type": "stream",
     "text": [
      "Min X Value: [[0]]\n",
      "Max X Value: [[5]]\n"
     ]
    }
   ],
   "source": [
    "x_min = np.array([[X.min()]])\n",
    "x_max = np.array([[X.max()]])\n",
    "print(f\"Min X Value: {x_min}\")\n",
    "print(f\"Max X Value: {x_max}\")"
   ]
  },
  {
   "cell_type": "code",
   "execution_count": 66,
   "metadata": {},
   "outputs": [],
   "source": [
    "y_min = model.predict(x_min)\n",
    "y_max = model.predict(x_max)"
   ]
  },
  {
   "cell_type": "code",
   "execution_count": 67,
   "metadata": {},
   "outputs": [
    {
     "data": {
      "text/plain": [
       "[<matplotlib.lines.Line2D at 0x2bfe0797630>]"
      ]
     },
     "execution_count": 67,
     "metadata": {},
     "output_type": "execute_result"
    },
    {
     "data": {
      "image/png": "[encoded data removed]",
      "text/plain": [
       "<Figure size 432x288 with 1 Axes>"
      ]
     },
     "metadata": {
      "needs_background": "light"
     },
     "output_type": "display_data"
    }
   ],
   "source": [
    "plt.scatter(X, y, c='blue')\n",
    "plt.plot([x_min[0], x_max[0]], [y_min[0], y_max[0]], c='red')"
   ]
  },
  {
   "cell_type": "markdown",
   "metadata": {},
   "source": [
    "## Market Value & Bathrooms"
   ]
  },
  {
   "cell_type": "code",
   "execution_count": 68,
   "metadata": {},
   "outputs": [
    {
     "name": "stdout",
     "output_type": "stream",
     "text": [
      "Shape:  (24385, 1) (24385, 1)\n"
     ]
    }
   ],
   "source": [
    "# Determine if market value and neighborhood rating are correlated \n",
    "y = newDF_in[\"MARKETVAL\"].values.reshape(-1, 1)\n",
    "X = newDF_in[\"BATHROOMS\"].values.reshape(-1, 1)\n",
    "\n",
    "print(\"Shape: \", X.shape, y.shape)"
   ]
  },
  {
   "cell_type": "code",
   "execution_count": 69,
   "metadata": {},
   "outputs": [
    {
     "data": {
      "text/plain": [
       "<matplotlib.collections.PathCollection at 0x2bfe081df98>"
      ]
     },
     "execution_count": 69,
     "metadata": {},
     "output_type": "execute_result"
    },
    {
     "data": {
      "image/png": "[encoded data removed]",
      "text/plain": [
       "<Figure size 432x288 with 1 Axes>"
      ]
     },
     "metadata": {
      "needs_background": "light"
     },
     "output_type": "display_data"
    }
   ],
   "source": [
    "plt.scatter(X, y)"
   ]
  },
  {
   "cell_type": "code",
   "execution_count": 70,
   "metadata": {},
   "outputs": [],
   "source": [
    "from sklearn.linear_model import LinearRegression\n",
    "\n",
    "model = LinearRegression()"
   ]
  },
  {
   "cell_type": "code",
   "execution_count": 71,
   "metadata": {},
   "outputs": [
    {
     "data": {
      "text/plain": [
       "LinearRegression(copy_X=True, fit_intercept=True, n_jobs=None,\n",
       "         normalize=False)"
      ]
     },
     "execution_count": 71,
     "metadata": {},
     "output_type": "execute_result"
    }
   ],
   "source": [
    "model.fit(X, y)"
   ]
  },
  {
   "cell_type": "code",
   "execution_count": 72,
   "metadata": {},
   "outputs": [
    {
     "name": "stdout",
     "output_type": "stream",
     "text": [
      "0.18986694987742636\n"
     ]
    }
   ],
   "source": [
    "#R2 score\n",
    "score = model.score(X, y)\n",
    "print(score)\n",
    "# 19% of our data fits within the model"
   ]
  },
  {
   "cell_type": "code",
   "execution_count": 73,
   "metadata": {},
   "outputs": [
    {
     "name": "stdout",
     "output_type": "stream",
     "text": [
      "Weight coefficients:  [[52644.24611689]]\n",
      "y-axis intercept : [81799.26782248]\n"
     ]
    }
   ],
   "source": [
    "print('Weight coefficients: ', model.coef_)\n",
    "print('y-axis intercept :', model.intercept_)"
   ]
  },
  {
   "cell_type": "code",
   "execution_count": 74,
   "metadata": {},
   "outputs": [
    {
     "name": "stdout",
     "output_type": "stream",
     "text": [
      "Min X Value: [[1]]\n",
      "Max X Value: [[13]]\n"
     ]
    }
   ],
   "source": [
    "x_min = np.array([[X.min()]])\n",
    "x_max = np.array([[X.max()]])\n",
    "print(f\"Min X Value: {x_min}\")\n",
    "print(f\"Max X Value: {x_max}\")"
   ]
  },
  {
   "cell_type": "code",
   "execution_count": 75,
   "metadata": {},
   "outputs": [],
   "source": [
    "y_min = model.predict(x_min)\n",
    "y_max = model.predict(x_max)"
   ]
  },
  {
   "cell_type": "code",
   "execution_count": 76,
   "metadata": {},
   "outputs": [
    {
     "data": {
      "text/plain": [
       "[<matplotlib.lines.Line2D at 0x2bfe08625c0>]"
      ]
     },
     "execution_count": 76,
     "metadata": {},
     "output_type": "execute_result"
    },
    {
     "data": {
      "image/png": "[encoded data removed]",
      "text/plain": [
       "<Figure size 432x288 with 1 Axes>"
      ]
     },
     "metadata": {
      "needs_background": "light"
     },
     "output_type": "display_data"
    }
   ],
   "source": [
    "plt.scatter(X, y, c='blue')\n",
    "plt.plot([x_min[0], x_max[0]], [y_min[0], y_max[0]], c='red')"
   ]
  },
  {
   "cell_type": "code",
   "execution_count": null,
   "metadata": {},
   "outputs": [],
   "source": []
  }
 ],
 "metadata": {
  "kernelspec": {
   "display_name": "Python 3",
   "language": "python",
   "name": "python3"
  },
  "language_info": {
   "codemirror_mode": {
    "name": "ipython",
    "version": 3
   },
   "file_extension": ".py",
   "mimetype": "text/x-python",
   "name": "python",
   "nbconvert_exporter": "python",
   "pygments_lexer": "ipython3",
   "version": "3.6.6"
  }
 },
 "nbformat": 4,
 "nbformat_minor": 2
}
